{
 "cells": [
  {
   "cell_type": "code",
   "execution_count": 84,
   "id": "170d5ffd-b433-4903-80ee-225e9a842ba1",
   "metadata": {
    "tags": []
   },
   "outputs": [],
   "source": [
    "# define GPU\n",
    "import os\n",
    "import logging\n",
    "import sys\n",
    "sys.path.insert(1, os.path.join(sys.path[0], '../'))\n",
    "\n",
    "os.environ['CUDA_DEVICE_ORDER'] = 'PCI_BUS_ID'\n",
    "os.environ['CUDA_VISIBLE_DEVICES'] = '1'\n"
   ]
  },
  {
   "cell_type": "code",
   "execution_count": 85,
   "id": "e4b08eca-1af3-4b58-9188-07ba128ac0f2",
   "metadata": {
    "tags": []
   },
   "outputs": [
    {
     "name": "stdout",
     "output_type": "stream",
     "text": [
      "Thu Aug  3 11:48:14 2023       \n",
      "+-----------------------------------------------------------------------------+\n",
      "| NVIDIA-SMI 525.116.04   Driver Version: 525.116.04   CUDA Version: 12.0     |\n",
      "|-------------------------------+----------------------+----------------------+\n",
      "| GPU  Name        Persistence-M| Bus-Id        Disp.A | Volatile Uncorr. ECC |\n",
      "| Fan  Temp  Perf  Pwr:Usage/Cap|         Memory-Usage | GPU-Util  Compute M. |\n",
      "|                               |                      |               MIG M. |\n",
      "|===============================+======================+======================|\n",
      "|   0  NVIDIA GeForce ...  On   | 00000000:41:00.0 Off |                  N/A |\n",
      "| 30%   34C    P8    25W / 320W |     61MiB / 10240MiB |      0%      Default |\n",
      "|                               |                      |                  N/A |\n",
      "+-------------------------------+----------------------+----------------------+\n",
      "|   1  NVIDIA GeForce ...  On   | 00000000:61:00.0 Off |                  N/A |\n",
      "| 30%   31C    P8    26W / 320W |   1122MiB / 10240MiB |      1%      Default |\n",
      "|                               |                      |                  N/A |\n",
      "+-------------------------------+----------------------+----------------------+\n",
      "                                                                               \n",
      "+-----------------------------------------------------------------------------+\n",
      "| Processes:                                                                  |\n",
      "|  GPU   GI   CI        PID   Type   Process name                  GPU Memory |\n",
      "|        ID   ID                                                   Usage      |\n",
      "|=============================================================================|\n",
      "|    0   N/A  N/A      2386      G   /usr/lib/xorg/Xorg                 59MiB |\n",
      "|    1   N/A  N/A      2386      G   /usr/lib/xorg/Xorg                  4MiB |\n",
      "|    1   N/A  N/A    296872      C   /usr/bin/python3                 1114MiB |\n",
      "+-----------------------------------------------------------------------------+\n"
     ]
    }
   ],
   "source": [
    "!nvidia-smi\n"
   ]
  },
  {
   "cell_type": "code",
   "execution_count": 86,
   "id": "d3247d9c-4eb6-40ae-97b4-485b8fb1f502",
   "metadata": {
    "tags": []
   },
   "outputs": [
    {
     "data": {
      "text/plain": [
       "<module 'nids_federated_learning' from '/home/mark/Mark/FL_NIDS/federated_nids/nids_federated_learning.py'>"
      ]
     },
     "execution_count": 86,
     "metadata": {},
     "output_type": "execute_result"
    }
   ],
   "source": [
    "from tqdm import tqdm\n",
    "import copy\n",
    "import pickle\n",
    "import numpy as np\n",
    "import torch\n",
    "import torchvision\n",
    "import utils\n",
    "import nids_models\n",
    "import nids_federated_learning as fl\n",
    "import nids_training \n",
    "from torch import nn\n",
    "from nids_models import DNN\n",
    "from utils import CustomDataset, CustomDataset1\n",
    "from nids_training import evaluate_model\n",
    "from torch.utils.data import Dataset, DataLoader\n",
    "from sklearn.metrics import classification_report\n",
    "import importlib\n",
    "importlib.reload(utils)\n",
    "importlib.reload(nids_models)\n",
    "importlib.reload(fl)\n"
   ]
  },
  {
   "cell_type": "code",
   "execution_count": 87,
   "id": "5b35f14e-1320-4e96-bd10-327719573f88",
   "metadata": {
    "tags": []
   },
   "outputs": [
    {
     "data": {
      "text/plain": [
       "device(type='cuda')"
      ]
     },
     "execution_count": 87,
     "metadata": {},
     "output_type": "execute_result"
    }
   ],
   "source": [
    "device = torch.device('cuda' if torch.cuda.is_available() else 'cpu')\n",
    "device"
   ]
  },
  {
   "cell_type": "code",
   "execution_count": 88,
   "id": "b80f0c66-c916-491d-b7d2-cac5139f54fa",
   "metadata": {
    "tags": []
   },
   "outputs": [],
   "source": [
    "# Define dataset and settings.\n",
    "dataset_name = 'nids'\n",
    "\n",
    "# Define distribution settings.\n",
    "num_clients = 4\n",
    "# beta = 0.1 # [0.1, 0.5, 5]\n",
    "\n",
    "client_data_dir = os.path.join('./client_data/', dataset_name)\n",
    "save_dir = os.path.join('./output_nids/dnn_fedavg', dataset_name)\n",
    "os.makedirs(save_dir, exist_ok=True)\n",
    "os.makedirs(client_data_dir, exist_ok=True)"
   ]
  },
  {
   "cell_type": "code",
   "execution_count": 89,
   "id": "f12a6bd8-2877-4ef0-b46b-20c388ca710f",
   "metadata": {
    "tags": []
   },
   "outputs": [],
   "source": [
    "### Data config.\n",
    "batch_size = 32\n",
    "\n",
    "# Training config.\n",
    "lr = 0.0002\n",
    "num_rounds = 5 #2000 rounds\n",
    "num_local_epochs = 5\n",
    "save_interval = 1"
   ]
  },
  {
   "cell_type": "code",
   "execution_count": 90,
   "id": "79c7ba7c-ffef-4edf-96fb-edbba62bff93",
   "metadata": {
    "tags": []
   },
   "outputs": [
    {
     "name": "stdout",
     "output_type": "stream",
     "text": [
      "<class 'utils.CustomDataset'>\n"
     ]
    }
   ],
   "source": [
    "# This testing data includes all attack types from clients, created from centralized one.\n",
    "data_dir = os.path.join('./datasets/', dataset_name)\n",
    "test_dir = os.path.join(data_dir, 'test/')\n",
    "\n",
    "# # Open the pickle file in read mode\n",
    "# with open(test_dir + 'test.pkl', 'rb') as file:\n",
    "#     # Load the co\"ntents of the pickle file\n",
    "#     test_data = pickle.load(file)\n",
    "    \n",
    "# test_data = np.load(test_dir + 'test.npy', allow_pickle=True)\n",
    "# test_data = torch.load(test_dir + 'test.pkl')\n",
    "test_data = torch.load(test_dir + 'test_central_new.pkl')\n",
    "print(type(test_data))"
   ]
  },
  {
   "cell_type": "code",
   "execution_count": 91,
   "id": "61f04b86-32b9-44f0-8c09-c9337f4a3641",
   "metadata": {
    "tags": []
   },
   "outputs": [
    {
     "data": {
      "text/plain": [
       "129238"
      ]
     },
     "execution_count": 91,
     "metadata": {},
     "output_type": "execute_result"
    }
   ],
   "source": [
    "len(test_data)"
   ]
  },
  {
   "cell_type": "code",
   "execution_count": 92,
   "id": "2da6daa3-ccca-48fa-80ca-f047ed4b376e",
   "metadata": {
    "tags": []
   },
   "outputs": [
    {
     "data": {
      "text/plain": [
       "<utils.CustomDataset at 0x7f24b9afa5f0>"
      ]
     },
     "execution_count": 92,
     "metadata": {},
     "output_type": "execute_result"
    }
   ],
   "source": [
    "test_data"
   ]
  },
  {
   "cell_type": "code",
   "execution_count": 93,
   "id": "e4e06af3-2bad-4b22-9bbb-63e3642ecf69",
   "metadata": {
    "tags": []
   },
   "outputs": [],
   "source": [
    "test_loader = test_data"
   ]
  },
  {
   "cell_type": "code",
   "execution_count": 94,
   "id": "aca255df-d285-4e6a-ae3a-4d03743c3835",
   "metadata": {
    "tags": []
   },
   "outputs": [],
   "source": [
    "# test_loader = torch.utils.data.DataLoader(test_data, batch_size=batch_size, shuffle=True, num_workers=4, persistent_workers=True, pin_memory=True)"
   ]
  },
  {
   "cell_type": "code",
   "execution_count": 95,
   "id": "73b2a5f2-1698-48bc-b846-2f1851a7eb19",
   "metadata": {
    "tags": []
   },
   "outputs": [
    {
     "name": "stdout",
     "output_type": "stream",
     "text": [
      "./client_data/nids/0/0_train_new.csv\n",
      "./client_data/nids/1/1_train_new.csv\n",
      "./client_data/nids/2/2_train_new.csv\n",
      "./client_data/nids/3/3_train_new.csv\n"
     ]
    }
   ],
   "source": [
    "# Load client data.\n",
    "client_loaders = []\n",
    "for client_idx in range(num_clients):\n",
    "    data_dir = os.path.join(client_data_dir, str(client_idx) + '/{}_train_new.csv'.format(str(client_idx)))\n",
    "    # data_dir = os.path.join(client_data_dir, str(client_idx) + '/{}_sub.csv'.format(str(client_idx)))\n",
    "    # os.makedirs(data_dir, exist_ok=True)\n",
    "    print(data_dir)\n",
    "    dataset = CustomDataset(data_dir)\n",
    "    data_loader = torch.utils.data.DataLoader(dataset, batch_size=batch_size, shuffle=True, pin_memory=True)\n",
    "    client_loaders.append(data_loader)"
   ]
  },
  {
   "cell_type": "code",
   "execution_count": 96,
   "id": "8e625b7c-5fe2-4f49-b154-94de0dc48657",
   "metadata": {
    "tags": []
   },
   "outputs": [],
   "source": [
    "# Global model.\n",
    "input_size = 1525  # Number of features in the dataset\n",
    "# hidden_size = 256\n",
    "num_classes = 2\n",
    "\n",
    "glob_model = DNN(input_size, [512, 256, 128, 64], num_classes).to(device)\n",
    "\n",
    "# For logging model performance.\n",
    "performance_dict, performance_log = dict(), dict()\n",
    "metric_keys = ['g_train_loss', 'g_test_loss']\n",
    "for metric in metric_keys:\n",
    "    performance_dict[metric] = utils.MeanMetric()\n",
    "    performance_log[metric] = list()\n",
    "\n",
    "performance_dict, performance_log = utils.get_performance_loggers(metric_keys)"
   ]
  },
  {
   "cell_type": "code",
   "execution_count": 97,
   "id": "c5d4be02-e643-4114-a675-3cb5ad9a9d08",
   "metadata": {
    "tags": []
   },
   "outputs": [
    {
     "data": {
      "text/plain": [
       "'./output_nids/dnn_fedavg/nids'"
      ]
     },
     "execution_count": 97,
     "metadata": {},
     "output_type": "execute_result"
    }
   ],
   "source": [
    "save_dir"
   ]
  },
  {
   "cell_type": "code",
   "execution_count": 98,
   "id": "83c15b0b-2dac-4e61-b82d-d4691ac5ed04",
   "metadata": {
    "tags": []
   },
   "outputs": [],
   "source": [
    "# Automatic resuming from checkpoint.\n",
    "log_path = os.path.join(save_dir, 'performance_log.pickle')\n",
    "if os.path.isfile(log_path):\n",
    "    performance_log = utils.load_pickle(log_path)\n",
    "start_round = len(performance_log[metric_keys[0]])\n",
    "\n",
    "if start_round > 0:\n",
    "    glob_model.load_state_dict(torch.load(os.path.join(save_dir, 'g_r_{}.pth'.format(start_round))))"
   ]
  },
  {
   "cell_type": "code",
   "execution_count": 99,
   "id": "b99cd940-9d43-4418-b736-8273660c20b9",
   "metadata": {
    "tags": []
   },
   "outputs": [],
   "source": [
    "lambda_ = 0.1"
   ]
  },
  {
   "cell_type": "code",
   "execution_count": 100,
   "id": "111d8c3a-f8ca-41ea-8025-1841346cd9a3",
   "metadata": {
    "tags": []
   },
   "outputs": [
    {
     "name": "stdout",
     "output_type": "stream",
     "text": [
      "\n",
      " ==================== Round: 1 / 5 ====================\n",
      "\n",
      "client: 0\n"
     ]
    },
    {
     "name": "stderr",
     "output_type": "stream",
     "text": [
      "epoch 1/5: 100%|███████████████████████████| 4385/4385 [00:06<00:00, 729.44it/s]\n",
      "epoch 2/5: 100%|███████████████████████████| 4385/4385 [00:05<00:00, 737.93it/s]\n",
      "epoch 3/5: 100%|███████████████████████████| 4385/4385 [00:05<00:00, 739.46it/s]\n",
      "epoch 4/5: 100%|███████████████████████████| 4385/4385 [00:05<00:00, 732.02it/s]\n",
      "epoch 5/5: 100%|███████████████████████████| 4385/4385 [00:06<00:00, 728.79it/s]\n",
      "local_train_loss: 100%|███████████████████| 4385/4385 [00:02<00:00, 1508.31it/s]\n",
      "local_test_loss: 100%|████████████████| 129238/129238 [00:30<00:00, 4288.87it/s]\n"
     ]
    },
    {
     "name": "stdout",
     "output_type": "stream",
     "text": [
      "client: 1\n"
     ]
    },
    {
     "name": "stderr",
     "output_type": "stream",
     "text": [
      "epoch 1/5: 100%|███████████████████████████| 1574/1574 [00:02<00:00, 737.53it/s]\n",
      "epoch 2/5: 100%|███████████████████████████| 1574/1574 [00:02<00:00, 744.21it/s]\n",
      "epoch 3/5: 100%|███████████████████████████| 1574/1574 [00:02<00:00, 745.71it/s]\n",
      "epoch 4/5: 100%|███████████████████████████| 1574/1574 [00:02<00:00, 741.11it/s]\n",
      "epoch 5/5: 100%|███████████████████████████| 1574/1574 [00:02<00:00, 746.02it/s]\n",
      "local_train_loss: 100%|███████████████████| 1574/1574 [00:01<00:00, 1540.39it/s]\n",
      "local_test_loss: 100%|████████████████| 129238/129238 [00:29<00:00, 4419.89it/s]\n"
     ]
    },
    {
     "name": "stdout",
     "output_type": "stream",
     "text": [
      "client: 2\n"
     ]
    },
    {
     "name": "stderr",
     "output_type": "stream",
     "text": [
      "epoch 1/5: 100%|███████████████████████████| 3418/3418 [00:04<00:00, 715.98it/s]\n",
      "epoch 2/5: 100%|███████████████████████████| 3418/3418 [00:04<00:00, 738.56it/s]\n",
      "epoch 3/5: 100%|███████████████████████████| 3418/3418 [00:04<00:00, 734.71it/s]\n",
      "epoch 4/5: 100%|███████████████████████████| 3418/3418 [00:04<00:00, 741.53it/s]\n",
      "epoch 5/5: 100%|███████████████████████████| 3418/3418 [00:04<00:00, 743.26it/s]\n",
      "local_train_loss: 100%|███████████████████| 3418/3418 [00:02<00:00, 1540.83it/s]\n",
      "local_test_loss: 100%|████████████████| 129238/129238 [00:29<00:00, 4433.74it/s]\n"
     ]
    },
    {
     "name": "stdout",
     "output_type": "stream",
     "text": [
      "client: 3\n"
     ]
    },
    {
     "name": "stderr",
     "output_type": "stream",
     "text": [
      "epoch 1/5: 100%|███████████████████████████| 4385/4385 [00:05<00:00, 739.53it/s]\n",
      "epoch 2/5: 100%|███████████████████████████| 4385/4385 [00:06<00:00, 726.81it/s]\n",
      "epoch 3/5: 100%|███████████████████████████| 4385/4385 [00:05<00:00, 735.49it/s]\n",
      "epoch 4/5: 100%|███████████████████████████| 4385/4385 [00:06<00:00, 728.88it/s]\n",
      "epoch 5/5: 100%|███████████████████████████| 4385/4385 [00:06<00:00, 728.15it/s]\n",
      "local_train_loss: 100%|███████████████████| 4385/4385 [00:02<00:00, 1526.49it/s]\n",
      "local_test_loss: 100%|████████████████| 129238/129238 [00:29<00:00, 4431.11it/s]\n",
      "g_train_loss: 100%|███████████████████████| 4385/4385 [00:02<00:00, 1524.73it/s]\n",
      "g_train_loss: 100%|███████████████████████| 4385/4385 [00:02<00:00, 1528.90it/s]\n",
      "g_train_loss: 100%|███████████████████████| 4385/4385 [00:02<00:00, 1531.20it/s]\n",
      "g_train_loss: 100%|███████████████████████| 4385/4385 [00:02<00:00, 1522.27it/s]\n",
      "g_test_loss: 100%|████████████████████| 129238/129238 [00:27<00:00, 4722.22it/s]\n"
     ]
    },
    {
     "name": "stdout",
     "output_type": "stream",
     "text": [
      "g_test_loss :  0.12831651302356717\n",
      "g_train_loss :  0.04551174518075626\n",
      "\n",
      " ==================== Round: 2 / 5 ====================\n",
      "\n",
      "client: 0\n"
     ]
    },
    {
     "name": "stderr",
     "output_type": "stream",
     "text": [
      "epoch 1/5: 100%|███████████████████████████| 4385/4385 [00:05<00:00, 735.97it/s]\n",
      "epoch 2/5: 100%|███████████████████████████| 4385/4385 [00:06<00:00, 729.47it/s]\n",
      "epoch 3/5: 100%|███████████████████████████| 4385/4385 [00:05<00:00, 732.93it/s]\n",
      "epoch 4/5: 100%|███████████████████████████| 4385/4385 [00:05<00:00, 731.41it/s]\n",
      "epoch 5/5: 100%|███████████████████████████| 4385/4385 [00:05<00:00, 734.83it/s]\n",
      "local_train_loss: 100%|███████████████████| 4385/4385 [00:02<00:00, 1511.30it/s]\n",
      "local_test_loss: 100%|████████████████| 129238/129238 [00:29<00:00, 4417.65it/s]\n"
     ]
    },
    {
     "name": "stdout",
     "output_type": "stream",
     "text": [
      "client: 1\n"
     ]
    },
    {
     "name": "stderr",
     "output_type": "stream",
     "text": [
      "epoch 1/5: 100%|███████████████████████████| 1574/1574 [00:02<00:00, 737.31it/s]\n",
      "epoch 2/5: 100%|███████████████████████████| 1574/1574 [00:02<00:00, 743.48it/s]\n",
      "epoch 3/5: 100%|███████████████████████████| 1574/1574 [00:02<00:00, 743.25it/s]\n",
      "epoch 4/5: 100%|███████████████████████████| 1574/1574 [00:02<00:00, 742.76it/s]\n",
      "epoch 5/5: 100%|███████████████████████████| 1574/1574 [00:02<00:00, 743.15it/s]\n",
      "local_train_loss: 100%|███████████████████| 1574/1574 [00:01<00:00, 1531.24it/s]\n",
      "local_test_loss: 100%|████████████████| 129238/129238 [00:29<00:00, 4434.63it/s]\n"
     ]
    },
    {
     "name": "stdout",
     "output_type": "stream",
     "text": [
      "client: 2\n"
     ]
    },
    {
     "name": "stderr",
     "output_type": "stream",
     "text": [
      "epoch 1/5: 100%|███████████████████████████| 3418/3418 [00:04<00:00, 742.06it/s]\n",
      "epoch 2/5: 100%|███████████████████████████| 3418/3418 [00:04<00:00, 737.17it/s]\n",
      "epoch 3/5: 100%|███████████████████████████| 3418/3418 [00:04<00:00, 735.08it/s]\n",
      "epoch 4/5: 100%|███████████████████████████| 3418/3418 [00:04<00:00, 734.73it/s]\n",
      "epoch 5/5: 100%|███████████████████████████| 3418/3418 [00:04<00:00, 732.23it/s]\n",
      "local_train_loss: 100%|███████████████████| 3418/3418 [00:02<00:00, 1533.63it/s]\n",
      "local_test_loss: 100%|████████████████| 129238/129238 [00:29<00:00, 4426.81it/s]\n"
     ]
    },
    {
     "name": "stdout",
     "output_type": "stream",
     "text": [
      "client: 3\n"
     ]
    },
    {
     "name": "stderr",
     "output_type": "stream",
     "text": [
      "epoch 1/5: 100%|███████████████████████████| 4385/4385 [00:06<00:00, 720.94it/s]\n",
      "epoch 2/5: 100%|███████████████████████████| 4385/4385 [00:05<00:00, 733.07it/s]\n",
      "epoch 3/5: 100%|███████████████████████████| 4385/4385 [00:05<00:00, 733.00it/s]\n",
      "epoch 4/5: 100%|███████████████████████████| 4385/4385 [00:05<00:00, 733.41it/s]\n",
      "epoch 5/5: 100%|███████████████████████████| 4385/4385 [00:06<00:00, 729.31it/s]\n",
      "local_train_loss: 100%|███████████████████| 4385/4385 [00:02<00:00, 1526.25it/s]\n",
      "local_test_loss: 100%|████████████████| 129238/129238 [00:31<00:00, 4115.06it/s]\n",
      "g_train_loss: 100%|███████████████████████| 4385/4385 [00:02<00:00, 1522.12it/s]\n",
      "g_train_loss: 100%|███████████████████████| 4385/4385 [00:02<00:00, 1513.45it/s]\n",
      "g_train_loss: 100%|███████████████████████| 4385/4385 [00:02<00:00, 1524.17it/s]\n",
      "g_train_loss: 100%|███████████████████████| 4385/4385 [00:02<00:00, 1525.20it/s]\n",
      "g_test_loss: 100%|████████████████████| 129238/129238 [00:28<00:00, 4609.57it/s]\n"
     ]
    },
    {
     "name": "stdout",
     "output_type": "stream",
     "text": [
      "g_test_loss :  0.26387626124367747\n",
      "g_train_loss :  0.05297721103035724\n",
      "\n",
      " ==================== Round: 3 / 5 ====================\n",
      "\n",
      "client: 0\n"
     ]
    },
    {
     "name": "stderr",
     "output_type": "stream",
     "text": [
      "epoch 1/5: 100%|███████████████████████████| 4385/4385 [00:05<00:00, 733.74it/s]\n",
      "epoch 2/5: 100%|███████████████████████████| 4385/4385 [00:06<00:00, 730.25it/s]\n",
      "epoch 3/5: 100%|███████████████████████████| 4385/4385 [00:06<00:00, 726.43it/s]\n",
      "epoch 4/5: 100%|███████████████████████████| 4385/4385 [00:06<00:00, 727.42it/s]\n",
      "epoch 5/5: 100%|███████████████████████████| 4385/4385 [00:06<00:00, 730.01it/s]\n",
      "local_train_loss: 100%|███████████████████| 4385/4385 [00:02<00:00, 1516.90it/s]\n",
      "local_test_loss: 100%|████████████████| 129238/129238 [00:31<00:00, 4128.25it/s]\n"
     ]
    },
    {
     "name": "stdout",
     "output_type": "stream",
     "text": [
      "client: 1\n"
     ]
    },
    {
     "name": "stderr",
     "output_type": "stream",
     "text": [
      "epoch 1/5: 100%|███████████████████████████| 1574/1574 [00:02<00:00, 717.53it/s]\n",
      "epoch 2/5: 100%|███████████████████████████| 1574/1574 [00:02<00:00, 733.94it/s]\n",
      "epoch 3/5: 100%|███████████████████████████| 1574/1574 [00:02<00:00, 734.50it/s]\n",
      "epoch 4/5: 100%|███████████████████████████| 1574/1574 [00:02<00:00, 739.91it/s]\n",
      "epoch 5/5: 100%|███████████████████████████| 1574/1574 [00:02<00:00, 730.87it/s]\n",
      "local_train_loss: 100%|███████████████████| 1574/1574 [00:01<00:00, 1542.15it/s]\n",
      "local_test_loss: 100%|████████████████| 129238/129238 [00:29<00:00, 4423.11it/s]\n"
     ]
    },
    {
     "name": "stdout",
     "output_type": "stream",
     "text": [
      "client: 2\n"
     ]
    },
    {
     "name": "stderr",
     "output_type": "stream",
     "text": [
      "epoch 1/5: 100%|███████████████████████████| 3418/3418 [00:04<00:00, 731.31it/s]\n",
      "epoch 2/5: 100%|███████████████████████████| 3418/3418 [00:04<00:00, 733.35it/s]\n",
      "epoch 3/5: 100%|███████████████████████████| 3418/3418 [00:04<00:00, 732.38it/s]\n",
      "epoch 4/5: 100%|███████████████████████████| 3418/3418 [00:04<00:00, 732.73it/s]\n",
      "epoch 5/5: 100%|███████████████████████████| 3418/3418 [00:04<00:00, 729.12it/s]\n",
      "local_train_loss: 100%|███████████████████| 3418/3418 [00:02<00:00, 1533.22it/s]\n",
      "local_test_loss: 100%|████████████████| 129238/129238 [00:31<00:00, 4086.14it/s]\n"
     ]
    },
    {
     "name": "stdout",
     "output_type": "stream",
     "text": [
      "client: 3\n"
     ]
    },
    {
     "name": "stderr",
     "output_type": "stream",
     "text": [
      "epoch 1/5: 100%|███████████████████████████| 4385/4385 [00:05<00:00, 733.09it/s]\n",
      "epoch 2/5: 100%|███████████████████████████| 4385/4385 [00:06<00:00, 725.01it/s]\n",
      "epoch 3/5: 100%|███████████████████████████| 4385/4385 [00:05<00:00, 733.32it/s]\n",
      "epoch 4/5: 100%|███████████████████████████| 4385/4385 [00:05<00:00, 734.08it/s]\n",
      "epoch 5/5: 100%|███████████████████████████| 4385/4385 [00:05<00:00, 736.93it/s]\n",
      "local_train_loss: 100%|███████████████████| 4385/4385 [00:02<00:00, 1533.94it/s]\n",
      "local_test_loss: 100%|████████████████| 129238/129238 [00:29<00:00, 4432.02it/s]\n",
      "g_train_loss: 100%|███████████████████████| 4385/4385 [00:02<00:00, 1532.91it/s]\n",
      "g_train_loss: 100%|███████████████████████| 4385/4385 [00:02<00:00, 1527.68it/s]\n",
      "g_train_loss: 100%|███████████████████████| 4385/4385 [00:02<00:00, 1535.94it/s]\n",
      "g_train_loss: 100%|███████████████████████| 4385/4385 [00:02<00:00, 1533.55it/s]\n",
      "g_test_loss: 100%|████████████████████| 129238/129238 [00:27<00:00, 4696.06it/s]\n"
     ]
    },
    {
     "name": "stdout",
     "output_type": "stream",
     "text": [
      "g_test_loss :  0.2343025088965846\n",
      "g_train_loss :  0.041636249480575135\n",
      "\n",
      " ==================== Round: 4 / 5 ====================\n",
      "\n",
      "client: 0\n"
     ]
    },
    {
     "name": "stderr",
     "output_type": "stream",
     "text": [
      "epoch 1/5: 100%|███████████████████████████| 4385/4385 [00:06<00:00, 719.77it/s]\n",
      "epoch 2/5: 100%|███████████████████████████| 4385/4385 [00:06<00:00, 727.50it/s]\n",
      "epoch 3/5: 100%|███████████████████████████| 4385/4385 [00:06<00:00, 728.78it/s]\n",
      "epoch 4/5: 100%|███████████████████████████| 4385/4385 [00:06<00:00, 729.34it/s]\n",
      "epoch 5/5: 100%|███████████████████████████| 4385/4385 [00:06<00:00, 728.24it/s]\n",
      "local_train_loss: 100%|███████████████████| 4385/4385 [00:02<00:00, 1515.38it/s]\n",
      "local_test_loss: 100%|████████████████| 129238/129238 [00:29<00:00, 4424.76it/s]\n"
     ]
    },
    {
     "name": "stdout",
     "output_type": "stream",
     "text": [
      "client: 1\n"
     ]
    },
    {
     "name": "stderr",
     "output_type": "stream",
     "text": [
      "epoch 1/5: 100%|███████████████████████████| 1574/1574 [00:02<00:00, 718.36it/s]\n",
      "epoch 2/5: 100%|███████████████████████████| 1574/1574 [00:02<00:00, 713.80it/s]\n",
      "epoch 3/5: 100%|███████████████████████████| 1574/1574 [00:02<00:00, 712.50it/s]\n",
      "epoch 4/5: 100%|███████████████████████████| 1574/1574 [00:02<00:00, 716.84it/s]\n",
      "epoch 5/5: 100%|███████████████████████████| 1574/1574 [00:02<00:00, 717.37it/s]\n",
      "local_train_loss: 100%|███████████████████| 1574/1574 [00:01<00:00, 1540.28it/s]\n",
      "local_test_loss: 100%|████████████████| 129238/129238 [00:29<00:00, 4417.30it/s]\n"
     ]
    },
    {
     "name": "stdout",
     "output_type": "stream",
     "text": [
      "client: 2\n"
     ]
    },
    {
     "name": "stderr",
     "output_type": "stream",
     "text": [
      "epoch 1/5: 100%|███████████████████████████| 3418/3418 [00:04<00:00, 729.95it/s]\n",
      "epoch 2/5: 100%|███████████████████████████| 3418/3418 [00:04<00:00, 744.15it/s]\n",
      "epoch 3/5: 100%|███████████████████████████| 3418/3418 [00:04<00:00, 740.85it/s]\n",
      "epoch 4/5: 100%|███████████████████████████| 3418/3418 [00:04<00:00, 743.09it/s]\n",
      "epoch 5/5: 100%|███████████████████████████| 3418/3418 [00:04<00:00, 737.50it/s]\n",
      "local_train_loss: 100%|███████████████████| 3418/3418 [00:02<00:00, 1542.00it/s]\n",
      "local_test_loss: 100%|████████████████| 129238/129238 [00:29<00:00, 4409.55it/s]\n"
     ]
    },
    {
     "name": "stdout",
     "output_type": "stream",
     "text": [
      "client: 3\n"
     ]
    },
    {
     "name": "stderr",
     "output_type": "stream",
     "text": [
      "epoch 1/5: 100%|███████████████████████████| 4385/4385 [00:05<00:00, 731.41it/s]\n",
      "epoch 2/5: 100%|███████████████████████████| 4385/4385 [00:05<00:00, 734.44it/s]\n",
      "epoch 3/5: 100%|███████████████████████████| 4385/4385 [00:05<00:00, 735.67it/s]\n",
      "epoch 4/5: 100%|███████████████████████████| 4385/4385 [00:05<00:00, 738.03it/s]\n",
      "epoch 5/5: 100%|███████████████████████████| 4385/4385 [00:05<00:00, 735.00it/s]\n",
      "local_train_loss: 100%|███████████████████| 4385/4385 [00:02<00:00, 1535.98it/s]\n",
      "local_test_loss: 100%|████████████████| 129238/129238 [00:29<00:00, 4413.27it/s]\n",
      "g_train_loss: 100%|███████████████████████| 4385/4385 [00:02<00:00, 1527.57it/s]\n",
      "g_train_loss: 100%|███████████████████████| 4385/4385 [00:02<00:00, 1536.49it/s]\n",
      "g_train_loss: 100%|███████████████████████| 4385/4385 [00:02<00:00, 1536.29it/s]\n",
      "g_train_loss: 100%|███████████████████████| 4385/4385 [00:02<00:00, 1536.34it/s]\n",
      "g_test_loss: 100%|████████████████████| 129238/129238 [00:27<00:00, 4708.83it/s]\n"
     ]
    },
    {
     "name": "stdout",
     "output_type": "stream",
     "text": [
      "g_test_loss :  0.35186781051638655\n",
      "g_train_loss :  0.039728715416445244\n",
      "\n",
      " ==================== Round: 5 / 5 ====================\n",
      "\n",
      "client: 0\n"
     ]
    },
    {
     "name": "stderr",
     "output_type": "stream",
     "text": [
      "epoch 1/5: 100%|███████████████████████████| 4385/4385 [00:06<00:00, 725.16it/s]\n",
      "epoch 2/5: 100%|███████████████████████████| 4385/4385 [00:06<00:00, 724.35it/s]\n",
      "epoch 3/5: 100%|███████████████████████████| 4385/4385 [00:06<00:00, 722.77it/s]\n",
      "epoch 4/5: 100%|███████████████████████████| 4385/4385 [00:06<00:00, 687.78it/s]\n",
      "epoch 5/5: 100%|███████████████████████████| 4385/4385 [00:06<00:00, 713.11it/s]\n",
      "local_train_loss: 100%|███████████████████| 4385/4385 [00:02<00:00, 1506.81it/s]\n",
      "local_test_loss: 100%|████████████████| 129238/129238 [00:29<00:00, 4442.86it/s]\n"
     ]
    },
    {
     "name": "stdout",
     "output_type": "stream",
     "text": [
      "client: 1\n"
     ]
    },
    {
     "name": "stderr",
     "output_type": "stream",
     "text": [
      "epoch 1/5: 100%|███████████████████████████| 1574/1574 [00:02<00:00, 737.10it/s]\n",
      "epoch 2/5: 100%|███████████████████████████| 1574/1574 [00:02<00:00, 736.61it/s]\n",
      "epoch 3/5: 100%|███████████████████████████| 1574/1574 [00:02<00:00, 726.97it/s]\n",
      "epoch 4/5: 100%|███████████████████████████| 1574/1574 [00:02<00:00, 705.65it/s]\n",
      "epoch 5/5: 100%|███████████████████████████| 1574/1574 [00:02<00:00, 729.07it/s]\n",
      "local_train_loss: 100%|███████████████████| 1574/1574 [00:01<00:00, 1515.04it/s]\n",
      "local_test_loss: 100%|████████████████| 129238/129238 [00:29<00:00, 4392.73it/s]\n"
     ]
    },
    {
     "name": "stdout",
     "output_type": "stream",
     "text": [
      "client: 2\n"
     ]
    },
    {
     "name": "stderr",
     "output_type": "stream",
     "text": [
      "epoch 1/5: 100%|███████████████████████████| 3418/3418 [00:04<00:00, 730.52it/s]\n",
      "epoch 2/5: 100%|███████████████████████████| 3418/3418 [00:04<00:00, 730.63it/s]\n",
      "epoch 3/5: 100%|███████████████████████████| 3418/3418 [00:04<00:00, 729.35it/s]\n",
      "epoch 4/5: 100%|███████████████████████████| 3418/3418 [00:04<00:00, 735.49it/s]\n",
      "epoch 5/5: 100%|███████████████████████████| 3418/3418 [00:04<00:00, 735.04it/s]\n",
      "local_train_loss: 100%|███████████████████| 3418/3418 [00:02<00:00, 1537.13it/s]\n",
      "local_test_loss: 100%|████████████████| 129238/129238 [00:29<00:00, 4437.13it/s]\n"
     ]
    },
    {
     "name": "stdout",
     "output_type": "stream",
     "text": [
      "client: 3\n"
     ]
    },
    {
     "name": "stderr",
     "output_type": "stream",
     "text": [
      "epoch 1/5: 100%|███████████████████████████| 4385/4385 [00:06<00:00, 728.50it/s]\n",
      "epoch 2/5: 100%|███████████████████████████| 4385/4385 [00:06<00:00, 725.00it/s]\n",
      "epoch 3/5: 100%|███████████████████████████| 4385/4385 [00:05<00:00, 734.49it/s]\n",
      "epoch 4/5: 100%|███████████████████████████| 4385/4385 [00:05<00:00, 733.24it/s]\n",
      "epoch 5/5: 100%|███████████████████████████| 4385/4385 [00:06<00:00, 730.53it/s]\n",
      "local_train_loss: 100%|███████████████████| 4385/4385 [00:02<00:00, 1524.37it/s]\n",
      "local_test_loss: 100%|████████████████| 129238/129238 [00:29<00:00, 4411.60it/s]\n",
      "g_train_loss: 100%|███████████████████████| 4385/4385 [00:02<00:00, 1497.09it/s]\n",
      "g_train_loss: 100%|███████████████████████| 4385/4385 [00:02<00:00, 1520.97it/s]\n",
      "g_train_loss: 100%|███████████████████████| 4385/4385 [00:02<00:00, 1523.44it/s]\n",
      "g_train_loss: 100%|███████████████████████| 4385/4385 [00:02<00:00, 1526.21it/s]\n",
      "g_test_loss: 100%|████████████████████| 129238/129238 [00:27<00:00, 4719.72it/s]"
     ]
    },
    {
     "name": "stdout",
     "output_type": "stream",
     "text": [
      "g_test_loss :  0.27210864471707874\n",
      "g_train_loss :  0.01703723682009779\n"
     ]
    },
    {
     "name": "stderr",
     "output_type": "stream",
     "text": [
      "\n"
     ]
    }
   ],
   "source": [
    "glob_w = glob_model.state_dict()\n",
    "\n",
    "optim_args = {'lr': lr}\n",
    "loss_function = nn.CrossEntropyLoss()\n",
    "\n",
    "for round_no in range(start_round, num_rounds):\n",
    "    utils.print_separator(text='Round: {} / {}'.format(round_no + 1, num_rounds))\n",
    "                \n",
    "    # Local training.\n",
    "    glob_model.train()\n",
    "    client_updates = dict()\n",
    "    for client_idx in range(num_clients):  \n",
    "        print('client:', client_idx)\n",
    "        client_loader = client_loaders[client_idx] # update new samples\n",
    "        \n",
    "        # Local training.\n",
    "        client_update = fl.local_update_fedavg(glob_model, client_loader, test_loader, num_local_epochs, optim_args)\n",
    "        \n",
    "        # For weighted averaging.\n",
    "        client_updates.setdefault('local_w', list()).append(client_update['local_w'])\n",
    "        client_updates.setdefault('num_samples', list()).append(client_update['num_samples'])\n",
    "        \n",
    "        # Logging client performance.\n",
    "        performance_log.setdefault('c_{}_train_loss'.format(client_idx), list()).append(client_update['train_loss'])\n",
    "        performance_log.setdefault('c_{}_test_loss'.format(client_idx), list()).append(client_update['test_loss'])\n",
    "            \n",
    "    # Model aggregation.\n",
    "    glob_w = fl.weighted_averaging(client_updates['local_w'], client_updates['num_samples'])\n",
    "    glob_model.load_state_dict(glob_w)\n",
    "    \n",
    "    # Evaluate global model on local datasets.\n",
    "    for client_idx in range(num_clients):\n",
    "        g_train_loss = evaluate_model(glob_model, client_loader, loss_function, tqdm_desc='g_train_loss')\n",
    "        performance_dict['g_train_loss'].update_state(g_train_loss)\n",
    "        \n",
    "    # Average local performace of global model.\n",
    "    performance_log['g_train_loss'].append(performance_dict['g_train_loss'].result())\n",
    "    performance_dict['g_train_loss'].reset_state()\n",
    "    \n",
    "    # Evaluate global model on global testset.\n",
    "    g_test_loss = evaluate_model(glob_model, test_loader, loss_function, tqdm_desc='g_test_loss')\n",
    "    performance_log['g_test_loss'].append(g_test_loss)\n",
    "    \n",
    "#     for key in sorted(performance_log.keys()):\n",
    "#         print(key, ': ',  performance_log[key][-1])\n",
    "    \n",
    "    for key in sorted(metric_keys):\n",
    "        print(key, ': ',  performance_log[key][-1])\n",
    "    \n",
    "    # Save global model.\n",
    "    if (round_no + 1) % save_interval == 0:\n",
    "        torch.save(glob_model.state_dict(), os.path.join(save_dir, 'g_r_{}.pth'.format(round_no + 1)))\n",
    "        utils.save_pickle(log_path, performance_log)\n",
    "\n",
    "    # Save client models only in the last round. To save space.\n",
    "    if round_no + 1 == num_rounds:\n",
    "        for client_idx in range(num_clients):\n",
    "            local_state_dict = client_updates['local_w'][client_idx]\n",
    "            torch.save(local_state_dict, os.path.join(save_dir, 'c_{}_r_{}.pth'.format(client_idx, round_no + 1)))"
   ]
  },
  {
   "cell_type": "code",
   "execution_count": 101,
   "id": "9d171805-152b-4940-ba7c-672bd19d1687",
   "metadata": {
    "tags": []
   },
   "outputs": [
    {
     "data": {
      "text/plain": [
       "'./output_nids/dnn_fedavg/nids/performance_log.pickle'"
      ]
     },
     "execution_count": 101,
     "metadata": {},
     "output_type": "execute_result"
    }
   ],
   "source": [
    "log_path"
   ]
  },
  {
   "cell_type": "code",
   "execution_count": 102,
   "id": "94605e93-9950-4374-a2d3-94b7cbc7bd7d",
   "metadata": {
    "tags": []
   },
   "outputs": [
    {
     "data": {
      "text/plain": [
       "{'g_train_loss': [0.04551174518075626,\n",
       "  0.05297721103035724,\n",
       "  0.041636249480575135,\n",
       "  0.039728715416445244,\n",
       "  0.01703723682009779],\n",
       " 'g_test_loss': [0.12831651302356717,\n",
       "  0.26387626124367747,\n",
       "  0.2343025088965846,\n",
       "  0.35186781051638655,\n",
       "  0.27210864471707874],\n",
       " 'c_0_train_loss': [0.010855012727271053,\n",
       "  0.0064556884871216245,\n",
       "  0.005725339005417681,\n",
       "  0.004470858170806055,\n",
       "  0.004326531365321873],\n",
       " 'c_0_test_loss': [1.1969446163884856,\n",
       "  1.316192434504935,\n",
       "  0.6618422417036671,\n",
       "  1.351614880328502,\n",
       "  3.760258075291614],\n",
       " 'c_1_train_loss': [0.020874771714990657,\n",
       "  0.009430339319930313,\n",
       "  0.007218775822038093,\n",
       "  0.005375795476364844,\n",
       "  0.004828717290279796],\n",
       " 'c_1_test_loss': [0.24710812577478708,\n",
       "  0.2927829038518897,\n",
       "  0.3603821698962577,\n",
       "  0.3378330360384487,\n",
       "  0.4095276219754739],\n",
       " 'c_2_train_loss': [0.009472017545029078,\n",
       "  0.00460418145488926,\n",
       "  0.007171570504138456,\n",
       "  0.002199929291447523,\n",
       "  0.0012503817006083724],\n",
       " 'c_2_test_loss': [0.8390403004746311,\n",
       "  0.5648742144290018,\n",
       "  0.493370242495273,\n",
       "  0.559053008642892,\n",
       "  0.3392831156632087],\n",
       " 'c_3_train_loss': [0.006849609672655659,\n",
       "  0.005381518434333838,\n",
       "  0.004979710700137264,\n",
       "  0.0037857135299303353,\n",
       "  0.003968779307305338],\n",
       " 'c_3_test_loss': [1.5893198748144082,\n",
       "  3.2718934563967004,\n",
       "  0.7788065357441086,\n",
       "  4.88863960445482,\n",
       "  1.1976875388575685]}"
      ]
     },
     "execution_count": 102,
     "metadata": {},
     "output_type": "execute_result"
    }
   ],
   "source": [
    "performance_log"
   ]
  },
  {
   "cell_type": "code",
   "execution_count": 103,
   "id": "02d49395-6d93-4796-9f74-90756c057b66",
   "metadata": {},
   "outputs": [],
   "source": [
    "utils.save_pickle(log_path, performance_log)"
   ]
  },
  {
   "cell_type": "code",
   "execution_count": 104,
   "id": "cc277ddb-8031-40ce-95c9-4468a1fbc5b7",
   "metadata": {
    "tags": []
   },
   "outputs": [
    {
     "data": {
      "image/png": "[encoded data removed]",
      "text/plain": [
       "<Figure size 576x432 with 1 Axes>"
      ]
     },
     "metadata": {
      "needs_background": "light"
     },
     "output_type": "display_data"
    },
    {
     "data": {
      "image/png": "[encoded data removed]",
      "text/plain": [
       "<Figure size 576x432 with 1 Axes>"
      ]
     },
     "metadata": {
      "needs_background": "light"
     },
     "output_type": "display_data"
    }
   ],
   "source": [
    "# Plot training history.\n",
    "performance_log = utils.load_pickle(log_path)\n",
    "\n",
    "loss_plot_config = utils.LOSS_PLOT_CONFIG.copy()\n",
    "loss_plot_config['save_dir'] = os.path.join(save_dir, 'test_loss.png')\n",
    "loss_plot_config['show_img'] = True\n",
    "loss_plot_config['xlabel'] = 'rounds'\n",
    "loss_plot_config['labels'] = ['g_test_loss'] + ['c_{}_test_loss'.format(client_idx) for client_idx in range(num_clients)]\n",
    "loss_plot_config['attributes'] = ['g_test_loss'] + ['c_{}_test_loss'.format(client_idx) for client_idx in range(num_clients)]\n",
    "utils.save_history_plot(performance_log, loss_plot_config)\n",
    "\n",
    "loss_plot_config = utils.LOSS_PLOT_CONFIG.copy()\n",
    "loss_plot_config['save_dir'] = os.path.join(save_dir, 'train_loss.png')\n",
    "loss_plot_config['show_img'] = True\n",
    "loss_plot_config['xlabel'] = 'rounds'\n",
    "loss_plot_config['labels'] = ['g_train_loss'] + ['c_{}_train_loss'.format(client_idx) for client_idx in range(num_clients)]\n",
    "loss_plot_config['attributes'] = ['g_train_loss'] + ['c_{}_train_loss'.format(client_idx) for client_idx in range(num_clients)]\n",
    "utils.save_history_plot(performance_log, loss_plot_config)"
   ]
  },
  {
   "cell_type": "markdown",
   "id": "0d03354e-8f05-40a4-b069-ad0d184a232b",
   "metadata": {},
   "source": [
    "1. \"test_loader\" is used to evaluate the performance of the global model on the global test set, which includes data from all clients and attack types. This allows the evaluation of the global model's ability to generalize to different attack types present in the test set.\n",
    "\n",
    "2. \"g_train_loss\" represents the average training loss of the global model on the global training data (this one has not explained yet??),\n",
    "while \"c_{}_train_loss\" represents the training loss of each client model on their local training data.\n",
    "\n",
    "3. \"g_test_loss\" represents the test loss of the global model on the global test set, while \"c_{}_test_loss \"represents the test loss of each client model on their local test sets"
   ]
  },
  {
   "cell_type": "code",
   "execution_count": null,
   "id": "81096ca5-b6f6-4722-9197-a65da8f8c6b8",
   "metadata": {},
   "outputs": [],
   "source": []
  },
  {
   "cell_type": "code",
   "execution_count": 105,
   "id": "2ffdcd7d-07a8-46ed-988d-a9f7c76d382a",
   "metadata": {
    "tags": []
   },
   "outputs": [
    {
     "data": {
      "text/plain": [
       "DNN(\n",
       "  (fc_layers): ModuleList(\n",
       "    (0): Linear(in_features=1525, out_features=512, bias=True)\n",
       "    (1): ReLU()\n",
       "    (2): Linear(in_features=512, out_features=256, bias=True)\n",
       "    (3): ReLU()\n",
       "    (4): Linear(in_features=256, out_features=128, bias=True)\n",
       "    (5): ReLU()\n",
       "    (6): Linear(in_features=128, out_features=64, bias=True)\n",
       "    (7): ReLU()\n",
       "    (8): Linear(in_features=64, out_features=2, bias=True)\n",
       "  )\n",
       ")"
      ]
     },
     "execution_count": 105,
     "metadata": {},
     "output_type": "execute_result"
    }
   ],
   "source": [
    "glob_model"
   ]
  },
  {
   "cell_type": "code",
   "execution_count": 106,
   "id": "8ba550d9-8414-4a31-b2ce-681d7a49017c",
   "metadata": {
    "tags": []
   },
   "outputs": [
    {
     "data": {
      "text/plain": [
       "OrderedDict([('fc_layers.0.weight',\n",
       "              tensor([[ 0.0152, -0.0997,  0.0283,  ..., -0.0110,  0.0021,  0.0060],\n",
       "                      [ 0.2085, -0.0007,  0.0859,  ..., -0.0256, -0.0162,  0.0272],\n",
       "                      [ 0.0749, -0.0188,  0.0357,  ..., -0.0267, -0.0582, -0.0268],\n",
       "                      ...,\n",
       "                      [-0.0149, -0.0507, -0.1011,  ...,  0.0129,  0.0331, -0.0096],\n",
       "                      [ 0.0750, -0.0370,  0.0162,  ..., -0.0685, -0.1007, -0.0926],\n",
       "                      [ 0.0191, -0.0547, -0.0201,  ..., -0.0109, -0.0260,  0.0073]],\n",
       "                     device='cuda:0')),\n",
       "             ('fc_layers.0.bias',\n",
       "              tensor([-0.0571,  0.0166,  0.0571, -0.0241,  0.0653, -0.0315, -0.0304, -0.0077,\n",
       "                      -0.0091,  0.0350,  0.0163,  0.0108,  0.0486, -0.0651, -0.0367, -0.0487,\n",
       "                       0.0041, -0.0275, -0.0099, -0.0034, -0.0265, -0.0703, -0.0753, -0.0255,\n",
       "                      -0.0286, -0.0104,  0.0388,  0.0256,  0.0586, -0.0118, -0.0461, -0.0319,\n",
       "                       0.0326, -0.0156, -0.0325, -0.0248,  0.0120, -0.0084,  0.0176,  0.0241,\n",
       "                       0.0214,  0.0025,  0.0227, -0.0220, -0.0264,  0.0055, -0.0487,  0.0191,\n",
       "                      -0.0320, -0.0783,  0.0094, -0.0096, -0.0481,  0.0425,  0.0237,  0.0517,\n",
       "                      -0.0595, -0.0785, -0.0239, -0.0104, -0.0199, -0.0648, -0.0347,  0.0170,\n",
       "                      -0.0389, -0.0224,  0.0103,  0.0321,  0.0023, -0.0515, -0.0829, -0.0595,\n",
       "                      -0.0645, -0.0197,  0.0285, -0.0061,  0.0015, -0.0624, -0.0210, -0.0103,\n",
       "                      -0.0678, -0.0276,  0.0041, -0.0005, -0.0325,  0.0370, -0.0282,  0.0052,\n",
       "                      -0.0695, -0.0586, -0.0299, -0.0591, -0.0335, -0.1017, -0.0249, -0.0409,\n",
       "                       0.0474, -0.0148, -0.0721, -0.0361, -0.0152, -0.0628,  0.0039, -0.0269,\n",
       "                      -0.0410, -0.0159,  0.0267,  0.0409, -0.0300, -0.0394, -0.0118, -0.0182,\n",
       "                       0.0549, -0.0375,  0.0225, -0.0024,  0.0183,  0.0149, -0.0086, -0.0118,\n",
       "                      -0.0145, -0.0515, -0.0085, -0.0528,  0.0285, -0.0363, -0.0169,  0.0090,\n",
       "                      -0.0306,  0.0027, -0.0442, -0.0552, -0.0458, -0.0079,  0.0080,  0.0060,\n",
       "                      -0.0344,  0.0527, -0.0335,  0.0562,  0.0179, -0.0033, -0.0135, -0.0257,\n",
       "                       0.0540, -0.0449, -0.0593, -0.0282, -0.0395, -0.0544, -0.0511,  0.0218,\n",
       "                       0.0421, -0.0227, -0.0875,  0.0311,  0.0003,  0.0016, -0.0112, -0.0303,\n",
       "                      -0.0120,  0.0084,  0.0471,  0.0102,  0.0131, -0.0226, -0.0585,  0.0009,\n",
       "                       0.0186, -0.0231, -0.0098,  0.0008, -0.0361, -0.0165, -0.0674, -0.0130,\n",
       "                       0.0249,  0.0234, -0.0227, -0.0158, -0.0276,  0.0084, -0.0471,  0.0472,\n",
       "                      -0.0144, -0.0617, -0.0359, -0.0364, -0.0484, -0.0318, -0.0043, -0.0098,\n",
       "                       0.0129, -0.0123, -0.0185, -0.0241,  0.0090, -0.0168, -0.0210, -0.0342,\n",
       "                      -0.0061, -0.0158, -0.0679,  0.0038, -0.0049, -0.0195,  0.0231, -0.0385,\n",
       "                      -0.0254, -0.0271, -0.0340, -0.0513, -0.0460, -0.0203, -0.0280, -0.0411,\n",
       "                      -0.0219, -0.0475, -0.0149,  0.0021, -0.0267, -0.0151,  0.0046,  0.0014,\n",
       "                      -0.1002, -0.0020, -0.0299, -0.0158, -0.0073, -0.0202, -0.0268, -0.0019,\n",
       "                       0.0365,  0.0014, -0.0283,  0.0453,  0.0140,  0.0489, -0.0486,  0.0242,\n",
       "                       0.0371,  0.0142,  0.0049, -0.0264, -0.0073, -0.0281,  0.0086,  0.0517,\n",
       "                      -0.0411,  0.0004, -0.0682, -0.0329, -0.0078, -0.0123, -0.0398, -0.0393,\n",
       "                       0.0031, -0.0220,  0.0315,  0.0246, -0.0191, -0.0250,  0.0552,  0.0146,\n",
       "                      -0.0313, -0.0199, -0.0268, -0.0077,  0.0112,  0.0358, -0.0019, -0.0349,\n",
       "                       0.0410, -0.0171, -0.0557,  0.0063,  0.0116, -0.0540,  0.0171, -0.0501,\n",
       "                      -0.0537,  0.0026, -0.0559, -0.0068, -0.0064, -0.0171, -0.0004, -0.0048,\n",
       "                      -0.0229, -0.0258, -0.0341, -0.0313, -0.0019, -0.0258, -0.0333, -0.0846,\n",
       "                       0.0039,  0.0183, -0.0564,  0.0079, -0.0133,  0.0047, -0.0388, -0.0208,\n",
       "                      -0.0515, -0.0251,  0.0333, -0.0069, -0.0555, -0.0395,  0.0092, -0.0287,\n",
       "                       0.0310, -0.0149,  0.0035, -0.0197, -0.0205, -0.0461,  0.0468, -0.0146,\n",
       "                      -0.0084, -0.0122,  0.0016, -0.0415,  0.0078, -0.0305, -0.0348,  0.0494,\n",
       "                      -0.0553,  0.0235, -0.0371, -0.0212,  0.0240, -0.0191, -0.0497,  0.0366,\n",
       "                      -0.0043, -0.0072, -0.0128, -0.0351, -0.0006,  0.0343, -0.0577,  0.0241,\n",
       "                      -0.0352, -0.0295, -0.0132, -0.0134, -0.0244,  0.0164,  0.0446, -0.0131,\n",
       "                      -0.0120, -0.0475, -0.0403,  0.0054, -0.0237,  0.0547,  0.0381, -0.0077,\n",
       "                       0.0263,  0.0064, -0.0277,  0.0082, -0.0366, -0.0301,  0.0140, -0.0046,\n",
       "                      -0.0149, -0.0084, -0.0579, -0.0128, -0.0348, -0.0247, -0.0224, -0.0553,\n",
       "                       0.0262, -0.0553, -0.0229, -0.0034,  0.0269, -0.0368, -0.0210, -0.0178,\n",
       "                      -0.0365, -0.0004,  0.0146, -0.0277,  0.0148, -0.0174, -0.0595, -0.0112,\n",
       "                      -0.0255, -0.0093,  0.0166, -0.0177,  0.0134, -0.0445, -0.0144, -0.0037,\n",
       "                      -0.0447, -0.0033, -0.0100, -0.0648, -0.0652,  0.0421, -0.0352,  0.0179,\n",
       "                      -0.0123, -0.0072,  0.0474, -0.0283,  0.0205, -0.0380, -0.0337,  0.0102,\n",
       "                      -0.0213,  0.0393,  0.0504,  0.0101, -0.0563, -0.0058,  0.0115, -0.0159,\n",
       "                      -0.0191,  0.0164, -0.0246,  0.0092, -0.0069, -0.0437, -0.0521,  0.0035,\n",
       "                      -0.0177, -0.0606, -0.0165, -0.0023, -0.0823, -0.0218, -0.0060, -0.0578,\n",
       "                       0.0316, -0.0270, -0.0489, -0.0216, -0.0233, -0.0491, -0.0336,  0.0077,\n",
       "                      -0.0085, -0.0241,  0.0320, -0.0462, -0.0639,  0.0028, -0.0491, -0.0733,\n",
       "                      -0.0340,  0.0188, -0.0460, -0.0072,  0.0091, -0.0355, -0.0133, -0.0634,\n",
       "                      -0.0162,  0.0442,  0.0398, -0.0216, -0.0383,  0.0386, -0.0059,  0.0157,\n",
       "                       0.0430, -0.0495, -0.0116,  0.0491, -0.0254,  0.0490,  0.0030, -0.0272,\n",
       "                      -0.0559, -0.0439, -0.0094,  0.0091, -0.0171, -0.0234,  0.0206,  0.0237,\n",
       "                      -0.0061,  0.0468,  0.0102,  0.0606, -0.0066, -0.0228, -0.0374,  0.0164,\n",
       "                       0.0251, -0.0136, -0.0232, -0.0346, -0.0320, -0.0299, -0.0219, -0.0173,\n",
       "                      -0.0358,  0.0126, -0.0373, -0.0218, -0.0009, -0.0397, -0.0176, -0.0071],\n",
       "                     device='cuda:0')),\n",
       "             ('fc_layers.2.weight',\n",
       "              tensor([[ 0.0014,  0.0841,  0.0788,  ...,  0.0397,  0.0138,  0.0126],\n",
       "                      [ 0.0291,  0.0866,  0.0648,  ..., -0.0174, -0.0240,  0.0265],\n",
       "                      [ 0.0059, -0.0055,  0.0464,  ...,  0.0398, -0.1132,  0.0442],\n",
       "                      ...,\n",
       "                      [ 0.0179, -0.0768, -0.0167,  ...,  0.0216, -0.1443, -0.0714],\n",
       "                      [-0.0079,  0.0102,  0.0209,  ...,  0.0321, -0.0258, -0.0168],\n",
       "                      [ 0.0828, -0.0465,  0.0264,  ...,  0.0264, -0.0786,  0.0351]],\n",
       "                     device='cuda:0')),\n",
       "             ('fc_layers.2.bias',\n",
       "              tensor([ 1.1144e-02, -2.7360e-02,  3.6717e-02,  2.4832e-02,  3.2506e-02,\n",
       "                      -6.5186e-03,  2.0019e-02,  7.4341e-03,  3.4452e-02,  5.4948e-02,\n",
       "                      -6.7324e-03, -4.4131e-04,  1.4742e-02,  2.6460e-02,  1.3141e-02,\n",
       "                       7.7556e-03,  2.8775e-02,  6.7183e-03, -4.6040e-02,  5.1302e-02,\n",
       "                      -3.5396e-02,  1.3356e-02, -2.4250e-03,  2.9712e-04, -5.4225e-02,\n",
       "                       2.8414e-02,  2.1132e-02,  5.8749e-02,  5.3184e-02,  5.8284e-02,\n",
       "                      -6.6859e-05, -1.5437e-02, -2.4434e-02,  1.1455e-01,  7.1876e-02,\n",
       "                      -1.2772e-02,  6.5681e-02, -4.7817e-02,  2.3576e-02,  1.9325e-02,\n",
       "                      -9.9142e-03,  5.8566e-03, -3.2573e-02,  4.2039e-02,  2.3024e-02,\n",
       "                       3.6346e-02,  1.3131e-02,  1.3174e-02,  3.9469e-02,  5.0038e-02,\n",
       "                       1.7939e-02, -1.4065e-02, -6.7178e-02,  1.8615e-02, -5.5703e-02,\n",
       "                      -3.2326e-02,  5.4735e-03,  5.1622e-02, -6.4599e-02, -3.5161e-02,\n",
       "                      -7.6578e-02, -2.1243e-02,  1.7067e-02, -3.1336e-02, -4.7254e-02,\n",
       "                       3.7771e-03, -1.1276e-02, -3.5646e-02,  3.9139e-02,  8.1179e-03,\n",
       "                       1.4666e-02,  1.9251e-02, -1.1998e-02,  2.9735e-02,  3.6143e-03,\n",
       "                      -4.9975e-02, -6.2268e-02, -1.5045e-02, -1.1033e-01,  7.0237e-03,\n",
       "                       6.0100e-02,  6.9401e-02,  4.6743e-02, -2.8235e-02,  3.0825e-02,\n",
       "                      -7.2369e-02, -1.1104e-02, -4.1609e-02, -2.6674e-02,  5.4450e-02,\n",
       "                      -2.5985e-02,  6.5766e-02, -5.9381e-03,  7.4846e-03,  4.4473e-02,\n",
       "                       9.7443e-03, -3.3499e-02,  5.1023e-02,  3.0543e-02, -7.7850e-02,\n",
       "                      -8.4853e-02,  3.5716e-02, -6.4964e-03, -2.0806e-02, -2.6346e-02,\n",
       "                       1.9085e-02,  3.9507e-02,  3.5876e-03,  3.5943e-02,  1.9572e-02,\n",
       "                      -8.4754e-02,  7.2813e-02, -6.2333e-03,  1.9489e-02, -3.2278e-02,\n",
       "                       3.9856e-02, -1.5355e-02,  1.7044e-03,  7.1350e-03,  2.4934e-02,\n",
       "                       8.0564e-03, -2.6131e-02,  9.5560e-03, -3.1488e-03, -8.3025e-02,\n",
       "                      -3.2486e-02,  8.5195e-02,  1.4256e-02,  4.9298e-03, -2.8495e-02,\n",
       "                      -8.2564e-03,  1.8953e-02,  3.0541e-02,  2.6932e-04, -8.4917e-03,\n",
       "                       4.4194e-02,  1.5759e-02, -2.5738e-02, -6.5504e-03,  1.9171e-02,\n",
       "                       8.2963e-02,  8.1218e-02,  1.0216e-02,  4.9584e-02,  2.7747e-02,\n",
       "                       2.0364e-02, -5.8993e-02, -2.1713e-02,  4.2901e-02, -6.4844e-02,\n",
       "                      -3.5856e-02,  2.0159e-02,  1.2280e-02,  1.9477e-02,  8.0794e-03,\n",
       "                       1.4036e-02,  2.3038e-02,  1.7837e-02,  6.3311e-03,  8.2656e-02,\n",
       "                       3.0620e-02,  6.3379e-02,  2.8171e-04,  3.9178e-02,  2.4504e-02,\n",
       "                       2.3803e-03,  2.8519e-02,  4.3854e-03,  1.4198e-02,  3.6881e-03,\n",
       "                       1.7116e-02,  1.1707e-02, -7.8000e-02,  5.9089e-03, -2.2847e-02,\n",
       "                       9.6246e-03,  1.6401e-02,  2.6213e-03,  3.2604e-02, -3.8752e-04,\n",
       "                      -9.2263e-02,  2.6675e-02,  3.7366e-02,  1.0889e-02,  3.0205e-02,\n",
       "                       3.6932e-02, -8.5801e-04, -4.1748e-02, -2.3501e-02,  1.9322e-02,\n",
       "                       3.3753e-02, -7.6489e-02,  5.7712e-02,  2.9180e-02,  1.7317e-03,\n",
       "                       6.9746e-02,  3.9854e-03, -3.2651e-02,  3.1778e-02,  2.1570e-02,\n",
       "                      -7.5618e-02, -3.4258e-02, -4.2241e-02, -4.2795e-02, -9.4133e-03,\n",
       "                       4.4983e-02,  1.4728e-03,  9.4112e-03, -1.1436e-02,  4.2774e-03,\n",
       "                       9.0788e-03, -3.7025e-02, -3.5028e-03,  5.1136e-02, -8.4633e-02,\n",
       "                       2.0518e-02,  2.5992e-02, -3.5031e-02, -1.4867e-02, -3.7173e-03,\n",
       "                       8.4270e-02,  7.6713e-03,  2.1397e-02,  2.2000e-02,  2.1660e-02,\n",
       "                       7.2723e-02,  7.9597e-03, -4.0649e-02, -5.1346e-02, -8.1380e-02,\n",
       "                      -3.0143e-02,  4.5333e-03, -3.8563e-02, -2.2588e-02,  3.9832e-03,\n",
       "                      -8.6998e-02,  1.8596e-03,  9.6604e-03, -3.2775e-02, -8.0223e-02,\n",
       "                      -2.8553e-02, -5.4847e-03,  3.2834e-02,  6.0365e-03,  7.5464e-02,\n",
       "                       1.1860e-02,  1.9966e-02, -7.8904e-02,  1.5991e-02,  3.2984e-02,\n",
       "                      -1.2770e-02,  1.4340e-02, -1.4312e-02,  7.5651e-03,  2.0670e-02,\n",
       "                      -4.0536e-02], device='cuda:0')),\n",
       "             ('fc_layers.4.weight',\n",
       "              tensor([[ 0.0042, -0.0314, -0.0319,  ...,  0.0073, -0.1043,  0.0822],\n",
       "                      [ 0.0310, -0.0863,  0.0227,  ..., -0.0411, -0.1138,  0.0266],\n",
       "                      [ 0.0175,  0.0410, -0.0317,  ...,  0.0431,  0.0241, -0.0361],\n",
       "                      ...,\n",
       "                      [-0.1242, -0.0361,  0.1132,  ...,  0.0206, -0.1135,  0.0339],\n",
       "                      [-0.0191, -0.0127, -0.0796,  ..., -0.0540,  0.0664, -0.0190],\n",
       "                      [ 0.0531,  0.0427, -0.0253,  ...,  0.0574,  0.0696,  0.0151]],\n",
       "                     device='cuda:0')),\n",
       "             ('fc_layers.4.bias',\n",
       "              tensor([-6.1170e-02, -5.3356e-02, -6.0098e-02,  4.6101e-02,  5.0583e-02,\n",
       "                       6.9794e-02,  6.8906e-02,  9.9137e-02,  8.6649e-02,  4.9389e-02,\n",
       "                      -9.3838e-03,  1.8585e-01,  2.5331e-02,  6.3591e-02, -9.7334e-03,\n",
       "                       8.0017e-02, -2.1177e-02, -1.3936e-02,  7.8853e-02,  9.6421e-02,\n",
       "                       5.7707e-02,  2.5162e-02,  1.0525e-01,  3.7884e-02,  1.0699e-01,\n",
       "                       1.3205e-01,  7.8976e-02,  8.7946e-02, -1.8170e-02, -5.3025e-02,\n",
       "                       1.2583e-01,  7.1666e-02,  7.2502e-02,  5.9159e-02,  8.4573e-02,\n",
       "                       2.0160e-01,  6.9626e-02, -7.0112e-02,  9.5850e-02,  2.6490e-02,\n",
       "                       5.3874e-02,  3.6749e-02,  2.3431e-02, -3.4446e-02,  1.1494e-02,\n",
       "                      -8.6110e-02,  3.6659e-02,  9.6973e-02,  2.7437e-02,  1.5089e-02,\n",
       "                       1.0034e-01, -2.4043e-02,  2.6762e-02,  9.7533e-02,  1.0072e-01,\n",
       "                      -4.2464e-03,  1.3815e-02,  9.4820e-03,  9.3298e-02,  7.0299e-02,\n",
       "                       1.5709e-02, -3.4663e-02, -7.7343e-03,  1.9253e-02,  1.1675e-01,\n",
       "                      -2.0509e-02,  7.4233e-02, -5.8588e-02, -1.2170e-02,  4.3190e-02,\n",
       "                       1.1229e-01,  7.5940e-02,  2.3773e-02,  8.9199e-02,  8.3754e-02,\n",
       "                       9.8131e-02, -7.2340e-02,  8.0861e-02, -7.6088e-02,  8.8537e-02,\n",
       "                       4.5483e-02, -9.8725e-03,  1.2425e-02, -1.5576e-02,  2.4614e-02,\n",
       "                       6.7921e-02, -2.3076e-02,  5.7928e-04,  2.5543e-01,  2.5124e-01,\n",
       "                       1.6578e-01,  8.0597e-02,  2.1657e-01, -3.7871e-02,  9.4980e-03,\n",
       "                       1.2301e-01,  1.4815e-02,  1.2411e-02, -8.8074e-02,  9.4149e-02,\n",
       "                      -1.5113e-02, -1.5077e-02, -6.1865e-02, -1.7592e-04,  2.9189e-02,\n",
       "                       7.8601e-02,  3.7490e-02,  1.1288e-01,  6.5595e-02, -4.2815e-03,\n",
       "                       7.1569e-02,  1.0089e-01,  2.6539e-02,  8.4466e-02,  4.4073e-03,\n",
       "                       1.4529e-02, -8.2215e-02,  1.8430e-02,  1.2891e-01,  3.8751e-02,\n",
       "                       6.3015e-02,  1.3476e-01,  8.5651e-02,  1.3018e-01,  9.8888e-02,\n",
       "                       5.2178e-02,  1.2488e-02,  1.3461e-01], device='cuda:0')),\n",
       "             ('fc_layers.6.weight',\n",
       "              tensor([[ 0.0042, -0.0108, -0.0273,  ...,  0.1936, -0.0925,  0.0337],\n",
       "                      [ 0.0534, -0.0022, -0.0148,  ...,  0.2181, -0.0361,  0.0462],\n",
       "                      [ 0.0850,  0.1275,  0.0819,  ..., -0.0216, -0.0252, -0.0946],\n",
       "                      ...,\n",
       "                      [-0.0616, -0.0861, -0.0419,  ..., -0.1290, -0.0270, -0.0095],\n",
       "                      [-0.0428, -0.0270, -0.0801,  ...,  0.0658, -0.0999,  0.0378],\n",
       "                      [-0.0403,  0.0655, -0.0318,  ...,  0.1900, -0.0072, -0.0021]],\n",
       "                     device='cuda:0')),\n",
       "             ('fc_layers.6.bias',\n",
       "              tensor([ 0.1377,  0.0490, -0.0825,  0.1095, -0.1147,  0.2113,  0.1821, -0.1142,\n",
       "                       0.0896,  0.0102,  0.0977, -0.0782, -0.0520,  0.1746, -0.1770,  0.1954,\n",
       "                       0.0752,  0.1303,  0.0790, -0.0414,  0.1844,  0.1600,  0.1932,  0.0166,\n",
       "                      -0.0017,  0.1268,  0.2044, -0.0017,  0.2091,  0.1581, -0.0934,  0.1725,\n",
       "                      -0.0512, -0.0329,  0.0032, -0.0601,  0.2122,  0.2401, -0.0209,  0.0630,\n",
       "                      -0.0322,  0.1382,  0.1408, -0.0930,  0.0998, -0.0971, -0.0427,  0.0647,\n",
       "                       0.0686,  0.0373, -0.0349, -0.0672,  0.0425, -0.0760, -0.0665,  0.0631,\n",
       "                       0.0995, -0.0372, -0.0412, -0.0587,  0.1376,  0.0496, -0.0077,  0.1059],\n",
       "                     device='cuda:0')),\n",
       "             ('fc_layers.8.weight',\n",
       "              tensor([[ 0.0376,  0.1564, -0.0456, -0.0344, -0.0972, -0.1558,  0.0545, -0.0547,\n",
       "                        0.0566,  0.1766, -0.0344,  0.1457,  0.0538, -0.1732,  0.0194, -0.1519,\n",
       "                       -0.1350,  0.0764,  0.0889, -0.0240, -0.1382, -0.1239, -0.1128,  0.0432,\n",
       "                       -0.0127,  0.1625, -0.0555, -0.0213, -0.0925, -0.1053, -0.0099, -0.0820,\n",
       "                       -0.1012, -0.0685,  0.1223,  0.0199, -0.1192, -0.1116,  0.1030,  0.0022,\n",
       "                        0.0252,  0.0954, -0.0214,  0.0471,  0.0921, -0.0584,  0.0926,  0.1577,\n",
       "                       -0.1193,  0.0632,  0.0349, -0.1019,  0.0632,  0.0053,  0.0172,  0.0123,\n",
       "                       -0.1439,  0.0345,  0.1232,  0.1188,  0.1569, -0.1381, -0.0340, -0.0445],\n",
       "                      [-0.0968, -0.1935, -0.0234, -0.1714, -0.0438,  0.0236,  0.1721,  0.0512,\n",
       "                       -0.0185, -0.0669,  0.0418, -0.0702, -0.0128,  0.0386, -0.0539, -0.0502,\n",
       "                       -0.0202, -0.1504, -0.1238, -0.0295, -0.0152, -0.0127, -0.0617, -0.0943,\n",
       "                       -0.0451,  0.0189,  0.0482,  0.0810,  0.1156, -0.0195, -0.0083,  0.1786,\n",
       "                       -0.0087, -0.0005,  0.0447, -0.1747,  0.1192,  0.1490, -0.1391, -0.1919,\n",
       "                       -0.0258, -0.0693, -0.0957, -0.0748, -0.1699, -0.0870,  0.0727, -0.1103,\n",
       "                       -0.0445, -0.1256, -0.0591, -0.0935, -0.1155, -0.0195, -0.1546, -0.1016,\n",
       "                        0.0193, -0.0798,  0.0530, -0.0272, -0.0871,  0.1405, -0.1243, -0.1278]],\n",
       "                     device='cuda:0')),\n",
       "             ('fc_layers.8.bias',\n",
       "              tensor([-0.1449,  0.0564], device='cuda:0'))])"
      ]
     },
     "execution_count": 106,
     "metadata": {},
     "output_type": "execute_result"
    }
   ],
   "source": [
    "glob_model.state_dict()"
   ]
  },
  {
   "cell_type": "markdown",
   "id": "33873c50-b0df-4153-a57b-673a3a457cfa",
   "metadata": {},
   "source": [
    "### Evaluate the global model all attacks type among clients"
   ]
  },
  {
   "cell_type": "code",
   "execution_count": 107,
   "id": "ffb4916e-a5c2-47c1-810a-1a0a4fa4566d",
   "metadata": {
    "tags": []
   },
   "outputs": [],
   "source": [
    "# Define the evaluation function\n",
    "criterion = nn.CrossEntropyLoss()\n",
    "\n",
    "def evaluate(model, test_loader, criterion, device):\n",
    "    model.eval()\n",
    "    test_loss = 0.0\n",
    "    correct = 0\n",
    "    total = 0\n",
    "    predictions = []\n",
    "    true_labels = []\n",
    "\n",
    "    with torch.no_grad():\n",
    "        for inputs, labels in test_loader:\n",
    "            inputs = inputs.to(device)\n",
    "            labels = labels.to(device)\n",
    "\n",
    "            outputs = model(inputs)\n",
    "            loss = criterion(outputs, labels)\n",
    "\n",
    "            test_loss += loss.item() * inputs.size(0)\n",
    "            _, predicted = outputs.max(1)\n",
    "            total += labels.size(0)\n",
    "            correct += predicted.eq(labels).sum().item()\n",
    "\n",
    "            predictions.extend(predicted.tolist())\n",
    "            true_labels.extend(labels.tolist())\n",
    "\n",
    "    test_loss = test_loss / len(test_loader.dataset)\n",
    "    accuracy = 100.0 * correct / total\n",
    "\n",
    "    return test_loss, accuracy, predictions, true_labels"
   ]
  },
  {
   "cell_type": "code",
   "execution_count": 108,
   "id": "b28a49b5-e187-4f3e-9ef6-ea69b4f038dd",
   "metadata": {
    "tags": []
   },
   "outputs": [],
   "source": [
    "silo0_sub = CustomDataset('client_data/nids/0/0_test_new.csv')\n",
    "silo1_sub = CustomDataset('client_data/nids/1/1_test_new.csv')\n",
    "silo2_sub = CustomDataset('client_data/nids/2/2_test_new.csv')\n",
    "silo3_sub = CustomDataset('client_data/nids/3/3_test_new.csv')"
   ]
  },
  {
   "cell_type": "code",
   "execution_count": 109,
   "id": "87dc912c-199f-43a6-a442-23c2578892a2",
   "metadata": {
    "tags": []
   },
   "outputs": [
    {
     "data": {
      "text/plain": [
       "35077"
      ]
     },
     "execution_count": 109,
     "metadata": {},
     "output_type": "execute_result"
    }
   ],
   "source": [
    "len(silo0_sub)"
   ]
  },
  {
   "cell_type": "code",
   "execution_count": 110,
   "id": "fd422bcf-37d0-4053-87a9-350de1a19e3e",
   "metadata": {
    "tags": []
   },
   "outputs": [],
   "source": [
    "test_silo0_sub = DataLoader(silo0_sub, batch_size=batch_size, shuffle=True)\n",
    "test_silo1_sub = DataLoader(silo1_sub, batch_size=batch_size, shuffle=True)\n",
    "test_silo2_sub = DataLoader(silo2_sub, batch_size=batch_size, shuffle=True)\n",
    "test_silo3_sub = DataLoader(silo3_sub, batch_size=batch_size, shuffle=True)"
   ]
  },
  {
   "cell_type": "code",
   "execution_count": 111,
   "id": "c74c19dd-e94c-47b4-a521-c9d392a84024",
   "metadata": {
    "tags": []
   },
   "outputs": [
    {
     "data": {
      "text/plain": [
       "1097"
      ]
     },
     "execution_count": 111,
     "metadata": {},
     "output_type": "execute_result"
    }
   ],
   "source": [
    "len(test_silo0_sub)"
   ]
  },
  {
   "cell_type": "code",
   "execution_count": 112,
   "id": "cbade5e9-c4ba-4fbb-ac2b-8c40eba2ab7d",
   "metadata": {
    "tags": []
   },
   "outputs": [
    {
     "name": "stdout",
     "output_type": "stream",
     "text": [
      "Test Loss: 0.0166, Test Accuracy: 99.44%\n",
      "Classification Report:\n",
      "              precision    recall  f1-score   support\n",
      "\n",
      "           0       0.99      1.00      0.99     13566\n",
      "           1       1.00      0.99      1.00     21511\n",
      "\n",
      "    accuracy                           0.99     35077\n",
      "   macro avg       0.99      1.00      0.99     35077\n",
      "weighted avg       0.99      0.99      0.99     35077\n",
      "\n"
     ]
    }
   ],
   "source": [
    "# Evaluate the model\n",
    "test_loss, test_accuracy, predictions, true_labels = evaluate(glob_model, test_silo0_sub, criterion, device)\n",
    "\n",
    "# Print the training and evaluation metrics\n",
    "print(f'Test Loss: {test_loss:.4f}, Test Accuracy: {test_accuracy:.2f}%')\n",
    "\n",
    "# Generate classification report\n",
    "report = classification_report(true_labels, predictions)\n",
    "print('Classification Report:')\n",
    "print(report)"
   ]
  },
  {
   "cell_type": "code",
   "execution_count": 113,
   "id": "e399f7bc-555c-4715-84bb-0c4b2dd7eeac",
   "metadata": {
    "tags": []
   },
   "outputs": [
    {
     "name": "stdout",
     "output_type": "stream",
     "text": [
      "Test Loss: 0.3265, Test Accuracy: 93.49%\n",
      "Classification Report:\n",
      "              precision    recall  f1-score   support\n",
      "\n",
      "           0       0.87      1.00      0.93     13464\n",
      "           1       1.00      0.89      0.94     18283\n",
      "\n",
      "    accuracy                           0.93     31747\n",
      "   macro avg       0.93      0.94      0.93     31747\n",
      "weighted avg       0.94      0.93      0.94     31747\n",
      "\n"
     ]
    }
   ],
   "source": [
    "# Evaluate the model\n",
    "test_loss, test_accuracy, predictions, true_labels = evaluate(glob_model, test_silo1_sub, criterion, device)\n",
    "\n",
    "# Print the training and evaluation metrics\n",
    "print(f'Test Loss: {test_loss:.4f}, Test Accuracy: {test_accuracy:.2f}%')\n",
    "\n",
    "# Generate classification report\n",
    "report = classification_report(true_labels, predictions)\n",
    "print('Classification Report:')\n",
    "print(report)"
   ]
  },
  {
   "cell_type": "code",
   "execution_count": 114,
   "id": "21de8d51-1681-4b31-bc20-d2f751d44bae",
   "metadata": {
    "tags": []
   },
   "outputs": [
    {
     "name": "stdout",
     "output_type": "stream",
     "text": [
      "Test Loss: 0.8522, Test Accuracy: 86.49%\n",
      "Classification Report:\n",
      "              precision    recall  f1-score   support\n",
      "\n",
      "           0       0.79      1.00      0.88     13687\n",
      "           1       1.00      0.73      0.84     13650\n",
      "\n",
      "    accuracy                           0.86     27337\n",
      "   macro avg       0.89      0.86      0.86     27337\n",
      "weighted avg       0.89      0.86      0.86     27337\n",
      "\n"
     ]
    }
   ],
   "source": [
    "# Evaluate the model\n",
    "test_loss, test_accuracy, predictions, true_labels = evaluate(glob_model, test_silo2_sub, criterion, device)\n",
    "\n",
    "# Print the training and evaluation metrics\n",
    "print(f'Test Loss: {test_loss:.4f}, Test Accuracy: {test_accuracy:.2f}%')\n",
    "\n",
    "# Generate classification report\n",
    "report = classification_report(true_labels, predictions)\n",
    "print('Classification Report:')\n",
    "print(report)"
   ]
  },
  {
   "cell_type": "code",
   "execution_count": 115,
   "id": "8808fb6d-dedf-439c-8276-3408751cf61d",
   "metadata": {
    "tags": []
   },
   "outputs": [
    {
     "name": "stdout",
     "output_type": "stream",
     "text": [
      "Test Loss: 0.8921, Test Accuracy: 86.15%\n",
      "Classification Report:\n",
      "              precision    recall  f1-score   support\n",
      "\n",
      "           0       0.78      1.00      0.88     13591\n",
      "           1       1.00      0.73      0.84     13746\n",
      "\n",
      "    accuracy                           0.86     27337\n",
      "   macro avg       0.89      0.86      0.86     27337\n",
      "weighted avg       0.89      0.86      0.86     27337\n",
      "\n"
     ]
    }
   ],
   "source": [
    "# Evaluate the model\n",
    "test_loss, test_accuracy, predictions, true_labels = evaluate(glob_model, test_silo3_sub, criterion, device)\n",
    "\n",
    "# Print the training and evaluation metrics\n",
    "print(f'Test Loss: {test_loss:.4f}, Test Accuracy: {test_accuracy:.2f}%')\n",
    "\n",
    "# Generate classification report\n",
    "report = classification_report(true_labels, predictions)\n",
    "print('Classification Report:')\n",
    "print(report)"
   ]
  },
  {
   "cell_type": "markdown",
   "id": "a5d75fad-755b-4aac-a549-2ecb200a7c5e",
   "metadata": {},
   "source": [
    "## Intepretation:\n",
    "Eventhough we have pros lik data security from FL, buts still facing cons:\n",
    "1. FL model can predict certain attacks among all client\n",
    "2. FL model is affected by dominated training silo clients, making its performance worse\n",
    "\n",
    "=> because the non-idd data, we need to solve this"
   ]
  },
  {
   "cell_type": "markdown",
   "id": "c57dad9f-36d9-4b7d-b6aa-434f5eb07191",
   "metadata": {},
   "source": [
    "### Test on adv samples"
   ]
  },
  {
   "cell_type": "code",
   "execution_count": 40,
   "id": "43172d40-d077-4d62-8ce2-68adb93235ae",
   "metadata": {
    "tags": []
   },
   "outputs": [],
   "source": [
    "import pandas as pd"
   ]
  },
  {
   "cell_type": "code",
   "execution_count": 123,
   "id": "d86a218f-ee79-4263-800f-3a0de6af7f7f",
   "metadata": {
    "tags": []
   },
   "outputs": [],
   "source": [
    "truerandom_20_test = CustomDataset('datasets/nids/adv/20_adv_truerandom_test.csv')\n",
    "incremental_20_test = CustomDataset('datasets/nids/adv/20_adv_incremental_test.csv')\n",
    "all_20_test = CustomDataset('datasets/nids/adv/adv_all_benign_attack_20.csv')"
   ]
  },
  {
   "cell_type": "code",
   "execution_count": null,
   "id": "17ee7977-e357-4d68-acf7-2d96a9777f4c",
   "metadata": {},
   "outputs": [],
   "source": []
  },
  {
   "cell_type": "code",
   "execution_count": 124,
   "id": "554b153e-4cbd-420d-a7a0-ccdee5b5f232",
   "metadata": {
    "tags": []
   },
   "outputs": [],
   "source": [
    "truerandom_20_test.labels = truerandom_20_test.labels + 1"
   ]
  },
  {
   "cell_type": "code",
   "execution_count": 125,
   "id": "a954b8bd-00d2-420f-bf40-0aa47feb732e",
   "metadata": {
    "tags": []
   },
   "outputs": [],
   "source": [
    "incremental_20_test.labels = incremental_20_test.labels + 1\n",
    "all_20_test.labels = all_20_test.labels + 1"
   ]
  },
  {
   "cell_type": "code",
   "execution_count": 126,
   "id": "f0630272-c944-430c-9d64-20028006afce",
   "metadata": {},
   "outputs": [],
   "source": [
    "truerandom_20_test_loader = DataLoader(truerandom_20_test, batch_size=batch_size, shuffle=True)\n",
    "incremental_20_test_loader = DataLoader(incremental_20_test, batch_size=batch_size, shuffle=True)\n",
    "all_20_test_loader = DataLoader(all_20_test, batch_size=batch_size, shuffle=True)"
   ]
  },
  {
   "cell_type": "code",
   "execution_count": 127,
   "id": "a28074b5-61f2-47f7-98a0-ff8af74ff884",
   "metadata": {
    "tags": []
   },
   "outputs": [
    {
     "name": "stdout",
     "output_type": "stream",
     "text": [
      "Test Loss: 0.3442, Test Accuracy: 91.61%\n",
      "Classification Report:\n",
      "              precision    recall  f1-score   support\n",
      "\n",
      "           0       0.00      0.00      0.00         0\n",
      "           1       1.00      0.92      0.96      1800\n",
      "\n",
      "    accuracy                           0.92      1800\n",
      "   macro avg       0.50      0.46      0.48      1800\n",
      "weighted avg       1.00      0.92      0.96      1800\n",
      "\n"
     ]
    },
    {
     "name": "stderr",
     "output_type": "stream",
     "text": [
      "/usr/lib/python3/dist-packages/sklearn/metrics/_classification.py:1221: UndefinedMetricWarning: Recall and F-score are ill-defined and being set to 0.0 in labels with no true samples. Use `zero_division` parameter to control this behavior.\n",
      "  _warn_prf(average, modifier, msg_start, len(result))\n"
     ]
    }
   ],
   "source": [
    "# Evaluate the model\n",
    "test_loss, test_accuracy, predictions, true_labels = evaluate(glob_model, truerandom_20_test_loader, criterion, device)\n",
    "\n",
    "# Print the training and evaluation metrics\n",
    "print(f'Test Loss: {test_loss:.4f}, Test Accuracy: {test_accuracy:.2f}%')\n",
    "\n",
    "# Generate classification report\n",
    "report = classification_report(true_labels, predictions)\n",
    "print('Classification Report:')\n",
    "print(report)"
   ]
  },
  {
   "cell_type": "code",
   "execution_count": 128,
   "id": "94efa63e-e11b-4a5c-a3a7-350b29464327",
   "metadata": {
    "tags": []
   },
   "outputs": [
    {
     "name": "stdout",
     "output_type": "stream",
     "text": [
      "Test Loss: 0.4825, Test Accuracy: 88.90%\n",
      "Classification Report:\n",
      "              precision    recall  f1-score   support\n",
      "\n",
      "           0       0.00      0.00      0.00         0\n",
      "           1       1.00      0.89      0.94      1000\n",
      "\n",
      "    accuracy                           0.89      1000\n",
      "   macro avg       0.50      0.44      0.47      1000\n",
      "weighted avg       1.00      0.89      0.94      1000\n",
      "\n"
     ]
    }
   ],
   "source": [
    "# Evaluate the model\n",
    "test_loss, test_accuracy, predictions, true_labels = evaluate(glob_model, incremental_20_test_loader, criterion, device)\n",
    "\n",
    "# Print the training and evaluation metrics\n",
    "print(f'Test Loss: {test_loss:.4f}, Test Accuracy: {test_accuracy:.2f}%')\n",
    "\n",
    "# Generate classification report\n",
    "report = classification_report(true_labels, predictions)\n",
    "print('Classification Report:')\n",
    "print(report)"
   ]
  },
  {
   "cell_type": "code",
   "execution_count": null,
   "id": "ee1082be-772f-414f-9049-ec29816cc333",
   "metadata": {
    "tags": []
   },
   "outputs": [],
   "source": [
    "# Evaluate the model\n",
    "test_loss, test_accuracy, predictions, true_labels = evaluate(glob_model, all_20_test_loader, criterion, device)\n",
    "\n",
    "# Print the training and evaluation metrics\n",
    "print(f'Test Loss: {test_loss:.4f}, Test Accuracy: {test_accuracy:.2f}%')\n",
    "\n",
    "# Generate classification report\n",
    "report = classification_report(true_labels, predictions)\n",
    "print('Classification Report:')\n",
    "print(report)"
   ]
  },
  {
   "cell_type": "markdown",
   "id": "bf810090-0bdf-45ff-add0-6caa8b388c19",
   "metadata": {},
   "source": [
    "### Add benign samples + attack samples for testing"
   ]
  },
  {
   "cell_type": "code",
   "execution_count": 117,
   "id": "fb130971-8b58-4988-ab15-bf8964bb6877",
   "metadata": {
    "tags": []
   },
   "outputs": [],
   "source": [
    "new_truerandom_20_test = CustomDataset('datasets/nids/adv/adv_truerandom_benign_attack_20.csv')\n",
    "new_incremental_20_test = CustomDataset('datasets/nids/adv/adv_incremental_benign_attack_20.csv')\n",
    "new_all_20_test = CustomDataset('datasets/nids/adv/adv_all_benign_attack_20.csv')"
   ]
  },
  {
   "cell_type": "code",
   "execution_count": 118,
   "id": "280b2d14-a9f4-43ac-860c-9b559f2346ff",
   "metadata": {
    "tags": []
   },
   "outputs": [
    {
     "data": {
      "text/html": [
       "<div>\n",
       "<style scoped>\n",
       "    .dataframe tbody tr th:only-of-type {\n",
       "        vertical-align: middle;\n",
       "    }\n",
       "\n",
       "    .dataframe tbody tr th {\n",
       "        vertical-align: top;\n",
       "    }\n",
       "\n",
       "    .dataframe thead th {\n",
       "        text-align: right;\n",
       "    }\n",
       "</style>\n",
       "<table border=\"1\" class=\"dataframe\">\n",
       "  <thead>\n",
       "    <tr style=\"text-align: right;\">\n",
       "      <th></th>\n",
       "      <th>ip_header_byte_2</th>\n",
       "      <th>ip_header_byte_3</th>\n",
       "      <th>ip_header_byte_4</th>\n",
       "      <th>ip_header_byte_5</th>\n",
       "      <th>ip_header_byte_6</th>\n",
       "      <th>ip_header_byte_7</th>\n",
       "      <th>ip_header_byte_8</th>\n",
       "      <th>ip_header_byte_10</th>\n",
       "      <th>ip_header_byte_11</th>\n",
       "      <th>tcp_header_byte_4</th>\n",
       "      <th>...</th>\n",
       "      <th>tcp_segment_data_byte_1451</th>\n",
       "      <th>tcp_segment_data_byte_1452</th>\n",
       "      <th>tcp_segment_data_byte_1453</th>\n",
       "      <th>tcp_segment_data_byte_1454</th>\n",
       "      <th>tcp_segment_data_byte_1455</th>\n",
       "      <th>tcp_segment_data_byte_1456</th>\n",
       "      <th>tcp_segment_data_byte_1457</th>\n",
       "      <th>tcp_segment_data_byte_1458</th>\n",
       "      <th>tcp_segment_data_byte_1459</th>\n",
       "      <th>label_bin</th>\n",
       "    </tr>\n",
       "  </thead>\n",
       "  <tbody>\n",
       "    <tr>\n",
       "      <th>0</th>\n",
       "      <td>0.0</td>\n",
       "      <td>0.156863</td>\n",
       "      <td>0.078431</td>\n",
       "      <td>0.329412</td>\n",
       "      <td>0.25098</td>\n",
       "      <td>0.0</td>\n",
       "      <td>0.494118</td>\n",
       "      <td>0.443137</td>\n",
       "      <td>0.564706</td>\n",
       "      <td>0.698039</td>\n",
       "      <td>...</td>\n",
       "      <td>0.0</td>\n",
       "      <td>0.0</td>\n",
       "      <td>0.0</td>\n",
       "      <td>0.0</td>\n",
       "      <td>0.0</td>\n",
       "      <td>0.0</td>\n",
       "      <td>0.0</td>\n",
       "      <td>0.0</td>\n",
       "      <td>0.0</td>\n",
       "      <td>1</td>\n",
       "    </tr>\n",
       "    <tr>\n",
       "      <th>1</th>\n",
       "      <td>0.0</td>\n",
       "      <td>0.235294</td>\n",
       "      <td>0.011765</td>\n",
       "      <td>0.674510</td>\n",
       "      <td>0.25098</td>\n",
       "      <td>0.0</td>\n",
       "      <td>0.329412</td>\n",
       "      <td>0.674510</td>\n",
       "      <td>0.141176</td>\n",
       "      <td>0.407843</td>\n",
       "      <td>...</td>\n",
       "      <td>0.0</td>\n",
       "      <td>0.0</td>\n",
       "      <td>0.0</td>\n",
       "      <td>0.0</td>\n",
       "      <td>0.0</td>\n",
       "      <td>0.0</td>\n",
       "      <td>0.0</td>\n",
       "      <td>0.0</td>\n",
       "      <td>0.0</td>\n",
       "      <td>1</td>\n",
       "    </tr>\n",
       "    <tr>\n",
       "      <th>2</th>\n",
       "      <td>0.0</td>\n",
       "      <td>0.274510</td>\n",
       "      <td>0.709804</td>\n",
       "      <td>0.050980</td>\n",
       "      <td>0.12549</td>\n",
       "      <td>0.0</td>\n",
       "      <td>0.254902</td>\n",
       "      <td>0.176471</td>\n",
       "      <td>0.725490</td>\n",
       "      <td>0.223529</td>\n",
       "      <td>...</td>\n",
       "      <td>0.0</td>\n",
       "      <td>0.0</td>\n",
       "      <td>0.0</td>\n",
       "      <td>0.0</td>\n",
       "      <td>0.0</td>\n",
       "      <td>0.0</td>\n",
       "      <td>0.0</td>\n",
       "      <td>0.0</td>\n",
       "      <td>0.0</td>\n",
       "      <td>1</td>\n",
       "    </tr>\n",
       "    <tr>\n",
       "      <th>3</th>\n",
       "      <td>0.0</td>\n",
       "      <td>0.156863</td>\n",
       "      <td>0.109804</td>\n",
       "      <td>0.145098</td>\n",
       "      <td>0.25098</td>\n",
       "      <td>0.0</td>\n",
       "      <td>0.494118</td>\n",
       "      <td>0.411765</td>\n",
       "      <td>0.749020</td>\n",
       "      <td>0.698039</td>\n",
       "      <td>...</td>\n",
       "      <td>0.0</td>\n",
       "      <td>0.0</td>\n",
       "      <td>0.0</td>\n",
       "      <td>0.0</td>\n",
       "      <td>0.0</td>\n",
       "      <td>0.0</td>\n",
       "      <td>0.0</td>\n",
       "      <td>0.0</td>\n",
       "      <td>0.0</td>\n",
       "      <td>1</td>\n",
       "    </tr>\n",
       "    <tr>\n",
       "      <th>4</th>\n",
       "      <td>0.0</td>\n",
       "      <td>0.156863</td>\n",
       "      <td>0.043137</td>\n",
       "      <td>0.019608</td>\n",
       "      <td>0.25098</td>\n",
       "      <td>0.0</td>\n",
       "      <td>0.501961</td>\n",
       "      <td>0.074510</td>\n",
       "      <td>0.470588</td>\n",
       "      <td>0.858824</td>\n",
       "      <td>...</td>\n",
       "      <td>0.0</td>\n",
       "      <td>0.0</td>\n",
       "      <td>0.0</td>\n",
       "      <td>0.0</td>\n",
       "      <td>0.0</td>\n",
       "      <td>0.0</td>\n",
       "      <td>0.0</td>\n",
       "      <td>0.0</td>\n",
       "      <td>0.0</td>\n",
       "      <td>0</td>\n",
       "    </tr>\n",
       "    <tr>\n",
       "      <th>...</th>\n",
       "      <td>...</td>\n",
       "      <td>...</td>\n",
       "      <td>...</td>\n",
       "      <td>...</td>\n",
       "      <td>...</td>\n",
       "      <td>...</td>\n",
       "      <td>...</td>\n",
       "      <td>...</td>\n",
       "      <td>...</td>\n",
       "      <td>...</td>\n",
       "      <td>...</td>\n",
       "      <td>...</td>\n",
       "      <td>...</td>\n",
       "      <td>...</td>\n",
       "      <td>...</td>\n",
       "      <td>...</td>\n",
       "      <td>...</td>\n",
       "      <td>...</td>\n",
       "      <td>...</td>\n",
       "      <td>...</td>\n",
       "      <td>...</td>\n",
       "    </tr>\n",
       "    <tr>\n",
       "      <th>7995</th>\n",
       "      <td>0.0</td>\n",
       "      <td>0.156863</td>\n",
       "      <td>0.098039</td>\n",
       "      <td>0.737255</td>\n",
       "      <td>0.25098</td>\n",
       "      <td>0.0</td>\n",
       "      <td>0.501961</td>\n",
       "      <td>0.015686</td>\n",
       "      <td>0.756863</td>\n",
       "      <td>0.858824</td>\n",
       "      <td>...</td>\n",
       "      <td>0.0</td>\n",
       "      <td>0.0</td>\n",
       "      <td>0.0</td>\n",
       "      <td>0.0</td>\n",
       "      <td>0.0</td>\n",
       "      <td>0.0</td>\n",
       "      <td>0.0</td>\n",
       "      <td>0.0</td>\n",
       "      <td>0.0</td>\n",
       "      <td>0</td>\n",
       "    </tr>\n",
       "    <tr>\n",
       "      <th>7996</th>\n",
       "      <td>0.0</td>\n",
       "      <td>0.156863</td>\n",
       "      <td>0.149020</td>\n",
       "      <td>0.141176</td>\n",
       "      <td>0.25098</td>\n",
       "      <td>0.0</td>\n",
       "      <td>0.501961</td>\n",
       "      <td>0.972549</td>\n",
       "      <td>0.345098</td>\n",
       "      <td>0.858824</td>\n",
       "      <td>...</td>\n",
       "      <td>0.0</td>\n",
       "      <td>0.0</td>\n",
       "      <td>0.0</td>\n",
       "      <td>0.0</td>\n",
       "      <td>0.0</td>\n",
       "      <td>0.0</td>\n",
       "      <td>0.0</td>\n",
       "      <td>0.0</td>\n",
       "      <td>0.0</td>\n",
       "      <td>0</td>\n",
       "    </tr>\n",
       "    <tr>\n",
       "      <th>7997</th>\n",
       "      <td>0.0</td>\n",
       "      <td>0.156863</td>\n",
       "      <td>0.105882</td>\n",
       "      <td>0.788235</td>\n",
       "      <td>0.25098</td>\n",
       "      <td>0.0</td>\n",
       "      <td>0.525490</td>\n",
       "      <td>0.384314</td>\n",
       "      <td>0.105882</td>\n",
       "      <td>0.062745</td>\n",
       "      <td>...</td>\n",
       "      <td>0.0</td>\n",
       "      <td>0.0</td>\n",
       "      <td>0.0</td>\n",
       "      <td>0.0</td>\n",
       "      <td>0.0</td>\n",
       "      <td>0.0</td>\n",
       "      <td>0.0</td>\n",
       "      <td>0.0</td>\n",
       "      <td>0.0</td>\n",
       "      <td>1</td>\n",
       "    </tr>\n",
       "    <tr>\n",
       "      <th>7998</th>\n",
       "      <td>0.0</td>\n",
       "      <td>0.156863</td>\n",
       "      <td>0.415686</td>\n",
       "      <td>0.988235</td>\n",
       "      <td>0.25098</td>\n",
       "      <td>0.0</td>\n",
       "      <td>0.501961</td>\n",
       "      <td>0.701961</td>\n",
       "      <td>0.501961</td>\n",
       "      <td>0.858824</td>\n",
       "      <td>...</td>\n",
       "      <td>0.0</td>\n",
       "      <td>0.0</td>\n",
       "      <td>0.0</td>\n",
       "      <td>0.0</td>\n",
       "      <td>0.0</td>\n",
       "      <td>0.0</td>\n",
       "      <td>0.0</td>\n",
       "      <td>0.0</td>\n",
       "      <td>0.0</td>\n",
       "      <td>0</td>\n",
       "    </tr>\n",
       "    <tr>\n",
       "      <th>7999</th>\n",
       "      <td>0.0</td>\n",
       "      <td>0.156863</td>\n",
       "      <td>0.160784</td>\n",
       "      <td>0.145098</td>\n",
       "      <td>0.25098</td>\n",
       "      <td>0.0</td>\n",
       "      <td>0.501961</td>\n",
       "      <td>0.960784</td>\n",
       "      <td>0.341176</td>\n",
       "      <td>0.858824</td>\n",
       "      <td>...</td>\n",
       "      <td>0.0</td>\n",
       "      <td>0.0</td>\n",
       "      <td>0.0</td>\n",
       "      <td>0.0</td>\n",
       "      <td>0.0</td>\n",
       "      <td>0.0</td>\n",
       "      <td>0.0</td>\n",
       "      <td>0.0</td>\n",
       "      <td>0.0</td>\n",
       "      <td>0</td>\n",
       "    </tr>\n",
       "  </tbody>\n",
       "</table>\n",
       "<p>8000 rows × 1526 columns</p>\n",
       "</div>"
      ],
      "text/plain": [
       "      ip_header_byte_2  ip_header_byte_3  ip_header_byte_4  ip_header_byte_5  \\\n",
       "0                  0.0          0.156863          0.078431          0.329412   \n",
       "1                  0.0          0.235294          0.011765          0.674510   \n",
       "2                  0.0          0.274510          0.709804          0.050980   \n",
       "3                  0.0          0.156863          0.109804          0.145098   \n",
       "4                  0.0          0.156863          0.043137          0.019608   \n",
       "...                ...               ...               ...               ...   \n",
       "7995               0.0          0.156863          0.098039          0.737255   \n",
       "7996               0.0          0.156863          0.149020          0.141176   \n",
       "7997               0.0          0.156863          0.105882          0.788235   \n",
       "7998               0.0          0.156863          0.415686          0.988235   \n",
       "7999               0.0          0.156863          0.160784          0.145098   \n",
       "\n",
       "      ip_header_byte_6  ip_header_byte_7  ip_header_byte_8  ip_header_byte_10  \\\n",
       "0              0.25098               0.0          0.494118           0.443137   \n",
       "1              0.25098               0.0          0.329412           0.674510   \n",
       "2              0.12549               0.0          0.254902           0.176471   \n",
       "3              0.25098               0.0          0.494118           0.411765   \n",
       "4              0.25098               0.0          0.501961           0.074510   \n",
       "...                ...               ...               ...                ...   \n",
       "7995           0.25098               0.0          0.501961           0.015686   \n",
       "7996           0.25098               0.0          0.501961           0.972549   \n",
       "7997           0.25098               0.0          0.525490           0.384314   \n",
       "7998           0.25098               0.0          0.501961           0.701961   \n",
       "7999           0.25098               0.0          0.501961           0.960784   \n",
       "\n",
       "      ip_header_byte_11  tcp_header_byte_4  ...  tcp_segment_data_byte_1451  \\\n",
       "0              0.564706           0.698039  ...                         0.0   \n",
       "1              0.141176           0.407843  ...                         0.0   \n",
       "2              0.725490           0.223529  ...                         0.0   \n",
       "3              0.749020           0.698039  ...                         0.0   \n",
       "4              0.470588           0.858824  ...                         0.0   \n",
       "...                 ...                ...  ...                         ...   \n",
       "7995           0.756863           0.858824  ...                         0.0   \n",
       "7996           0.345098           0.858824  ...                         0.0   \n",
       "7997           0.105882           0.062745  ...                         0.0   \n",
       "7998           0.501961           0.858824  ...                         0.0   \n",
       "7999           0.341176           0.858824  ...                         0.0   \n",
       "\n",
       "      tcp_segment_data_byte_1452  tcp_segment_data_byte_1453  \\\n",
       "0                            0.0                         0.0   \n",
       "1                            0.0                         0.0   \n",
       "2                            0.0                         0.0   \n",
       "3                            0.0                         0.0   \n",
       "4                            0.0                         0.0   \n",
       "...                          ...                         ...   \n",
       "7995                         0.0                         0.0   \n",
       "7996                         0.0                         0.0   \n",
       "7997                         0.0                         0.0   \n",
       "7998                         0.0                         0.0   \n",
       "7999                         0.0                         0.0   \n",
       "\n",
       "      tcp_segment_data_byte_1454  tcp_segment_data_byte_1455  \\\n",
       "0                            0.0                         0.0   \n",
       "1                            0.0                         0.0   \n",
       "2                            0.0                         0.0   \n",
       "3                            0.0                         0.0   \n",
       "4                            0.0                         0.0   \n",
       "...                          ...                         ...   \n",
       "7995                         0.0                         0.0   \n",
       "7996                         0.0                         0.0   \n",
       "7997                         0.0                         0.0   \n",
       "7998                         0.0                         0.0   \n",
       "7999                         0.0                         0.0   \n",
       "\n",
       "      tcp_segment_data_byte_1456  tcp_segment_data_byte_1457  \\\n",
       "0                            0.0                         0.0   \n",
       "1                            0.0                         0.0   \n",
       "2                            0.0                         0.0   \n",
       "3                            0.0                         0.0   \n",
       "4                            0.0                         0.0   \n",
       "...                          ...                         ...   \n",
       "7995                         0.0                         0.0   \n",
       "7996                         0.0                         0.0   \n",
       "7997                         0.0                         0.0   \n",
       "7998                         0.0                         0.0   \n",
       "7999                         0.0                         0.0   \n",
       "\n",
       "      tcp_segment_data_byte_1458  tcp_segment_data_byte_1459  label_bin  \n",
       "0                            0.0                         0.0          1  \n",
       "1                            0.0                         0.0          1  \n",
       "2                            0.0                         0.0          1  \n",
       "3                            0.0                         0.0          1  \n",
       "4                            0.0                         0.0          0  \n",
       "...                          ...                         ...        ...  \n",
       "7995                         0.0                         0.0          0  \n",
       "7996                         0.0                         0.0          0  \n",
       "7997                         0.0                         0.0          1  \n",
       "7998                         0.0                         0.0          0  \n",
       "7999                         0.0                         0.0          0  \n",
       "\n",
       "[8000 rows x 1526 columns]"
      ]
     },
     "execution_count": 118,
     "metadata": {},
     "output_type": "execute_result"
    }
   ],
   "source": [
    "new_all_20_test.data"
   ]
  },
  {
   "cell_type": "code",
   "execution_count": 119,
   "id": "f75bedb5-6bdf-49eb-9a77-ab80ffe35e76",
   "metadata": {
    "tags": []
   },
   "outputs": [],
   "source": [
    "new_truerandom_20_test_loader = DataLoader(new_truerandom_20_test, batch_size=batch_size, shuffle=True)\n",
    "new_incremental_20_test_loader = DataLoader(new_incremental_20_test, batch_size=batch_size, shuffle=True)\n",
    "new_all_20_test_loader = DataLoader(new_all_20_test, batch_size=batch_size, shuffle=True)"
   ]
  },
  {
   "cell_type": "code",
   "execution_count": 120,
   "id": "7cd7ba2f-1201-40db-9063-2728625d0cc5",
   "metadata": {
    "tags": []
   },
   "outputs": [
    {
     "name": "stdout",
     "output_type": "stream",
     "text": [
      "Test Loss: 0.1763, Test Accuracy: 95.69%\n",
      "Classification Report:\n",
      "              precision    recall  f1-score   support\n",
      "\n",
      "           0       0.92      1.00      0.96      1800\n",
      "           1       1.00      0.92      0.96      1800\n",
      "\n",
      "    accuracy                           0.96      3600\n",
      "   macro avg       0.96      0.96      0.96      3600\n",
      "weighted avg       0.96      0.96      0.96      3600\n",
      "\n"
     ]
    }
   ],
   "source": [
    "# Evaluate the model\n",
    "test_loss, test_accuracy, predictions, true_labels = evaluate(glob_model, new_truerandom_20_test_loader, criterion, device)\n",
    "\n",
    "# Print the training and evaluation metrics\n",
    "print(f'Test Loss: {test_loss:.4f}, Test Accuracy: {test_accuracy:.2f}%')\n",
    "\n",
    "# Generate classification report\n",
    "report = classification_report(true_labels, predictions)\n",
    "print('Classification Report:')\n",
    "print(report)"
   ]
  },
  {
   "cell_type": "code",
   "execution_count": 121,
   "id": "c0c4f20d-b65a-44f1-acb3-8e32465df3e9",
   "metadata": {
    "tags": []
   },
   "outputs": [
    {
     "name": "stdout",
     "output_type": "stream",
     "text": [
      "Test Loss: 0.2416, Test Accuracy: 94.45%\n",
      "Classification Report:\n",
      "              precision    recall  f1-score   support\n",
      "\n",
      "           0       0.90      1.00      0.95      1000\n",
      "           1       1.00      0.89      0.94      1000\n",
      "\n",
      "    accuracy                           0.94      2000\n",
      "   macro avg       0.95      0.94      0.94      2000\n",
      "weighted avg       0.95      0.94      0.94      2000\n",
      "\n"
     ]
    }
   ],
   "source": [
    "# Evaluate the model\n",
    "test_loss, test_accuracy, predictions, true_labels = evaluate(glob_model, new_incremental_20_test_loader, criterion, device)\n",
    "\n",
    "# Print the training and evaluation metrics\n",
    "print(f'Test Loss: {test_loss:.4f}, Test Accuracy: {test_accuracy:.2f}%')\n",
    "\n",
    "# Generate classification report\n",
    "report = classification_report(true_labels, predictions)\n",
    "print('Classification Report:')\n",
    "print(report)"
   ]
  },
  {
   "cell_type": "code",
   "execution_count": 122,
   "id": "a713efe0-4d3e-4f32-a1c0-a4a5d1ad74c6",
   "metadata": {
    "tags": []
   },
   "outputs": [
    {
     "name": "stdout",
     "output_type": "stream",
     "text": [
      "Test Loss: 0.8850, Test Accuracy: 79.17%\n",
      "Classification Report:\n",
      "              precision    recall  f1-score   support\n",
      "\n",
      "           0       0.71      1.00      0.83      4000\n",
      "           1       1.00      0.58      0.74      4000\n",
      "\n",
      "    accuracy                           0.79      8000\n",
      "   macro avg       0.85      0.79      0.78      8000\n",
      "weighted avg       0.85      0.79      0.78      8000\n",
      "\n"
     ]
    }
   ],
   "source": [
    "# Evaluate the model\n",
    "test_loss, test_accuracy, predictions, true_labels = evaluate(glob_model, new_all_20_test_loader, criterion, device)\n",
    "\n",
    "# Print the training and evaluation metrics\n",
    "print(f'Test Loss: {test_loss:.4f}, Test Accuracy: {test_accuracy:.2f}%')\n",
    "\n",
    "# Generate classification report\n",
    "report = classification_report(true_labels, predictions)\n",
    "print('Classification Report:')\n",
    "print(report)"
   ]
  },
  {
   "cell_type": "code",
   "execution_count": null,
   "id": "9b0080e7-ef43-46f4-9842-1f25cd1dc627",
   "metadata": {},
   "outputs": [],
   "source": []
  }
 ],
 "metadata": {
  "kernelspec": {
   "display_name": "Python 3 (ipykernel)",
   "language": "python",
   "name": "python3"
  },
  "language_info": {
   "codemirror_mode": {
    "name": "ipython",
    "version": 3
   },
   "file_extension": ".py",
   "mimetype": "text/x-python",
   "name": "python",
   "nbconvert_exporter": "python",
   "pygments_lexer": "ipython3",
   "version": "3.10.12"
  }
 },
 "nbformat": 4,
 "nbformat_minor": 5
}
