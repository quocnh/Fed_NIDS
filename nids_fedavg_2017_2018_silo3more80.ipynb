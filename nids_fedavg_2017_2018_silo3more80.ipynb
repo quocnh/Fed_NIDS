{
 "cells": [
  {
   "cell_type": "code",
   "execution_count": 1,
   "id": "170d5ffd-b433-4903-80ee-225e9a842ba1",
   "metadata": {
    "tags": []
   },
   "outputs": [],
   "source": [
    "# define GPU\n",
    "import os\n",
    "import logging\n",
    "import sys\n",
    "sys.path.insert(1, os.path.join(sys.path[0], '../'))\n",
    "\n",
    "os.environ['CUDA_DEVICE_ORDER'] = 'PCI_BUS_ID'\n",
    "os.environ['CUDA_VISIBLE_DEVICES'] = '1'\n"
   ]
  },
  {
   "cell_type": "code",
   "execution_count": 2,
   "id": "e4b08eca-1af3-4b58-9188-07ba128ac0f2",
   "metadata": {
    "tags": []
   },
   "outputs": [
    {
     "name": "stdout",
     "output_type": "stream",
     "text": [
      "Wed Aug  2 14:44:26 2023       \n",
      "+-----------------------------------------------------------------------------+\n",
      "| NVIDIA-SMI 525.116.04   Driver Version: 525.116.04   CUDA Version: 12.0     |\n",
      "|-------------------------------+----------------------+----------------------+\n",
      "| GPU  Name        Persistence-M| Bus-Id        Disp.A | Volatile Uncorr. ECC |\n",
      "| Fan  Temp  Perf  Pwr:Usage/Cap|         Memory-Usage | GPU-Util  Compute M. |\n",
      "|                               |                      |               MIG M. |\n",
      "|===============================+======================+======================|\n",
      "|   0  NVIDIA GeForce ...  On   | 00000000:41:00.0 Off |                  N/A |\n",
      "| 30%   33C    P8    24W / 320W |     61MiB / 10240MiB |      0%      Default |\n",
      "|                               |                      |                  N/A |\n",
      "+-------------------------------+----------------------+----------------------+\n",
      "|   1  NVIDIA GeForce ...  On   | 00000000:61:00.0 Off |                  N/A |\n",
      "| 30%   31C    P8    25W / 320W |      6MiB / 10240MiB |      0%      Default |\n",
      "|                               |                      |                  N/A |\n",
      "+-------------------------------+----------------------+----------------------+\n",
      "                                                                               \n",
      "+-----------------------------------------------------------------------------+\n",
      "| Processes:                                                                  |\n",
      "|  GPU   GI   CI        PID   Type   Process name                  GPU Memory |\n",
      "|        ID   ID                                                   Usage      |\n",
      "|=============================================================================|\n",
      "|    0   N/A  N/A      2386      G   /usr/lib/xorg/Xorg                 59MiB |\n",
      "|    1   N/A  N/A      2386      G   /usr/lib/xorg/Xorg                  4MiB |\n",
      "+-----------------------------------------------------------------------------+\n"
     ]
    }
   ],
   "source": [
    "!nvidia-smi\n"
   ]
  },
  {
   "cell_type": "code",
   "execution_count": 3,
   "id": "d3247d9c-4eb6-40ae-97b4-485b8fb1f502",
   "metadata": {
    "tags": []
   },
   "outputs": [
    {
     "data": {
      "text/plain": [
       "<module 'nids_federated_learning' from '/home/mark/Mark/FL_NIDS/federated_nids/nids_federated_learning.py'>"
      ]
     },
     "execution_count": 3,
     "metadata": {},
     "output_type": "execute_result"
    }
   ],
   "source": [
    "from tqdm import tqdm\n",
    "import copy\n",
    "import pickle\n",
    "import numpy as np\n",
    "import torch\n",
    "import torchvision\n",
    "import utils\n",
    "import nids_models\n",
    "import nids_federated_learning as fl\n",
    "import nids_training \n",
    "from torch import nn\n",
    "from nids_models import DNN\n",
    "from utils import CustomDataset, CustomDataset1\n",
    "from nids_training import evaluate_model\n",
    "from torch.utils.data import Dataset, DataLoader\n",
    "from sklearn.metrics import classification_report\n",
    "import importlib\n",
    "importlib.reload(utils)\n",
    "importlib.reload(nids_models)\n",
    "importlib.reload(fl)\n"
   ]
  },
  {
   "cell_type": "code",
   "execution_count": 4,
   "id": "5b35f14e-1320-4e96-bd10-327719573f88",
   "metadata": {
    "tags": []
   },
   "outputs": [
    {
     "data": {
      "text/plain": [
       "device(type='cuda')"
      ]
     },
     "execution_count": 4,
     "metadata": {},
     "output_type": "execute_result"
    }
   ],
   "source": [
    "device = torch.device('cuda' if torch.cuda.is_available() else 'cpu')\n",
    "device"
   ]
  },
  {
   "cell_type": "code",
   "execution_count": 5,
   "id": "b80f0c66-c916-491d-b7d2-cac5139f54fa",
   "metadata": {
    "tags": []
   },
   "outputs": [],
   "source": [
    "# Define dataset and settings.\n",
    "dataset_name = 'nids'\n",
    "\n",
    "# Define distribution settings.\n",
    "num_clients = 4\n",
    "# beta = 0.1 # [0.1, 0.5, 5]\n",
    "\n",
    "client_data_dir = os.path.join('./client_data/', dataset_name)\n",
    "save_dir = os.path.join('./output_nids/dnn_fedavg', dataset_name)\n",
    "os.makedirs(save_dir, exist_ok=True)\n",
    "os.makedirs(client_data_dir, exist_ok=True)"
   ]
  },
  {
   "cell_type": "code",
   "execution_count": 6,
   "id": "f12a6bd8-2877-4ef0-b46b-20c388ca710f",
   "metadata": {
    "tags": []
   },
   "outputs": [],
   "source": [
    "### Data config.\n",
    "batch_size = 32\n",
    "\n",
    "# Training config.\n",
    "lr = 0.0002\n",
    "num_rounds = 5 #2000 rounds\n",
    "num_local_epochs = 5\n",
    "save_interval = 1"
   ]
  },
  {
   "cell_type": "code",
   "execution_count": 7,
   "id": "79c7ba7c-ffef-4edf-96fb-edbba62bff93",
   "metadata": {
    "tags": []
   },
   "outputs": [
    {
     "name": "stdout",
     "output_type": "stream",
     "text": [
      "<class 'utils.CustomDataset'>\n"
     ]
    }
   ],
   "source": [
    "# This testing data includes all attack types from clients, created from centralized one.\n",
    "data_dir = os.path.join('./datasets/', dataset_name)\n",
    "test_dir = os.path.join(data_dir, 'test/')\n",
    "\n",
    "# # Open the pickle file in read mode\n",
    "# with open(test_dir + 'test.pkl', 'rb') as file:\n",
    "#     # Load the co\"ntents of the pickle file\n",
    "#     test_data = pickle.load(file)\n",
    "    \n",
    "# test_data = np.load(test_dir + 'test.npy', allow_pickle=True)\n",
    "# test_data = torch.load(test_dir + 'test.pkl')\n",
    "test_data = torch.load(test_dir + 'test_central_new.pkl')\n",
    "print(type(test_data))"
   ]
  },
  {
   "cell_type": "code",
   "execution_count": 8,
   "id": "61f04b86-32b9-44f0-8c09-c9337f4a3641",
   "metadata": {
    "tags": []
   },
   "outputs": [
    {
     "data": {
      "text/plain": [
       "129238"
      ]
     },
     "execution_count": 8,
     "metadata": {},
     "output_type": "execute_result"
    }
   ],
   "source": [
    "len(test_data)"
   ]
  },
  {
   "cell_type": "code",
   "execution_count": 9,
   "id": "2da6daa3-ccca-48fa-80ca-f047ed4b376e",
   "metadata": {
    "tags": []
   },
   "outputs": [
    {
     "data": {
      "text/plain": [
       "<utils.CustomDataset at 0x7f8d0c51a9e0>"
      ]
     },
     "execution_count": 9,
     "metadata": {},
     "output_type": "execute_result"
    }
   ],
   "source": [
    "test_data"
   ]
  },
  {
   "cell_type": "code",
   "execution_count": 10,
   "id": "e4e06af3-2bad-4b22-9bbb-63e3642ecf69",
   "metadata": {
    "tags": []
   },
   "outputs": [],
   "source": [
    "test_loader = test_data"
   ]
  },
  {
   "cell_type": "code",
   "execution_count": 70,
   "id": "aca255df-d285-4e6a-ae3a-4d03743c3835",
   "metadata": {
    "tags": []
   },
   "outputs": [],
   "source": [
    "# test_loader = torch.utils.data.DataLoader(test_data, batch_size=batch_size, shuffle=True, num_workers=4, persistent_workers=True, pin_memory=True)"
   ]
  },
  {
   "cell_type": "code",
   "execution_count": 11,
   "id": "73b2a5f2-1698-48bc-b846-2f1851a7eb19",
   "metadata": {
    "tags": []
   },
   "outputs": [
    {
     "name": "stdout",
     "output_type": "stream",
     "text": [
      "./client_data/nids/0/0_train_new.csv\n",
      "./client_data/nids/1/1_train_new.csv\n",
      "./client_data/nids/2/2_train_new.csv\n",
      "./client_data/nids/3/3_train_new.csv\n"
     ]
    }
   ],
   "source": [
    "# Load client data.\n",
    "client_loaders = []\n",
    "for client_idx in range(num_clients):\n",
    "    data_dir = os.path.join(client_data_dir, str(client_idx) + '/{}_train_new.csv'.format(str(client_idx)))\n",
    "    # data_dir = os.path.join(client_data_dir, str(client_idx) + '/{}_sub.csv'.format(str(client_idx)))\n",
    "    # os.makedirs(data_dir, exist_ok=True)\n",
    "    print(data_dir)\n",
    "    dataset = CustomDataset(data_dir)\n",
    "    data_loader = torch.utils.data.DataLoader(dataset, batch_size=batch_size, shuffle=True, pin_memory=True)\n",
    "    client_loaders.append(data_loader)"
   ]
  },
  {
   "cell_type": "code",
   "execution_count": 18,
   "id": "8e625b7c-5fe2-4f49-b154-94de0dc48657",
   "metadata": {
    "tags": []
   },
   "outputs": [],
   "source": [
    "# Global model.\n",
    "input_size = 1525  # Number of features in the dataset\n",
    "# hidden_size = 256\n",
    "num_classes = 2\n",
    "\n",
    "glob_model = DNN(input_size, [512, 256, 128, 64], num_classes).to(device)\n",
    "\n",
    "# For logging model performance.\n",
    "performance_dict, performance_log = dict(), dict()\n",
    "metric_keys = ['g_train_loss', 'g_test_loss']\n",
    "for metric in metric_keys:\n",
    "    performance_dict[metric] = utils.MeanMetric()\n",
    "    performance_log[metric] = list()\n",
    "\n",
    "performance_dict, performance_log = utils.get_performance_loggers(metric_keys)"
   ]
  },
  {
   "cell_type": "code",
   "execution_count": 19,
   "id": "c5d4be02-e643-4114-a675-3cb5ad9a9d08",
   "metadata": {
    "tags": []
   },
   "outputs": [
    {
     "data": {
      "text/plain": [
       "'./output_nids/dnn_fedavg/nids'"
      ]
     },
     "execution_count": 19,
     "metadata": {},
     "output_type": "execute_result"
    }
   ],
   "source": [
    "save_dir"
   ]
  },
  {
   "cell_type": "code",
   "execution_count": 20,
   "id": "83c15b0b-2dac-4e61-b82d-d4691ac5ed04",
   "metadata": {
    "tags": []
   },
   "outputs": [],
   "source": [
    "# Automatic resuming from checkpoint.\n",
    "log_path = os.path.join(save_dir, 'performance_log.pickle')\n",
    "if os.path.isfile(log_path):\n",
    "    performance_log = utils.load_pickle(log_path)\n",
    "start_round = len(performance_log[metric_keys[0]])\n",
    "\n",
    "if start_round > 0:\n",
    "    glob_model.load_state_dict(torch.load(os.path.join(save_dir, 'g_r_{}.pth'.format(start_round))))"
   ]
  },
  {
   "cell_type": "code",
   "execution_count": 21,
   "id": "b99cd940-9d43-4418-b736-8273660c20b9",
   "metadata": {
    "tags": []
   },
   "outputs": [],
   "source": [
    "lambda_ = 0.1"
   ]
  },
  {
   "cell_type": "code",
   "execution_count": 22,
   "id": "111d8c3a-f8ca-41ea-8025-1841346cd9a3",
   "metadata": {
    "tags": []
   },
   "outputs": [
    {
     "name": "stdout",
     "output_type": "stream",
     "text": [
      "\n",
      " ==================== Round: 1 / 5 ====================\n",
      "\n",
      "client: 0\n"
     ]
    },
    {
     "name": "stderr",
     "output_type": "stream",
     "text": [
      "epoch 1/5: 100%|███████████████████████████| 4385/4385 [00:06<00:00, 700.96it/s]\n",
      "epoch 2/5: 100%|███████████████████████████| 4385/4385 [00:05<00:00, 747.28it/s]\n",
      "epoch 3/5: 100%|███████████████████████████| 4385/4385 [00:05<00:00, 747.19it/s]\n",
      "epoch 4/5: 100%|███████████████████████████| 4385/4385 [00:05<00:00, 749.13it/s]\n",
      "epoch 5/5: 100%|███████████████████████████| 4385/4385 [00:05<00:00, 747.58it/s]\n",
      "local_train_loss: 100%|███████████████████| 4385/4385 [00:02<00:00, 1601.25it/s]\n",
      "local_test_loss: 100%|████████████████| 129238/129238 [00:28<00:00, 4484.00it/s]\n"
     ]
    },
    {
     "name": "stdout",
     "output_type": "stream",
     "text": [
      "client: 1\n"
     ]
    },
    {
     "name": "stderr",
     "output_type": "stream",
     "text": [
      "epoch 1/5: 100%|███████████████████████████| 3969/3969 [00:05<00:00, 754.24it/s]\n",
      "epoch 2/5: 100%|███████████████████████████| 3969/3969 [00:05<00:00, 759.21it/s]\n",
      "epoch 3/5: 100%|███████████████████████████| 3969/3969 [00:05<00:00, 748.72it/s]\n",
      "epoch 4/5: 100%|███████████████████████████| 3969/3969 [00:05<00:00, 750.38it/s]\n",
      "epoch 5/5: 100%|███████████████████████████| 3969/3969 [00:05<00:00, 751.60it/s]\n",
      "local_train_loss: 100%|███████████████████| 3969/3969 [00:02<00:00, 1602.89it/s]\n",
      "local_test_loss: 100%|████████████████| 129238/129238 [00:29<00:00, 4417.70it/s]\n"
     ]
    },
    {
     "name": "stdout",
     "output_type": "stream",
     "text": [
      "client: 2\n"
     ]
    },
    {
     "name": "stderr",
     "output_type": "stream",
     "text": [
      "epoch 1/5: 100%|███████████████████████████| 3418/3418 [00:04<00:00, 753.89it/s]\n",
      "epoch 2/5: 100%|███████████████████████████| 3418/3418 [00:04<00:00, 752.19it/s]\n",
      "epoch 3/5: 100%|███████████████████████████| 3418/3418 [00:04<00:00, 747.36it/s]\n",
      "epoch 4/5: 100%|███████████████████████████| 3418/3418 [00:04<00:00, 753.88it/s]\n",
      "epoch 5/5: 100%|███████████████████████████| 3418/3418 [00:04<00:00, 746.84it/s]\n",
      "local_train_loss: 100%|███████████████████| 3418/3418 [00:02<00:00, 1608.78it/s]\n",
      "local_test_loss: 100%|████████████████| 129238/129238 [00:27<00:00, 4676.02it/s]\n"
     ]
    },
    {
     "name": "stdout",
     "output_type": "stream",
     "text": [
      "client: 3\n"
     ]
    },
    {
     "name": "stderr",
     "output_type": "stream",
     "text": [
      "epoch 1/5: 100%|███████████████████████████| 4621/4621 [00:06<00:00, 742.55it/s]\n",
      "epoch 2/5: 100%|███████████████████████████| 4621/4621 [00:06<00:00, 738.00it/s]\n",
      "epoch 3/5: 100%|███████████████████████████| 4621/4621 [00:06<00:00, 729.95it/s]\n",
      "epoch 4/5: 100%|███████████████████████████| 4621/4621 [00:06<00:00, 737.92it/s]\n",
      "epoch 5/5: 100%|███████████████████████████| 4621/4621 [00:06<00:00, 737.20it/s]\n",
      "local_train_loss: 100%|███████████████████| 4621/4621 [00:02<00:00, 1593.72it/s]\n",
      "local_test_loss: 100%|████████████████| 129238/129238 [00:27<00:00, 4701.56it/s]\n",
      "g_train_loss: 100%|███████████████████████| 4621/4621 [00:02<00:00, 1598.29it/s]\n",
      "g_train_loss: 100%|███████████████████████| 4621/4621 [00:02<00:00, 1595.73it/s]\n",
      "g_train_loss: 100%|███████████████████████| 4621/4621 [00:02<00:00, 1594.87it/s]\n",
      "g_train_loss: 100%|███████████████████████| 4621/4621 [00:02<00:00, 1590.43it/s]\n",
      "g_test_loss: 100%|████████████████████| 129238/129238 [00:28<00:00, 4588.66it/s]\n"
     ]
    },
    {
     "name": "stdout",
     "output_type": "stream",
     "text": [
      "g_test_loss :  0.25516642365595477\n",
      "g_train_loss :  0.1707312621959634\n",
      "\n",
      " ==================== Round: 2 / 5 ====================\n",
      "\n",
      "client: 0\n"
     ]
    },
    {
     "name": "stderr",
     "output_type": "stream",
     "text": [
      "epoch 1/5: 100%|███████████████████████████| 4385/4385 [00:06<00:00, 719.54it/s]\n",
      "epoch 2/5: 100%|███████████████████████████| 4385/4385 [00:06<00:00, 724.21it/s]\n",
      "epoch 3/5: 100%|███████████████████████████| 4385/4385 [00:06<00:00, 720.94it/s]\n",
      "epoch 4/5: 100%|███████████████████████████| 4385/4385 [00:06<00:00, 723.34it/s]\n",
      "epoch 5/5: 100%|███████████████████████████| 4385/4385 [00:06<00:00, 724.14it/s]\n",
      "local_train_loss: 100%|███████████████████| 4385/4385 [00:02<00:00, 1483.41it/s]\n",
      "local_test_loss: 100%|████████████████| 129238/129238 [00:27<00:00, 4647.48it/s]\n"
     ]
    },
    {
     "name": "stdout",
     "output_type": "stream",
     "text": [
      "client: 1\n"
     ]
    },
    {
     "name": "stderr",
     "output_type": "stream",
     "text": [
      "epoch 1/5: 100%|███████████████████████████| 3969/3969 [00:05<00:00, 727.57it/s]\n",
      "epoch 2/5: 100%|███████████████████████████| 3969/3969 [00:05<00:00, 726.54it/s]\n",
      "epoch 3/5: 100%|███████████████████████████| 3969/3969 [00:05<00:00, 731.44it/s]\n",
      "epoch 4/5: 100%|███████████████████████████| 3969/3969 [00:05<00:00, 722.16it/s]\n",
      "epoch 5/5: 100%|███████████████████████████| 3969/3969 [00:05<00:00, 726.77it/s]\n",
      "local_train_loss: 100%|███████████████████| 3969/3969 [00:02<00:00, 1506.57it/s]\n",
      "local_test_loss: 100%|████████████████| 129238/129238 [00:27<00:00, 4688.65it/s]\n"
     ]
    },
    {
     "name": "stdout",
     "output_type": "stream",
     "text": [
      "client: 2\n"
     ]
    },
    {
     "name": "stderr",
     "output_type": "stream",
     "text": [
      "epoch 1/5: 100%|███████████████████████████| 3418/3418 [00:04<00:00, 713.87it/s]\n",
      "epoch 2/5: 100%|███████████████████████████| 3418/3418 [00:04<00:00, 720.19it/s]\n",
      "epoch 3/5: 100%|███████████████████████████| 3418/3418 [00:04<00:00, 717.96it/s]\n",
      "epoch 4/5: 100%|███████████████████████████| 3418/3418 [00:04<00:00, 722.87it/s]\n",
      "epoch 5/5: 100%|███████████████████████████| 3418/3418 [00:04<00:00, 719.64it/s]\n",
      "local_train_loss: 100%|███████████████████| 3418/3418 [00:02<00:00, 1512.46it/s]\n",
      "local_test_loss: 100%|████████████████| 129238/129238 [00:27<00:00, 4679.72it/s]\n"
     ]
    },
    {
     "name": "stdout",
     "output_type": "stream",
     "text": [
      "client: 3\n"
     ]
    },
    {
     "name": "stderr",
     "output_type": "stream",
     "text": [
      "epoch 1/5: 100%|███████████████████████████| 4621/4621 [00:06<00:00, 725.67it/s]\n",
      "epoch 2/5: 100%|███████████████████████████| 4621/4621 [00:06<00:00, 743.91it/s]\n",
      "epoch 3/5: 100%|███████████████████████████| 4621/4621 [00:06<00:00, 740.74it/s]\n",
      "epoch 4/5: 100%|███████████████████████████| 4621/4621 [00:06<00:00, 743.13it/s]\n",
      "epoch 5/5: 100%|███████████████████████████| 4621/4621 [00:06<00:00, 738.94it/s]\n",
      "local_train_loss: 100%|███████████████████| 4621/4621 [00:02<00:00, 1598.84it/s]\n",
      "local_test_loss: 100%|████████████████| 129238/129238 [00:27<00:00, 4700.01it/s]\n",
      "g_train_loss: 100%|███████████████████████| 4621/4621 [00:03<00:00, 1534.04it/s]\n",
      "g_train_loss: 100%|███████████████████████| 4621/4621 [00:02<00:00, 1572.20it/s]\n",
      "g_train_loss: 100%|███████████████████████| 4621/4621 [00:02<00:00, 1578.01it/s]\n",
      "g_train_loss: 100%|███████████████████████| 4621/4621 [00:02<00:00, 1582.70it/s]\n",
      "g_test_loss: 100%|████████████████████| 129238/129238 [00:27<00:00, 4646.98it/s]\n"
     ]
    },
    {
     "name": "stdout",
     "output_type": "stream",
     "text": [
      "g_test_loss :  0.4203834711459753\n",
      "g_train_loss :  0.2612788933078712\n",
      "\n",
      " ==================== Round: 3 / 5 ====================\n",
      "\n",
      "client: 0\n"
     ]
    },
    {
     "name": "stderr",
     "output_type": "stream",
     "text": [
      "epoch 1/5: 100%|███████████████████████████| 4385/4385 [00:06<00:00, 720.30it/s]\n",
      "epoch 2/5: 100%|███████████████████████████| 4385/4385 [00:06<00:00, 721.77it/s]\n",
      "epoch 3/5: 100%|███████████████████████████| 4385/4385 [00:06<00:00, 722.98it/s]\n",
      "epoch 4/5: 100%|███████████████████████████| 4385/4385 [00:06<00:00, 722.29it/s]\n",
      "epoch 5/5: 100%|███████████████████████████| 4385/4385 [00:06<00:00, 719.69it/s]\n",
      "local_train_loss: 100%|███████████████████| 4385/4385 [00:02<00:00, 1501.01it/s]\n",
      "local_test_loss: 100%|████████████████| 129238/129238 [00:27<00:00, 4661.63it/s]\n"
     ]
    },
    {
     "name": "stdout",
     "output_type": "stream",
     "text": [
      "client: 1\n"
     ]
    },
    {
     "name": "stderr",
     "output_type": "stream",
     "text": [
      "epoch 1/5: 100%|███████████████████████████| 3969/3969 [00:05<00:00, 725.40it/s]\n",
      "epoch 2/5: 100%|███████████████████████████| 3969/3969 [00:05<00:00, 728.96it/s]\n",
      "epoch 3/5: 100%|███████████████████████████| 3969/3969 [00:05<00:00, 724.96it/s]\n",
      "epoch 4/5: 100%|███████████████████████████| 3969/3969 [00:05<00:00, 723.99it/s]\n",
      "epoch 5/5: 100%|███████████████████████████| 3969/3969 [00:05<00:00, 726.33it/s]\n",
      "local_train_loss: 100%|███████████████████| 3969/3969 [00:02<00:00, 1494.62it/s]\n",
      "local_test_loss: 100%|████████████████| 129238/129238 [00:27<00:00, 4690.27it/s]\n"
     ]
    },
    {
     "name": "stdout",
     "output_type": "stream",
     "text": [
      "client: 2\n"
     ]
    },
    {
     "name": "stderr",
     "output_type": "stream",
     "text": [
      "epoch 1/5: 100%|███████████████████████████| 3418/3418 [00:04<00:00, 727.75it/s]\n",
      "epoch 2/5: 100%|███████████████████████████| 3418/3418 [00:04<00:00, 735.44it/s]\n",
      "epoch 3/5: 100%|███████████████████████████| 3418/3418 [00:04<00:00, 741.53it/s]\n",
      "epoch 4/5: 100%|███████████████████████████| 3418/3418 [00:04<00:00, 739.96it/s]\n",
      "epoch 5/5: 100%|███████████████████████████| 3418/3418 [00:04<00:00, 739.11it/s]\n",
      "local_train_loss: 100%|███████████████████| 3418/3418 [00:02<00:00, 1529.42it/s]\n",
      "local_test_loss: 100%|████████████████| 129238/129238 [00:27<00:00, 4643.13it/s]\n"
     ]
    },
    {
     "name": "stdout",
     "output_type": "stream",
     "text": [
      "client: 3\n"
     ]
    },
    {
     "name": "stderr",
     "output_type": "stream",
     "text": [
      "epoch 1/5: 100%|███████████████████████████| 4621/4621 [00:06<00:00, 738.92it/s]\n",
      "epoch 2/5: 100%|███████████████████████████| 4621/4621 [00:06<00:00, 736.34it/s]\n",
      "epoch 3/5: 100%|███████████████████████████| 4621/4621 [00:06<00:00, 730.45it/s]\n",
      "epoch 4/5: 100%|███████████████████████████| 4621/4621 [00:06<00:00, 729.06it/s]\n",
      "epoch 5/5: 100%|███████████████████████████| 4621/4621 [00:06<00:00, 719.08it/s]\n",
      "local_train_loss: 100%|███████████████████| 4621/4621 [00:03<00:00, 1507.82it/s]\n",
      "local_test_loss: 100%|████████████████| 129238/129238 [00:27<00:00, 4684.18it/s]\n",
      "g_train_loss: 100%|███████████████████████| 4621/4621 [00:03<00:00, 1523.46it/s]\n",
      "g_train_loss: 100%|███████████████████████| 4621/4621 [00:03<00:00, 1527.42it/s]\n",
      "g_train_loss: 100%|███████████████████████| 4621/4621 [00:03<00:00, 1526.40it/s]\n",
      "g_train_loss: 100%|███████████████████████| 4621/4621 [00:03<00:00, 1524.05it/s]\n",
      "g_test_loss: 100%|████████████████████| 129238/129238 [00:27<00:00, 4641.54it/s]\n"
     ]
    },
    {
     "name": "stdout",
     "output_type": "stream",
     "text": [
      "g_test_loss :  0.3185088740406224\n",
      "g_train_loss :  0.15751117840622156\n",
      "\n",
      " ==================== Round: 4 / 5 ====================\n",
      "\n",
      "client: 0\n"
     ]
    },
    {
     "name": "stderr",
     "output_type": "stream",
     "text": [
      "epoch 1/5: 100%|███████████████████████████| 4385/4385 [00:05<00:00, 732.56it/s]\n",
      "epoch 2/5: 100%|███████████████████████████| 4385/4385 [00:06<00:00, 727.15it/s]\n",
      "epoch 3/5: 100%|███████████████████████████| 4385/4385 [00:06<00:00, 730.41it/s]\n",
      "epoch 4/5: 100%|███████████████████████████| 4385/4385 [00:06<00:00, 729.42it/s]\n",
      "epoch 5/5: 100%|███████████████████████████| 4385/4385 [00:06<00:00, 725.94it/s]\n",
      "local_train_loss: 100%|███████████████████| 4385/4385 [00:02<00:00, 1530.87it/s]\n",
      "local_test_loss: 100%|████████████████| 129238/129238 [00:28<00:00, 4594.95it/s]\n"
     ]
    },
    {
     "name": "stdout",
     "output_type": "stream",
     "text": [
      "client: 1\n"
     ]
    },
    {
     "name": "stderr",
     "output_type": "stream",
     "text": [
      "epoch 1/5: 100%|███████████████████████████| 3969/3969 [00:05<00:00, 728.63it/s]\n",
      "epoch 2/5: 100%|███████████████████████████| 3969/3969 [00:05<00:00, 737.06it/s]\n",
      "epoch 3/5: 100%|███████████████████████████| 3969/3969 [00:05<00:00, 732.71it/s]\n",
      "epoch 4/5: 100%|███████████████████████████| 3969/3969 [00:05<00:00, 725.54it/s]\n",
      "epoch 5/5: 100%|███████████████████████████| 3969/3969 [00:05<00:00, 723.05it/s]\n",
      "local_train_loss: 100%|███████████████████| 3969/3969 [00:02<00:00, 1527.07it/s]\n",
      "local_test_loss: 100%|████████████████| 129238/129238 [00:27<00:00, 4678.40it/s]\n"
     ]
    },
    {
     "name": "stdout",
     "output_type": "stream",
     "text": [
      "client: 2\n"
     ]
    },
    {
     "name": "stderr",
     "output_type": "stream",
     "text": [
      "epoch 1/5: 100%|███████████████████████████| 3418/3418 [00:04<00:00, 729.30it/s]\n",
      "epoch 2/5: 100%|███████████████████████████| 3418/3418 [00:04<00:00, 726.02it/s]\n",
      "epoch 3/5: 100%|███████████████████████████| 3418/3418 [00:04<00:00, 720.32it/s]\n",
      "epoch 4/5: 100%|███████████████████████████| 3418/3418 [00:04<00:00, 720.55it/s]\n",
      "epoch 5/5: 100%|███████████████████████████| 3418/3418 [00:04<00:00, 733.05it/s]\n",
      "local_train_loss: 100%|███████████████████| 3418/3418 [00:02<00:00, 1530.13it/s]\n",
      "local_test_loss: 100%|████████████████| 129238/129238 [00:27<00:00, 4649.99it/s]\n"
     ]
    },
    {
     "name": "stdout",
     "output_type": "stream",
     "text": [
      "client: 3\n"
     ]
    },
    {
     "name": "stderr",
     "output_type": "stream",
     "text": [
      "epoch 1/5: 100%|███████████████████████████| 4621/4621 [00:06<00:00, 712.26it/s]\n",
      "epoch 2/5: 100%|███████████████████████████| 4621/4621 [00:06<00:00, 739.90it/s]\n",
      "epoch 3/5: 100%|███████████████████████████| 4621/4621 [00:06<00:00, 733.90it/s]\n",
      "epoch 4/5: 100%|███████████████████████████| 4621/4621 [00:06<00:00, 734.28it/s]\n",
      "epoch 5/5: 100%|███████████████████████████| 4621/4621 [00:06<00:00, 733.28it/s]\n",
      "local_train_loss: 100%|███████████████████| 4621/4621 [00:03<00:00, 1517.24it/s]\n",
      "local_test_loss: 100%|████████████████| 129238/129238 [00:28<00:00, 4606.97it/s]\n",
      "g_train_loss: 100%|███████████████████████| 4621/4621 [00:03<00:00, 1526.41it/s]\n",
      "g_train_loss: 100%|███████████████████████| 4621/4621 [00:03<00:00, 1529.19it/s]\n",
      "g_train_loss: 100%|███████████████████████| 4621/4621 [00:03<00:00, 1532.56it/s]\n",
      "g_train_loss: 100%|███████████████████████| 4621/4621 [00:03<00:00, 1532.39it/s]\n",
      "g_test_loss: 100%|████████████████████| 129238/129238 [00:27<00:00, 4705.28it/s]\n"
     ]
    },
    {
     "name": "stdout",
     "output_type": "stream",
     "text": [
      "g_test_loss :  0.2543154634515391\n",
      "g_train_loss :  0.11122815773140533\n",
      "\n",
      " ==================== Round: 5 / 5 ====================\n",
      "\n",
      "client: 0\n"
     ]
    },
    {
     "name": "stderr",
     "output_type": "stream",
     "text": [
      "epoch 1/5: 100%|███████████████████████████| 4385/4385 [00:05<00:00, 735.63it/s]\n",
      "epoch 2/5: 100%|███████████████████████████| 4385/4385 [00:05<00:00, 733.00it/s]\n",
      "epoch 3/5: 100%|███████████████████████████| 4385/4385 [00:06<00:00, 729.01it/s]\n",
      "epoch 4/5: 100%|███████████████████████████| 4385/4385 [00:06<00:00, 730.17it/s]\n",
      "epoch 5/5: 100%|███████████████████████████| 4385/4385 [00:05<00:00, 733.88it/s]\n",
      "local_train_loss: 100%|███████████████████| 4385/4385 [00:02<00:00, 1532.35it/s]\n",
      "local_test_loss: 100%|████████████████| 129238/129238 [00:27<00:00, 4678.02it/s]\n"
     ]
    },
    {
     "name": "stdout",
     "output_type": "stream",
     "text": [
      "client: 1\n"
     ]
    },
    {
     "name": "stderr",
     "output_type": "stream",
     "text": [
      "epoch 1/5: 100%|███████████████████████████| 3969/3969 [00:05<00:00, 728.47it/s]\n",
      "epoch 2/5: 100%|███████████████████████████| 3969/3969 [00:05<00:00, 742.62it/s]\n",
      "epoch 3/5: 100%|███████████████████████████| 3969/3969 [00:05<00:00, 742.62it/s]\n",
      "epoch 4/5: 100%|███████████████████████████| 3969/3969 [00:05<00:00, 737.08it/s]\n",
      "epoch 5/5: 100%|███████████████████████████| 3969/3969 [00:05<00:00, 749.04it/s]\n",
      "local_train_loss: 100%|███████████████████| 3969/3969 [00:02<00:00, 1567.17it/s]\n",
      "local_test_loss: 100%|████████████████| 129238/129238 [00:28<00:00, 4585.96it/s]\n"
     ]
    },
    {
     "name": "stdout",
     "output_type": "stream",
     "text": [
      "client: 2\n"
     ]
    },
    {
     "name": "stderr",
     "output_type": "stream",
     "text": [
      "epoch 1/5: 100%|███████████████████████████| 3418/3418 [00:04<00:00, 740.34it/s]\n",
      "epoch 2/5: 100%|███████████████████████████| 3418/3418 [00:04<00:00, 745.14it/s]\n",
      "epoch 3/5: 100%|███████████████████████████| 3418/3418 [00:04<00:00, 738.12it/s]\n",
      "epoch 4/5: 100%|███████████████████████████| 3418/3418 [00:04<00:00, 735.60it/s]\n",
      "epoch 5/5: 100%|███████████████████████████| 3418/3418 [00:04<00:00, 735.10it/s]\n",
      "local_train_loss: 100%|███████████████████| 3418/3418 [00:02<00:00, 1558.60it/s]\n",
      "local_test_loss: 100%|████████████████| 129238/129238 [00:27<00:00, 4657.48it/s]\n"
     ]
    },
    {
     "name": "stdout",
     "output_type": "stream",
     "text": [
      "client: 3\n"
     ]
    },
    {
     "name": "stderr",
     "output_type": "stream",
     "text": [
      "epoch 1/5: 100%|███████████████████████████| 4621/4621 [00:06<00:00, 719.60it/s]\n",
      "epoch 2/5: 100%|███████████████████████████| 4621/4621 [00:06<00:00, 735.80it/s]\n",
      "epoch 3/5: 100%|███████████████████████████| 4621/4621 [00:06<00:00, 731.15it/s]\n",
      "epoch 4/5: 100%|███████████████████████████| 4621/4621 [00:06<00:00, 728.16it/s]\n",
      "epoch 5/5: 100%|███████████████████████████| 4621/4621 [00:06<00:00, 729.52it/s]\n",
      "local_train_loss: 100%|███████████████████| 4621/4621 [00:03<00:00, 1513.66it/s]\n",
      "local_test_loss: 100%|████████████████| 129238/129238 [00:27<00:00, 4677.37it/s]\n",
      "g_train_loss: 100%|███████████████████████| 4621/4621 [00:03<00:00, 1514.77it/s]\n",
      "g_train_loss: 100%|███████████████████████| 4621/4621 [00:03<00:00, 1518.16it/s]\n",
      "g_train_loss: 100%|███████████████████████| 4621/4621 [00:03<00:00, 1520.46it/s]\n",
      "g_train_loss: 100%|███████████████████████| 4621/4621 [00:03<00:00, 1520.85it/s]\n",
      "g_test_loss: 100%|████████████████████| 129238/129238 [00:27<00:00, 4656.81it/s]"
     ]
    },
    {
     "name": "stdout",
     "output_type": "stream",
     "text": [
      "g_test_loss :  0.2757132576781922\n",
      "g_train_loss :  0.15418746356162338\n"
     ]
    },
    {
     "name": "stderr",
     "output_type": "stream",
     "text": [
      "\n"
     ]
    }
   ],
   "source": [
    "glob_w = glob_model.state_dict()\n",
    "\n",
    "optim_args = {'lr': lr}\n",
    "loss_function = nn.CrossEntropyLoss()\n",
    "\n",
    "for round_no in range(start_round, num_rounds):\n",
    "    utils.print_separator(text='Round: {} / {}'.format(round_no + 1, num_rounds))\n",
    "                \n",
    "    # Local training.\n",
    "    glob_model.train()\n",
    "    client_updates = dict()\n",
    "    for client_idx in range(num_clients):  \n",
    "        print('client:', client_idx)\n",
    "        client_loader = client_loaders[client_idx] # update new samples\n",
    "        \n",
    "        # Local training.\n",
    "        client_update = fl.local_update_fedavg(glob_model, client_loader, test_loader, num_local_epochs, optim_args)\n",
    "        \n",
    "        # For weighted averaging.\n",
    "        client_updates.setdefault('local_w', list()).append(client_update['local_w'])\n",
    "        client_updates.setdefault('num_samples', list()).append(client_update['num_samples'])\n",
    "        \n",
    "        # Logging client performance.\n",
    "        performance_log.setdefault('c_{}_train_loss'.format(client_idx), list()).append(client_update['train_loss'])\n",
    "        performance_log.setdefault('c_{}_test_loss'.format(client_idx), list()).append(client_update['test_loss'])\n",
    "            \n",
    "    # Model aggregation.\n",
    "    glob_w = fl.weighted_averaging(client_updates['local_w'], client_updates['num_samples'])\n",
    "    glob_model.load_state_dict(glob_w)\n",
    "    \n",
    "    # Evaluate global model on local datasets.\n",
    "    for client_idx in range(num_clients):\n",
    "        g_train_loss = evaluate_model(glob_model, client_loader, loss_function, tqdm_desc='g_train_loss')\n",
    "        performance_dict['g_train_loss'].update_state(g_train_loss)\n",
    "        \n",
    "    # Average local performace of global model.\n",
    "    performance_log['g_train_loss'].append(performance_dict['g_train_loss'].result())\n",
    "    performance_dict['g_train_loss'].reset_state()\n",
    "    \n",
    "    # Evaluate global model on global testset.\n",
    "    g_test_loss = evaluate_model(glob_model, test_loader, loss_function, tqdm_desc='g_test_loss')\n",
    "    performance_log['g_test_loss'].append(g_test_loss)\n",
    "    \n",
    "#     for key in sorted(performance_log.keys()):\n",
    "#         print(key, ': ',  performance_log[key][-1])\n",
    "    \n",
    "    for key in sorted(metric_keys):\n",
    "        print(key, ': ',  performance_log[key][-1])\n",
    "    \n",
    "    # Save global model.\n",
    "    if (round_no + 1) % save_interval == 0:\n",
    "        torch.save(glob_model.state_dict(), os.path.join(save_dir, 'g_r_{}.pth'.format(round_no + 1)))\n",
    "        utils.save_pickle(log_path, performance_log)\n",
    "\n",
    "    # Save client models only in the last round. To save space.\n",
    "    if round_no + 1 == num_rounds:\n",
    "        for client_idx in range(num_clients):\n",
    "            local_state_dict = client_updates['local_w'][client_idx]\n",
    "            torch.save(local_state_dict, os.path.join(save_dir, 'c_{}_r_{}.pth'.format(client_idx, round_no + 1)))"
   ]
  },
  {
   "cell_type": "code",
   "execution_count": 23,
   "id": "9d171805-152b-4940-ba7c-672bd19d1687",
   "metadata": {
    "tags": []
   },
   "outputs": [
    {
     "data": {
      "text/plain": [
       "'./output_nids/dnn_fedavg/nids/performance_log.pickle'"
      ]
     },
     "execution_count": 23,
     "metadata": {},
     "output_type": "execute_result"
    }
   ],
   "source": [
    "log_path"
   ]
  },
  {
   "cell_type": "code",
   "execution_count": 24,
   "id": "94605e93-9950-4374-a2d3-94b7cbc7bd7d",
   "metadata": {
    "tags": []
   },
   "outputs": [
    {
     "data": {
      "text/plain": [
       "{'g_train_loss': [0.1707312621959634,\n",
       "  0.2612788933078712,\n",
       "  0.15751117840622156,\n",
       "  0.11122815773140533,\n",
       "  0.15418746356162338],\n",
       " 'g_test_loss': [0.25516642365595477,\n",
       "  0.4203834711459753,\n",
       "  0.3185088740406224,\n",
       "  0.2543154634515391,\n",
       "  0.2757132576781922],\n",
       " 'c_0_train_loss': [0.008143974067414655,\n",
       "  0.006405797050257862,\n",
       "  0.005430064736980708,\n",
       "  0.004775385297576616,\n",
       "  0.004300176683280678],\n",
       " 'c_0_test_loss': [0.6099115209171271,\n",
       "  0.8404530132866189,\n",
       "  1.0688971670351943,\n",
       "  0.9331022020050843,\n",
       "  0.8104737774087704],\n",
       " 'c_1_train_loss': [0.00169887414355067,\n",
       "  0.0009750348522188794,\n",
       "  0.003663069351614685,\n",
       "  0.0011973412664874248,\n",
       "  0.0006344294294527522],\n",
       " 'c_1_test_loss': [1.9471793417009335,\n",
       "  1.8159472550139681,\n",
       "  1.727910174827457,\n",
       "  1.5687644264973861,\n",
       "  1.4833772476199896],\n",
       " 'c_2_train_loss': [0.006945619436026252,\n",
       "  0.00822107048672397,\n",
       "  0.0026106901813051425,\n",
       "  0.0018847151155190695,\n",
       "  0.001619791828533343],\n",
       " 'c_2_test_loss': [0.7129648636512294,\n",
       "  0.40628704505596686,\n",
       "  0.32108289382363103,\n",
       "  0.40900152935725465,\n",
       "  0.45742299252208907],\n",
       " 'c_3_train_loss': [0.009961826943842468,\n",
       "  0.006823199314269828,\n",
       "  0.01016810766325942,\n",
       "  0.005293548960030056,\n",
       "  0.0038742206493333244],\n",
       " 'c_3_test_loss': [0.28172974302295345,\n",
       "  0.28458224164291246,\n",
       "  0.2928828398621872,\n",
       "  0.557710922319923,\n",
       "  0.4020970938975453]}"
      ]
     },
     "execution_count": 24,
     "metadata": {},
     "output_type": "execute_result"
    }
   ],
   "source": [
    "performance_log"
   ]
  },
  {
   "cell_type": "code",
   "execution_count": 25,
   "id": "02d49395-6d93-4796-9f74-90756c057b66",
   "metadata": {},
   "outputs": [],
   "source": [
    "utils.save_pickle(log_path, performance_log)"
   ]
  },
  {
   "cell_type": "code",
   "execution_count": 26,
   "id": "cc277ddb-8031-40ce-95c9-4468a1fbc5b7",
   "metadata": {
    "tags": []
   },
   "outputs": [
    {
     "data": {
      "image/png": "[encoded data removed]",
      "text/plain": [
       "<Figure size 576x432 with 1 Axes>"
      ]
     },
     "metadata": {
      "needs_background": "light"
     },
     "output_type": "display_data"
    },
    {
     "data": {
      "image/png": "[encoded data removed]",
      "text/plain": [
       "<Figure size 576x432 with 1 Axes>"
      ]
     },
     "metadata": {
      "needs_background": "light"
     },
     "output_type": "display_data"
    }
   ],
   "source": [
    "# Plot training history.\n",
    "performance_log = utils.load_pickle(log_path)\n",
    "\n",
    "loss_plot_config = utils.LOSS_PLOT_CONFIG.copy()\n",
    "loss_plot_config['save_dir'] = os.path.join(save_dir, 'test_loss.png')\n",
    "loss_plot_config['show_img'] = True\n",
    "loss_plot_config['xlabel'] = 'rounds'\n",
    "loss_plot_config['labels'] = ['g_test_loss'] + ['c_{}_test_loss'.format(client_idx) for client_idx in range(num_clients)]\n",
    "loss_plot_config['attributes'] = ['g_test_loss'] + ['c_{}_test_loss'.format(client_idx) for client_idx in range(num_clients)]\n",
    "utils.save_history_plot(performance_log, loss_plot_config)\n",
    "\n",
    "loss_plot_config = utils.LOSS_PLOT_CONFIG.copy()\n",
    "loss_plot_config['save_dir'] = os.path.join(save_dir, 'train_loss.png')\n",
    "loss_plot_config['show_img'] = True\n",
    "loss_plot_config['xlabel'] = 'rounds'\n",
    "loss_plot_config['labels'] = ['g_train_loss'] + ['c_{}_train_loss'.format(client_idx) for client_idx in range(num_clients)]\n",
    "loss_plot_config['attributes'] = ['g_train_loss'] + ['c_{}_train_loss'.format(client_idx) for client_idx in range(num_clients)]\n",
    "utils.save_history_plot(performance_log, loss_plot_config)"
   ]
  },
  {
   "cell_type": "markdown",
   "id": "0d03354e-8f05-40a4-b069-ad0d184a232b",
   "metadata": {},
   "source": [
    "1. \"test_loader\" is used to evaluate the performance of the global model on the global test set, which includes data from all clients and attack types. This allows the evaluation of the global model's ability to generalize to different attack types present in the test set.\n",
    "\n",
    "2. \"g_train_loss\" represents the average training loss of the global model on the global training data (this one has not explained yet??),\n",
    "while \"c_{}_train_loss\" represents the training loss of each client model on their local training data.\n",
    "\n",
    "3. \"g_test_loss\" represents the test loss of the global model on the global test set, while \"c_{}_test_loss \"represents the test loss of each client model on their local test sets"
   ]
  },
  {
   "cell_type": "code",
   "execution_count": null,
   "id": "81096ca5-b6f6-4722-9197-a65da8f8c6b8",
   "metadata": {},
   "outputs": [],
   "source": []
  },
  {
   "cell_type": "code",
   "execution_count": 27,
   "id": "2ffdcd7d-07a8-46ed-988d-a9f7c76d382a",
   "metadata": {
    "tags": []
   },
   "outputs": [
    {
     "data": {
      "text/plain": [
       "DNN(\n",
       "  (fc_layers): ModuleList(\n",
       "    (0): Linear(in_features=1525, out_features=512, bias=True)\n",
       "    (1): ReLU()\n",
       "    (2): Linear(in_features=512, out_features=256, bias=True)\n",
       "    (3): ReLU()\n",
       "    (4): Linear(in_features=256, out_features=128, bias=True)\n",
       "    (5): ReLU()\n",
       "    (6): Linear(in_features=128, out_features=64, bias=True)\n",
       "    (7): ReLU()\n",
       "    (8): Linear(in_features=64, out_features=2, bias=True)\n",
       "  )\n",
       ")"
      ]
     },
     "execution_count": 27,
     "metadata": {},
     "output_type": "execute_result"
    }
   ],
   "source": [
    "glob_model"
   ]
  },
  {
   "cell_type": "code",
   "execution_count": 83,
   "id": "8ba550d9-8414-4a31-b2ce-681d7a49017c",
   "metadata": {
    "collapsed": true,
    "jupyter": {
     "outputs_hidden": true
    },
    "tags": []
   },
   "outputs": [
    {
     "data": {
      "text/plain": [
       "OrderedDict([('fc_layers.0.weight',\n",
       "              tensor([[ 0.2743, -0.0576,  0.0235,  ...,  0.0035, -0.0366, -0.0030],\n",
       "                      [ 0.0278, -0.0781,  0.0774,  ..., -0.0094, -0.0367, -0.0049],\n",
       "                      [ 0.1091, -0.0306,  0.0373,  ...,  0.0146, -0.0398, -0.0204],\n",
       "                      ...,\n",
       "                      [ 0.2346, -0.0146, -0.0463,  ...,  0.0097, -0.0236, -0.0132],\n",
       "                      [ 0.0030, -0.0403, -0.0033,  ...,  0.0229,  0.0235,  0.0132],\n",
       "                      [ 0.0401, -0.0303,  0.0093,  ...,  0.0518,  0.0119,  0.0536]],\n",
       "                     device='cuda:0')),\n",
       "             ('fc_layers.0.bias',\n",
       "              tensor([-0.0192, -0.0221, -0.0298, -0.0374, -0.0544, -0.0177,  0.0220, -0.0599,\n",
       "                      -0.0084, -0.0533, -0.0198, -0.0502, -0.0312,  0.0098, -0.0176,  0.0245,\n",
       "                       0.0381, -0.0146, -0.0248, -0.0408, -0.0641, -0.0579,  0.0006, -0.0420,\n",
       "                      -0.0018, -0.0344, -0.0838, -0.0218, -0.0426, -0.0415,  0.0042,  0.0105,\n",
       "                      -0.0281,  0.0304, -0.0632, -0.0437, -0.0175, -0.0479, -0.0362, -0.0318,\n",
       "                      -0.0130, -0.0571, -0.0341, -0.0218, -0.0282, -0.0527, -0.0578, -0.0342,\n",
       "                      -0.0296, -0.0424, -0.0092, -0.0226, -0.0508, -0.0452,  0.0333, -0.0596,\n",
       "                      -0.0109, -0.0139,  0.0032, -0.0692,  0.0125,  0.0328,  0.0162, -0.0455,\n",
       "                      -0.0126, -0.0144,  0.0223,  0.0031,  0.0087,  0.0133, -0.0192, -0.0384,\n",
       "                      -0.0239, -0.0543, -0.0063, -0.0249,  0.0037, -0.0507, -0.0225, -0.0366,\n",
       "                      -0.0262,  0.0207,  0.0390, -0.0065, -0.0020, -0.0487,  0.0433, -0.0305,\n",
       "                       0.0148, -0.0233, -0.0025,  0.0276, -0.0822,  0.0112, -0.0096, -0.0215,\n",
       "                      -0.0122, -0.0306,  0.0059, -0.0357,  0.0111, -0.0323, -0.0139, -0.0109,\n",
       "                       0.0019, -0.0022, -0.0629, -0.0384,  0.0221, -0.0369, -0.0558, -0.0056,\n",
       "                      -0.0140, -0.0184,  0.0031, -0.0449, -0.0352, -0.0492, -0.0134,  0.0394,\n",
       "                       0.0198,  0.0139, -0.0367, -0.0297, -0.0133, -0.0420, -0.0251, -0.0007,\n",
       "                       0.0032, -0.0431, -0.0218, -0.0535, -0.0018, -0.0155, -0.0657, -0.0625,\n",
       "                       0.0267, -0.0085,  0.0257, -0.0877, -0.0245, -0.0644, -0.0134,  0.0262,\n",
       "                       0.0233, -0.0261,  0.0030, -0.0682, -0.0132, -0.0185,  0.0122, -0.0074,\n",
       "                      -0.0711, -0.0020,  0.0520, -0.0128, -0.0366, -0.0140, -0.0418,  0.0302,\n",
       "                      -0.0734,  0.0051, -0.0188,  0.0175, -0.0137, -0.0117,  0.0253, -0.0039,\n",
       "                      -0.0290,  0.0355, -0.0134,  0.0152, -0.0137, -0.0353, -0.0064,  0.0273,\n",
       "                      -0.0047, -0.0527, -0.0099,  0.0381, -0.0232,  0.0082, -0.0060, -0.0241,\n",
       "                      -0.0271, -0.0205, -0.0554,  0.0226,  0.0197, -0.0163, -0.0132, -0.0310,\n",
       "                      -0.0157, -0.0082, -0.0468, -0.0531, -0.0371, -0.0371,  0.0031, -0.0028,\n",
       "                      -0.0566, -0.0597, -0.0110, -0.0301, -0.0523, -0.0035, -0.0120,  0.0485,\n",
       "                      -0.0141, -0.0036, -0.0322, -0.0377,  0.0231, -0.0540, -0.0107, -0.0022,\n",
       "                       0.0136,  0.0339, -0.0039,  0.0483,  0.0014, -0.0751, -0.0040,  0.0062,\n",
       "                       0.0100,  0.0733, -0.0201, -0.0081, -0.0817,  0.0286, -0.0237,  0.0032,\n",
       "                      -0.0251,  0.0480,  0.0067, -0.0043, -0.0181, -0.0071,  0.0698, -0.0318,\n",
       "                      -0.0174, -0.0230, -0.0299, -0.0176, -0.0466, -0.0499,  0.0362, -0.0007,\n",
       "                      -0.0190, -0.0214, -0.0378, -0.0169, -0.0478, -0.0660, -0.0077, -0.0149,\n",
       "                       0.0008, -0.0401,  0.0138, -0.0145, -0.0260, -0.0409,  0.0054, -0.0475,\n",
       "                       0.0121, -0.0300, -0.0138, -0.0074, -0.0112, -0.0235, -0.0220, -0.0069,\n",
       "                      -0.0143, -0.0062, -0.0509, -0.0100,  0.0062, -0.0029, -0.0249,  0.0070,\n",
       "                       0.0371, -0.0069,  0.0043,  0.0016, -0.0288, -0.0607, -0.0026, -0.0391,\n",
       "                       0.0130, -0.0209, -0.0488, -0.0023, -0.0107, -0.0357,  0.0018, -0.0080,\n",
       "                       0.0266, -0.0196, -0.0528,  0.0458,  0.0131, -0.0361, -0.0448, -0.0511,\n",
       "                      -0.0527, -0.0297, -0.0085,  0.0007,  0.0243, -0.0380, -0.0225,  0.0259,\n",
       "                      -0.0268, -0.0264, -0.0469, -0.0303, -0.0354, -0.0601, -0.0437, -0.0531,\n",
       "                      -0.0213, -0.0602,  0.0255, -0.0492, -0.0123,  0.0266, -0.0312, -0.0351,\n",
       "                      -0.0130, -0.0194, -0.0467, -0.0823,  0.0044,  0.0414, -0.0331,  0.0049,\n",
       "                      -0.0175, -0.0236, -0.0221,  0.0169,  0.0048,  0.0284, -0.0132,  0.0217,\n",
       "                      -0.0105, -0.0508, -0.0468, -0.0320, -0.0537, -0.0455, -0.0091,  0.0454,\n",
       "                       0.0318, -0.0190,  0.0728, -0.0385, -0.0315, -0.0373,  0.0289,  0.0084,\n",
       "                       0.0008, -0.0008, -0.0279, -0.0437,  0.0137, -0.0318, -0.0035, -0.0193,\n",
       "                       0.0442,  0.0093, -0.0620,  0.0231, -0.0681,  0.0025,  0.0120,  0.0142,\n",
       "                       0.0039,  0.0098,  0.0063, -0.0281, -0.0254, -0.0560, -0.0226, -0.0383,\n",
       "                      -0.0285, -0.0124, -0.0480, -0.0218, -0.0598, -0.0219, -0.0381, -0.0464,\n",
       "                       0.0296, -0.0410, -0.0423, -0.0378, -0.0311, -0.0040, -0.0253, -0.0372,\n",
       "                      -0.0181, -0.0350, -0.0255,  0.0134, -0.0100,  0.0207, -0.0187, -0.0050,\n",
       "                      -0.0568, -0.0032, -0.0271, -0.0446, -0.0234,  0.0284,  0.0107, -0.0629,\n",
       "                      -0.0275, -0.0086, -0.0391,  0.0034,  0.0413,  0.0123, -0.0038, -0.0576,\n",
       "                      -0.0006, -0.0196, -0.0311,  0.0149,  0.0220, -0.0080, -0.0120, -0.0014,\n",
       "                      -0.0816, -0.0295, -0.0284,  0.0072, -0.0434, -0.0346, -0.0064, -0.0592,\n",
       "                      -0.0076, -0.0284, -0.0257,  0.0284,  0.0057, -0.0230,  0.0390,  0.0222,\n",
       "                      -0.0425, -0.0118, -0.0350, -0.0620,  0.0056,  0.0048, -0.0336,  0.0040,\n",
       "                       0.0164, -0.0426,  0.0048, -0.0156, -0.0271, -0.0162, -0.0663,  0.0547,\n",
       "                      -0.0686, -0.0225, -0.0088, -0.0607,  0.0289, -0.0374, -0.0135, -0.0443,\n",
       "                      -0.0441,  0.0491, -0.0047, -0.0215, -0.0227,  0.0092, -0.0341,  0.0103,\n",
       "                      -0.0267, -0.0254, -0.0285, -0.0026, -0.0247, -0.0464, -0.0158, -0.0479,\n",
       "                       0.0108,  0.0104, -0.0357,  0.0132, -0.0481, -0.0354, -0.0334,  0.0104,\n",
       "                       0.0021, -0.0127, -0.0421, -0.0520,  0.0211, -0.0476, -0.0011, -0.0181,\n",
       "                      -0.0216,  0.0301, -0.0215, -0.0303, -0.0231,  0.0003, -0.0315, -0.0311],\n",
       "                     device='cuda:0')),\n",
       "             ('fc_layers.2.weight',\n",
       "              tensor([[ 0.0222,  0.0320, -0.0266,  ...,  0.0108,  0.0452,  0.0184],\n",
       "                      [ 0.0003,  0.0471, -0.0014,  ..., -0.0554,  0.0643,  0.0377],\n",
       "                      [-0.0288,  0.0266,  0.0035,  ..., -0.0076,  0.0423, -0.0162],\n",
       "                      ...,\n",
       "                      [-0.0019,  0.0424,  0.0284,  ..., -0.1033,  0.0160, -0.0203],\n",
       "                      [ 0.0398, -0.0163,  0.0291,  ..., -0.0796, -0.0288,  0.0340],\n",
       "                      [ 0.0345,  0.0518,  0.0568,  ..., -0.0896,  0.0385,  0.0072]],\n",
       "                     device='cuda:0')),\n",
       "             ('fc_layers.2.bias',\n",
       "              tensor([-0.0114,  0.0353, -0.0165,  0.0242,  0.0302, -0.0453, -0.0010, -0.0837,\n",
       "                       0.0012,  0.0234, -0.0449, -0.0209,  0.0368,  0.0126,  0.0289, -0.0370,\n",
       "                       0.0203,  0.0057,  0.0299,  0.0087,  0.0397,  0.0174,  0.0132,  0.0188,\n",
       "                      -0.0613,  0.0522,  0.0532, -0.0016,  0.0013, -0.0511, -0.0297, -0.0187,\n",
       "                      -0.0036, -0.0893,  0.0251, -0.0390,  0.0156,  0.0380,  0.0305,  0.0096,\n",
       "                      -0.0315,  0.0185,  0.0209,  0.0388,  0.0088, -0.0160, -0.0286,  0.0204,\n",
       "                      -0.0067, -0.1077, -0.0051,  0.0213, -0.0094, -0.0308,  0.0164,  0.0290,\n",
       "                      -0.0120,  0.0304,  0.0416,  0.0027,  0.0015,  0.0174,  0.0518,  0.0312,\n",
       "                      -0.0155,  0.0265, -0.0324,  0.0025, -0.0523, -0.0360,  0.0155,  0.0144,\n",
       "                       0.0735,  0.0165,  0.0488,  0.0145, -0.0258,  0.0120,  0.0548,  0.0349,\n",
       "                       0.0094,  0.0046,  0.0070,  0.0124,  0.0433,  0.0398,  0.0111, -0.0444,\n",
       "                      -0.0187, -0.0037,  0.0023,  0.0511,  0.0324,  0.0240, -0.0410, -0.0581,\n",
       "                      -0.0365,  0.0304, -0.0093, -0.0445,  0.0648, -0.0302, -0.0177, -0.0314,\n",
       "                       0.0070,  0.0285,  0.0404,  0.0093, -0.0037, -0.0469,  0.0293,  0.0056,\n",
       "                       0.0264, -0.0303,  0.0189,  0.0118, -0.0240, -0.0351,  0.0257, -0.0110,\n",
       "                      -0.0194, -0.0731,  0.0422,  0.0723,  0.0155,  0.0222,  0.0139, -0.0074,\n",
       "                       0.0430,  0.0515, -0.0380,  0.0054,  0.0199,  0.0056, -0.0350, -0.0433,\n",
       "                       0.0058,  0.0326,  0.0198, -0.0007,  0.0016,  0.0094,  0.0347,  0.0493,\n",
       "                      -0.0008,  0.0011, -0.0137, -0.0388, -0.0570, -0.0495, -0.0715, -0.0633,\n",
       "                      -0.0674, -0.0211,  0.0440,  0.0675,  0.0264,  0.0714, -0.0615, -0.0743,\n",
       "                       0.0418, -0.0874, -0.0071, -0.0439,  0.0049, -0.0797,  0.0303, -0.0106,\n",
       "                       0.0181,  0.0942,  0.0437, -0.0133,  0.0125, -0.0203, -0.0709,  0.0560,\n",
       "                      -0.0038,  0.0217,  0.0304,  0.0021,  0.0382,  0.0314, -0.0248,  0.0277,\n",
       "                       0.0896,  0.0178,  0.0688,  0.0723, -0.0341,  0.0216, -0.0410,  0.0308,\n",
       "                      -0.0124, -0.0730,  0.0446,  0.0215, -0.0378, -0.0368,  0.0139,  0.0176,\n",
       "                      -0.0298,  0.0210, -0.0074,  0.0392, -0.0619,  0.0078,  0.0283,  0.0299,\n",
       "                       0.0374,  0.0444, -0.0500, -0.0231, -0.0152, -0.0164,  0.0256,  0.0908,\n",
       "                       0.0154,  0.0606,  0.0212, -0.0544,  0.0748,  0.0292, -0.0048, -0.0839,\n",
       "                       0.0216,  0.1035, -0.0296,  0.0038, -0.0482,  0.0341,  0.0148, -0.0458,\n",
       "                      -0.0477, -0.0641,  0.0045, -0.0716,  0.0385,  0.0546,  0.0141,  0.0185,\n",
       "                       0.0012, -0.0067, -0.0130,  0.0073,  0.0178, -0.0478, -0.0400, -0.0726,\n",
       "                       0.0078, -0.0504,  0.0374, -0.0749, -0.0424,  0.0498,  0.0288,  0.0491],\n",
       "                     device='cuda:0')),\n",
       "             ('fc_layers.4.weight',\n",
       "              tensor([[ 0.0332,  0.0078, -0.0076,  ...,  0.0034, -0.0732, -0.1114],\n",
       "                      [-0.0428, -0.0715,  0.0017,  ...,  0.0062,  0.0562, -0.0519],\n",
       "                      [-0.0236, -0.0890, -0.0373,  ..., -0.0861, -0.0683, -0.0195],\n",
       "                      ...,\n",
       "                      [ 0.1417,  0.1034,  0.0416,  ...,  0.0781,  0.0827,  0.0272],\n",
       "                      [-0.0350, -0.0542,  0.0072,  ...,  0.0153, -0.0367, -0.0456],\n",
       "                      [ 0.0244,  0.0021, -0.0044,  ..., -0.0332, -0.0404,  0.0790]],\n",
       "                     device='cuda:0')),\n",
       "             ('fc_layers.4.bias',\n",
       "              tensor([ 0.0193,  0.0138,  0.0462,  0.0700,  0.0321, -0.0278,  0.0189,  0.0318,\n",
       "                      -0.0213,  0.0684, -0.0021, -0.0659,  0.1104,  0.0826,  0.0754,  0.0113,\n",
       "                       0.0397, -0.0594, -0.0085, -0.0008,  0.0089,  0.0143, -0.0779,  0.0607,\n",
       "                      -0.0543,  0.1351,  0.0003,  0.0941,  0.0670,  0.0488,  0.0049,  0.0170,\n",
       "                      -0.0345,  0.2018, -0.0015,  0.0571,  0.0270, -0.0299,  0.0032,  0.0726,\n",
       "                       0.0055, -0.0198,  0.0264,  0.0395, -0.0284,  0.0629,  0.0200, -0.0651,\n",
       "                       0.0556,  0.0325,  0.0711,  0.1308,  0.0580,  0.0234,  0.0135,  0.0353,\n",
       "                       0.2301, -0.0827,  0.1031,  0.0752,  0.1429, -0.0653, -0.0127,  0.0367,\n",
       "                       0.0295,  0.0968,  0.2180,  0.0799,  0.0007,  0.0556,  0.0073,  0.0915,\n",
       "                       0.0822,  0.0031, -0.0257,  0.0950,  0.0322,  0.0069,  0.0697,  0.0180,\n",
       "                       0.1366,  0.0435, -0.0225,  0.0628,  0.0256,  0.0056, -0.0131,  0.0571,\n",
       "                       0.0932, -0.0743, -0.0715,  0.1015,  0.0822,  0.0694,  0.0927,  0.0459,\n",
       "                       0.0466, -0.0263,  0.0692, -0.0653,  0.0807,  0.0092,  0.0444, -0.0077,\n",
       "                       0.0277,  0.0240, -0.0683, -0.0408,  0.0859,  0.0050,  0.0904,  0.1149,\n",
       "                       0.1048, -0.0473, -0.0742, -0.0612, -0.0565,  0.0643,  0.0766,  0.0187,\n",
       "                       0.0852,  0.0023,  0.2000,  0.2105, -0.0503,  0.1258,  0.0443, -0.0495],\n",
       "                     device='cuda:0')),\n",
       "             ('fc_layers.6.weight',\n",
       "              tensor([[-0.0788,  0.0298, -0.0178,  ..., -0.0872, -0.0973,  0.0429],\n",
       "                      [-0.1602, -0.0680, -0.1297,  ...,  0.1124, -0.0537, -0.0028],\n",
       "                      [ 0.0298, -0.0502, -0.0649,  ..., -0.1537, -0.0207,  0.0121],\n",
       "                      ...,\n",
       "                      [-0.0447, -0.1513, -0.0793,  ..., -0.0605, -0.0344,  0.1306],\n",
       "                      [-0.0919, -0.0432, -0.0211,  ...,  0.0391, -0.1171, -0.0721],\n",
       "                      [ 0.1017,  0.0445,  0.0639,  ..., -0.0683, -0.0046,  0.0862]],\n",
       "                     device='cuda:0')),\n",
       "             ('fc_layers.6.bias',\n",
       "              tensor([-0.0771,  0.0967, -0.0045,  0.1107,  0.0901,  0.0413,  0.1454,  0.1302,\n",
       "                       0.0226, -0.0762,  0.0530, -0.0142,  0.1373,  0.0133,  0.1233, -0.0078,\n",
       "                       0.1035,  0.1375,  0.0137,  0.1642,  0.1215,  0.1031,  0.0955, -0.0810,\n",
       "                       0.0764,  0.1806,  0.1662,  0.0749,  0.1649,  0.1692,  0.0444,  0.0010,\n",
       "                       0.1350, -0.0870, -0.0215,  0.1567,  0.0449,  0.1621,  0.1232,  0.1507,\n",
       "                       0.0401,  0.1357,  0.0831,  0.1660, -0.0443, -0.1339,  0.1134,  0.0883,\n",
       "                       0.0035,  0.0896, -0.0959, -0.0705,  0.0576,  0.1291, -0.0145,  0.1283,\n",
       "                      -0.0491, -0.0015,  0.0969,  0.1348,  0.1195, -0.0749, -0.1288,  0.1717],\n",
       "                     device='cuda:0')),\n",
       "             ('fc_layers.8.weight',\n",
       "              tensor([[ 0.0108,  0.0377, -0.0693,  0.1536, -0.0732, -0.0036,  0.1361, -0.1125,\n",
       "                        0.1331,  0.0271, -0.1370,  0.1319,  0.0738, -0.1232,  0.0393,  0.0303,\n",
       "                       -0.0451, -0.1373, -0.0565, -0.1010, -0.1393, -0.1013,  0.0154,  0.0183,\n",
       "                        0.0874, -0.1027,  0.0379,  0.0052,  0.1179,  0.0966, -0.0563,  0.1023,\n",
       "                       -0.0490, -0.0724,  0.0841, -0.0442, -0.0404,  0.0949, -0.0526, -0.0318,\n",
       "                       -0.0049,  0.0605, -0.0933,  0.0530,  0.0759,  0.0050,  0.0368, -0.0152,\n",
       "                        0.0105,  0.1264,  0.0370,  0.0742, -0.0299, -0.0860,  0.0740,  0.0602,\n",
       "                       -0.0338,  0.0877,  0.1154, -0.0537, -0.1154,  0.0729,  0.0490, -0.0369],\n",
       "                      [-0.0054, -0.0818,  0.0209, -0.0189,  0.0579, -0.1123, -0.1116, -0.0319,\n",
       "                        0.0305,  0.0463, -0.0919, -0.0905, -0.1592, -0.0933, -0.0704, -0.1378,\n",
       "                       -0.0312,  0.1329,  0.0866, -0.0012,  0.1446,  0.0257, -0.1371,  0.0475,\n",
       "                       -0.1070, -0.0388, -0.0692, -0.0461,  0.0325, -0.0671,  0.0526, -0.0725,\n",
       "                       -0.0759, -0.0480,  0.0397,  0.1390, -0.0140, -0.0164,  0.0479,  0.1030,\n",
       "                       -0.0228, -0.1193,  0.0469, -0.0232,  0.0283,  0.0171, -0.0042, -0.0912,\n",
       "                       -0.0583,  0.0865, -0.0843,  0.0084,  0.1293, -0.1081, -0.0169, -0.1015,\n",
       "                       -0.1140, -0.1186,  0.0736,  0.0848, -0.0602, -0.1316,  0.0506,  0.0393]],\n",
       "                     device='cuda:0')),\n",
       "             ('fc_layers.8.bias',\n",
       "              tensor([-0.0650,  0.1415], device='cuda:0'))])"
      ]
     },
     "execution_count": 83,
     "metadata": {},
     "output_type": "execute_result"
    }
   ],
   "source": [
    "glob_model.state_dict()"
   ]
  },
  {
   "cell_type": "markdown",
   "id": "33873c50-b0df-4153-a57b-673a3a457cfa",
   "metadata": {},
   "source": [
    "### Evaluate the global model all attacks type among clients"
   ]
  },
  {
   "cell_type": "code",
   "execution_count": 28,
   "id": "ffb4916e-a5c2-47c1-810a-1a0a4fa4566d",
   "metadata": {
    "tags": []
   },
   "outputs": [],
   "source": [
    "# Define the evaluation function\n",
    "criterion = nn.CrossEntropyLoss()\n",
    "\n",
    "def evaluate(model, test_loader, criterion, device):\n",
    "    model.eval()\n",
    "    test_loss = 0.0\n",
    "    correct = 0\n",
    "    total = 0\n",
    "    predictions = []\n",
    "    true_labels = []\n",
    "\n",
    "    with torch.no_grad():\n",
    "        for inputs, labels in test_loader:\n",
    "            inputs = inputs.to(device)\n",
    "            labels = labels.to(device)\n",
    "\n",
    "            outputs = model(inputs)\n",
    "            loss = criterion(outputs, labels)\n",
    "\n",
    "            test_loss += loss.item() * inputs.size(0)\n",
    "            _, predicted = outputs.max(1)\n",
    "            total += labels.size(0)\n",
    "            correct += predicted.eq(labels).sum().item()\n",
    "\n",
    "            predictions.extend(predicted.tolist())\n",
    "            true_labels.extend(labels.tolist())\n",
    "\n",
    "    test_loss = test_loss / len(test_loader.dataset)\n",
    "    accuracy = 100.0 * correct / total\n",
    "\n",
    "    return test_loss, accuracy, predictions, true_labels"
   ]
  },
  {
   "cell_type": "code",
   "execution_count": 29,
   "id": "b28a49b5-e187-4f3e-9ef6-ea69b4f038dd",
   "metadata": {
    "tags": []
   },
   "outputs": [],
   "source": [
    "silo0_sub = CustomDataset('client_data/nids/0/0_test_new.csv')\n",
    "silo1_sub = CustomDataset('client_data/nids/1/1_test_new.csv')\n",
    "silo2_sub = CustomDataset('client_data/nids/2/2_test_new.csv')\n",
    "silo3_sub = CustomDataset('client_data/nids/3/3_test_new.csv')"
   ]
  },
  {
   "cell_type": "code",
   "execution_count": 30,
   "id": "87dc912c-199f-43a6-a442-23c2578892a2",
   "metadata": {
    "tags": []
   },
   "outputs": [
    {
     "data": {
      "text/plain": [
       "35077"
      ]
     },
     "execution_count": 30,
     "metadata": {},
     "output_type": "execute_result"
    }
   ],
   "source": [
    "len(silo0_sub)"
   ]
  },
  {
   "cell_type": "code",
   "execution_count": 31,
   "id": "fd422bcf-37d0-4053-87a9-350de1a19e3e",
   "metadata": {
    "tags": []
   },
   "outputs": [],
   "source": [
    "test_silo0_sub = DataLoader(silo0_sub, batch_size=batch_size, shuffle=True)\n",
    "test_silo1_sub = DataLoader(silo1_sub, batch_size=batch_size, shuffle=True)\n",
    "test_silo2_sub = DataLoader(silo2_sub, batch_size=batch_size, shuffle=True)\n",
    "test_silo3_sub = DataLoader(silo3_sub, batch_size=batch_size, shuffle=True)"
   ]
  },
  {
   "cell_type": "code",
   "execution_count": 32,
   "id": "c74c19dd-e94c-47b4-a521-c9d392a84024",
   "metadata": {
    "tags": []
   },
   "outputs": [
    {
     "data": {
      "text/plain": [
       "1097"
      ]
     },
     "execution_count": 32,
     "metadata": {},
     "output_type": "execute_result"
    }
   ],
   "source": [
    "len(test_silo0_sub)"
   ]
  },
  {
   "cell_type": "code",
   "execution_count": 33,
   "id": "cbade5e9-c4ba-4fbb-ac2b-8c40eba2ab7d",
   "metadata": {
    "tags": []
   },
   "outputs": [
    {
     "name": "stdout",
     "output_type": "stream",
     "text": [
      "Test Loss: 0.1128, Test Accuracy: 95.03%\n",
      "Classification Report:\n",
      "              precision    recall  f1-score   support\n",
      "\n",
      "           0       0.89      1.00      0.94     13566\n",
      "           1       1.00      0.92      0.96     21511\n",
      "\n",
      "    accuracy                           0.95     35077\n",
      "   macro avg       0.94      0.96      0.95     35077\n",
      "weighted avg       0.96      0.95      0.95     35077\n",
      "\n"
     ]
    }
   ],
   "source": [
    "# Evaluate the model\n",
    "test_loss, test_accuracy, predictions, true_labels = evaluate(glob_model, test_silo0_sub, criterion, device)\n",
    "\n",
    "# Print the training and evaluation metrics\n",
    "print(f'Test Loss: {test_loss:.4f}, Test Accuracy: {test_accuracy:.2f}%')\n",
    "\n",
    "# Generate classification report\n",
    "report = classification_report(true_labels, predictions)\n",
    "print('Classification Report:')\n",
    "print(report)"
   ]
  },
  {
   "cell_type": "code",
   "execution_count": 34,
   "id": "e399f7bc-555c-4715-84bb-0c4b2dd7eeac",
   "metadata": {
    "tags": []
   },
   "outputs": [
    {
     "name": "stdout",
     "output_type": "stream",
     "text": [
      "Test Loss: 0.0277, Test Accuracy: 99.85%\n",
      "Classification Report:\n",
      "              precision    recall  f1-score   support\n",
      "\n",
      "           0       1.00      1.00      1.00     13464\n",
      "           1       1.00      1.00      1.00     18283\n",
      "\n",
      "    accuracy                           1.00     31747\n",
      "   macro avg       1.00      1.00      1.00     31747\n",
      "weighted avg       1.00      1.00      1.00     31747\n",
      "\n"
     ]
    }
   ],
   "source": [
    "# Evaluate the model\n",
    "test_loss, test_accuracy, predictions, true_labels = evaluate(glob_model, test_silo1_sub, criterion, device)\n",
    "\n",
    "# Print the training and evaluation metrics\n",
    "print(f'Test Loss: {test_loss:.4f}, Test Accuracy: {test_accuracy:.2f}%')\n",
    "\n",
    "# Generate classification report\n",
    "report = classification_report(true_labels, predictions)\n",
    "print('Classification Report:')\n",
    "print(report)"
   ]
  },
  {
   "cell_type": "code",
   "execution_count": 35,
   "id": "21de8d51-1681-4b31-bc20-d2f751d44bae",
   "metadata": {
    "tags": []
   },
   "outputs": [
    {
     "name": "stdout",
     "output_type": "stream",
     "text": [
      "Test Loss: 0.9597, Test Accuracy: 80.57%\n",
      "Classification Report:\n",
      "              precision    recall  f1-score   support\n",
      "\n",
      "           0       0.72      1.00      0.84     13687\n",
      "           1       1.00      0.61      0.76     13650\n",
      "\n",
      "    accuracy                           0.81     27337\n",
      "   macro avg       0.86      0.81      0.80     27337\n",
      "weighted avg       0.86      0.81      0.80     27337\n",
      "\n"
     ]
    }
   ],
   "source": [
    "# Evaluate the model\n",
    "test_loss, test_accuracy, predictions, true_labels = evaluate(glob_model, test_silo2_sub, criterion, device)\n",
    "\n",
    "# Print the training and evaluation metrics\n",
    "print(f'Test Loss: {test_loss:.4f}, Test Accuracy: {test_accuracy:.2f}%')\n",
    "\n",
    "# Generate classification report\n",
    "report = classification_report(true_labels, predictions)\n",
    "print('Classification Report:')\n",
    "print(report)"
   ]
  },
  {
   "cell_type": "code",
   "execution_count": 36,
   "id": "8808fb6d-dedf-439c-8276-3408751cf61d",
   "metadata": {
    "tags": []
   },
   "outputs": [
    {
     "name": "stdout",
     "output_type": "stream",
     "text": [
      "Test Loss: 1.0145, Test Accuracy: 79.92%\n",
      "Classification Report:\n",
      "              precision    recall  f1-score   support\n",
      "\n",
      "           0       0.71      1.00      0.83     13591\n",
      "           1       1.00      0.60      0.75     13746\n",
      "\n",
      "    accuracy                           0.80     27337\n",
      "   macro avg       0.86      0.80      0.79     27337\n",
      "weighted avg       0.86      0.80      0.79     27337\n",
      "\n"
     ]
    }
   ],
   "source": [
    "# Evaluate the model\n",
    "test_loss, test_accuracy, predictions, true_labels = evaluate(glob_model, test_silo3_sub, criterion, device)\n",
    "\n",
    "# Print the training and evaluation metrics\n",
    "print(f'Test Loss: {test_loss:.4f}, Test Accuracy: {test_accuracy:.2f}%')\n",
    "\n",
    "# Generate classification report\n",
    "report = classification_report(true_labels, predictions)\n",
    "print('Classification Report:')\n",
    "print(report)"
   ]
  },
  {
   "cell_type": "markdown",
   "id": "a5d75fad-755b-4aac-a549-2ecb200a7c5e",
   "metadata": {},
   "source": [
    "## Intepretation:\n",
    "Eventhough we have pros lik data security from FL, buts still facing cons:\n",
    "1. FL model can predict certain attacks among all client\n",
    "2. FL model is affected by dominated training silo clients, making its performance worse\n",
    "\n",
    "=> because the non-idd data, we need to solve this"
   ]
  },
  {
   "cell_type": "markdown",
   "id": "c57dad9f-36d9-4b7d-b6aa-434f5eb07191",
   "metadata": {},
   "source": [
    "### Test on adv samples"
   ]
  },
  {
   "cell_type": "code",
   "execution_count": 40,
   "id": "43172d40-d077-4d62-8ce2-68adb93235ae",
   "metadata": {
    "tags": []
   },
   "outputs": [],
   "source": [
    "import pandas as pd"
   ]
  },
  {
   "cell_type": "code",
   "execution_count": 37,
   "id": "d86a218f-ee79-4263-800f-3a0de6af7f7f",
   "metadata": {
    "tags": []
   },
   "outputs": [],
   "source": [
    "truerandom_20_test = CustomDataset('datasets/nids/adv/20_adv_truerandom_test.csv')\n",
    "incremental_20_test = CustomDataset('datasets/nids/adv/20_adv_incremental_test.csv')\n",
    "all_20_test = CustomDataset('datasets/nids/adv/adv_all_benign_attack_20.csv')"
   ]
  },
  {
   "cell_type": "code",
   "execution_count": null,
   "id": "17ee7977-e357-4d68-acf7-2d96a9777f4c",
   "metadata": {},
   "outputs": [],
   "source": []
  },
  {
   "cell_type": "code",
   "execution_count": 38,
   "id": "554b153e-4cbd-420d-a7a0-ccdee5b5f232",
   "metadata": {
    "tags": []
   },
   "outputs": [],
   "source": [
    "truerandom_20_test.labels = truerandom_20_test.labels + 1"
   ]
  },
  {
   "cell_type": "code",
   "execution_count": 39,
   "id": "a954b8bd-00d2-420f-bf40-0aa47feb732e",
   "metadata": {
    "tags": []
   },
   "outputs": [],
   "source": [
    "incremental_20_test.labels = incremental_20_test.labels + 1\n",
    "all_20_test.labels = all_20_test.labels + 1"
   ]
  },
  {
   "cell_type": "code",
   "execution_count": 40,
   "id": "f0630272-c944-430c-9d64-20028006afce",
   "metadata": {},
   "outputs": [],
   "source": [
    "truerandom_20_test_loader = DataLoader(truerandom_20_test, batch_size=batch_size, shuffle=True)\n",
    "incremental_20_test_loader = DataLoader(incremental_20_test, batch_size=batch_size, shuffle=True)\n",
    "all_20_test_loader = DataLoader(all_20_test, batch_size=batch_size, shuffle=True)"
   ]
  },
  {
   "cell_type": "code",
   "execution_count": 41,
   "id": "a28074b5-61f2-47f7-98a0-ff8af74ff884",
   "metadata": {
    "tags": []
   },
   "outputs": [
    {
     "name": "stdout",
     "output_type": "stream",
     "text": [
      "Test Loss: 0.0320, Test Accuracy: 99.94%\n",
      "Classification Report:\n",
      "              precision    recall  f1-score   support\n",
      "\n",
      "           0       0.00      0.00      0.00         0\n",
      "           1       1.00      1.00      1.00      1800\n",
      "\n",
      "    accuracy                           1.00      1800\n",
      "   macro avg       0.50      0.50      0.50      1800\n",
      "weighted avg       1.00      1.00      1.00      1800\n",
      "\n"
     ]
    },
    {
     "name": "stderr",
     "output_type": "stream",
     "text": [
      "/usr/lib/python3/dist-packages/sklearn/metrics/_classification.py:1221: UndefinedMetricWarning: Recall and F-score are ill-defined and being set to 0.0 in labels with no true samples. Use `zero_division` parameter to control this behavior.\n",
      "  _warn_prf(average, modifier, msg_start, len(result))\n"
     ]
    }
   ],
   "source": [
    "# Evaluate the model\n",
    "test_loss, test_accuracy, predictions, true_labels = evaluate(glob_model, truerandom_20_test_loader, criterion, device)\n",
    "\n",
    "# Print the training and evaluation metrics\n",
    "print(f'Test Loss: {test_loss:.4f}, Test Accuracy: {test_accuracy:.2f}%')\n",
    "\n",
    "# Generate classification report\n",
    "report = classification_report(true_labels, predictions)\n",
    "print('Classification Report:')\n",
    "print(report)"
   ]
  },
  {
   "cell_type": "code",
   "execution_count": 42,
   "id": "94efa63e-e11b-4a5c-a3a7-350b29464327",
   "metadata": {
    "tags": []
   },
   "outputs": [
    {
     "name": "stdout",
     "output_type": "stream",
     "text": [
      "Test Loss: 0.0412, Test Accuracy: 100.00%\n",
      "Classification Report:\n",
      "              precision    recall  f1-score   support\n",
      "\n",
      "           1       1.00      1.00      1.00      1000\n",
      "\n",
      "    accuracy                           1.00      1000\n",
      "   macro avg       1.00      1.00      1.00      1000\n",
      "weighted avg       1.00      1.00      1.00      1000\n",
      "\n"
     ]
    }
   ],
   "source": [
    "# Evaluate the model\n",
    "test_loss, test_accuracy, predictions, true_labels = evaluate(glob_model, incremental_20_test_loader, criterion, device)\n",
    "\n",
    "# Print the training and evaluation metrics\n",
    "print(f'Test Loss: {test_loss:.4f}, Test Accuracy: {test_accuracy:.2f}%')\n",
    "\n",
    "# Generate classification report\n",
    "report = classification_report(true_labels, predictions)\n",
    "print('Classification Report:')\n",
    "print(report)"
   ]
  },
  {
   "cell_type": "code",
   "execution_count": 43,
   "id": "ee1082be-772f-414f-9049-ec29816cc333",
   "metadata": {
    "tags": []
   },
   "outputs": [
    {
     "name": "stdout",
     "output_type": "stream",
     "text": [
      "Test Loss: 0.9186, Test Accuracy: 67.00%\n",
      "Classification Report:\n",
      "              precision    recall  f1-score   support\n",
      "\n",
      "           0       0.00      0.00      0.00         0\n",
      "           1       1.00      0.67      0.80      4000\n",
      "\n",
      "    accuracy                           0.67      4000\n",
      "   macro avg       0.50      0.34      0.40      4000\n",
      "weighted avg       1.00      0.67      0.80      4000\n",
      "\n"
     ]
    }
   ],
   "source": [
    "# Evaluate the model\n",
    "test_loss, test_accuracy, predictions, true_labels = evaluate(glob_model, all_20_test_loader, criterion, device)\n",
    "\n",
    "# Print the training and evaluation metrics\n",
    "print(f'Test Loss: {test_loss:.4f}, Test Accuracy: {test_accuracy:.2f}%')\n",
    "\n",
    "# Generate classification report\n",
    "report = classification_report(true_labels, predictions)\n",
    "print('Classification Report:')\n",
    "print(report)"
   ]
  },
  {
   "cell_type": "markdown",
   "id": "bf810090-0bdf-45ff-add0-6caa8b388c19",
   "metadata": {},
   "source": [
    "### Add benign samples + attack samples for testing"
   ]
  },
  {
   "cell_type": "code",
   "execution_count": 61,
   "id": "fb130971-8b58-4988-ab15-bf8964bb6877",
   "metadata": {
    "tags": []
   },
   "outputs": [],
   "source": [
    "new_truerandom_20_test = CustomDataset('datasets/nids/adv/adv_truerandom_benign_attack_20.csv')\n",
    "new_incremental_20_test = CustomDataset('datasets/nids/adv/adv_incremental_benign_attack_20.csv')\n",
    "new_all_20_test = CustomDataset('datasets/nids/adv/adv_all_benign_attack_20.csv')"
   ]
  },
  {
   "cell_type": "code",
   "execution_count": 62,
   "id": "280b2d14-a9f4-43ac-860c-9b559f2346ff",
   "metadata": {
    "tags": []
   },
   "outputs": [
    {
     "data": {
      "text/html": [
       "<div>\n",
       "<style scoped>\n",
       "    .dataframe tbody tr th:only-of-type {\n",
       "        vertical-align: middle;\n",
       "    }\n",
       "\n",
       "    .dataframe tbody tr th {\n",
       "        vertical-align: top;\n",
       "    }\n",
       "\n",
       "    .dataframe thead th {\n",
       "        text-align: right;\n",
       "    }\n",
       "</style>\n",
       "<table border=\"1\" class=\"dataframe\">\n",
       "  <thead>\n",
       "    <tr style=\"text-align: right;\">\n",
       "      <th></th>\n",
       "      <th>ip_header_byte_2</th>\n",
       "      <th>ip_header_byte_3</th>\n",
       "      <th>ip_header_byte_4</th>\n",
       "      <th>ip_header_byte_5</th>\n",
       "      <th>ip_header_byte_6</th>\n",
       "      <th>ip_header_byte_7</th>\n",
       "      <th>ip_header_byte_8</th>\n",
       "      <th>ip_header_byte_10</th>\n",
       "      <th>ip_header_byte_11</th>\n",
       "      <th>tcp_header_byte_4</th>\n",
       "      <th>...</th>\n",
       "      <th>tcp_segment_data_byte_1451</th>\n",
       "      <th>tcp_segment_data_byte_1452</th>\n",
       "      <th>tcp_segment_data_byte_1453</th>\n",
       "      <th>tcp_segment_data_byte_1454</th>\n",
       "      <th>tcp_segment_data_byte_1455</th>\n",
       "      <th>tcp_segment_data_byte_1456</th>\n",
       "      <th>tcp_segment_data_byte_1457</th>\n",
       "      <th>tcp_segment_data_byte_1458</th>\n",
       "      <th>tcp_segment_data_byte_1459</th>\n",
       "      <th>label_bin</th>\n",
       "    </tr>\n",
       "  </thead>\n",
       "  <tbody>\n",
       "    <tr>\n",
       "      <th>0</th>\n",
       "      <td>0.0</td>\n",
       "      <td>0.156863</td>\n",
       "      <td>0.078431</td>\n",
       "      <td>0.329412</td>\n",
       "      <td>0.25098</td>\n",
       "      <td>0.0</td>\n",
       "      <td>0.494118</td>\n",
       "      <td>0.443137</td>\n",
       "      <td>0.564706</td>\n",
       "      <td>0.698039</td>\n",
       "      <td>...</td>\n",
       "      <td>0.0</td>\n",
       "      <td>0.0</td>\n",
       "      <td>0.0</td>\n",
       "      <td>0.0</td>\n",
       "      <td>0.0</td>\n",
       "      <td>0.0</td>\n",
       "      <td>0.0</td>\n",
       "      <td>0.0</td>\n",
       "      <td>0.0</td>\n",
       "      <td>1</td>\n",
       "    </tr>\n",
       "    <tr>\n",
       "      <th>1</th>\n",
       "      <td>0.0</td>\n",
       "      <td>0.235294</td>\n",
       "      <td>0.011765</td>\n",
       "      <td>0.674510</td>\n",
       "      <td>0.25098</td>\n",
       "      <td>0.0</td>\n",
       "      <td>0.329412</td>\n",
       "      <td>0.674510</td>\n",
       "      <td>0.141176</td>\n",
       "      <td>0.407843</td>\n",
       "      <td>...</td>\n",
       "      <td>0.0</td>\n",
       "      <td>0.0</td>\n",
       "      <td>0.0</td>\n",
       "      <td>0.0</td>\n",
       "      <td>0.0</td>\n",
       "      <td>0.0</td>\n",
       "      <td>0.0</td>\n",
       "      <td>0.0</td>\n",
       "      <td>0.0</td>\n",
       "      <td>1</td>\n",
       "    </tr>\n",
       "    <tr>\n",
       "      <th>2</th>\n",
       "      <td>0.0</td>\n",
       "      <td>0.274510</td>\n",
       "      <td>0.709804</td>\n",
       "      <td>0.050980</td>\n",
       "      <td>0.12549</td>\n",
       "      <td>0.0</td>\n",
       "      <td>0.254902</td>\n",
       "      <td>0.176471</td>\n",
       "      <td>0.725490</td>\n",
       "      <td>0.223529</td>\n",
       "      <td>...</td>\n",
       "      <td>0.0</td>\n",
       "      <td>0.0</td>\n",
       "      <td>0.0</td>\n",
       "      <td>0.0</td>\n",
       "      <td>0.0</td>\n",
       "      <td>0.0</td>\n",
       "      <td>0.0</td>\n",
       "      <td>0.0</td>\n",
       "      <td>0.0</td>\n",
       "      <td>1</td>\n",
       "    </tr>\n",
       "    <tr>\n",
       "      <th>3</th>\n",
       "      <td>0.0</td>\n",
       "      <td>0.156863</td>\n",
       "      <td>0.109804</td>\n",
       "      <td>0.145098</td>\n",
       "      <td>0.25098</td>\n",
       "      <td>0.0</td>\n",
       "      <td>0.494118</td>\n",
       "      <td>0.411765</td>\n",
       "      <td>0.749020</td>\n",
       "      <td>0.698039</td>\n",
       "      <td>...</td>\n",
       "      <td>0.0</td>\n",
       "      <td>0.0</td>\n",
       "      <td>0.0</td>\n",
       "      <td>0.0</td>\n",
       "      <td>0.0</td>\n",
       "      <td>0.0</td>\n",
       "      <td>0.0</td>\n",
       "      <td>0.0</td>\n",
       "      <td>0.0</td>\n",
       "      <td>1</td>\n",
       "    </tr>\n",
       "    <tr>\n",
       "      <th>4</th>\n",
       "      <td>0.0</td>\n",
       "      <td>0.156863</td>\n",
       "      <td>0.043137</td>\n",
       "      <td>0.019608</td>\n",
       "      <td>0.25098</td>\n",
       "      <td>0.0</td>\n",
       "      <td>0.501961</td>\n",
       "      <td>0.074510</td>\n",
       "      <td>0.470588</td>\n",
       "      <td>0.858824</td>\n",
       "      <td>...</td>\n",
       "      <td>0.0</td>\n",
       "      <td>0.0</td>\n",
       "      <td>0.0</td>\n",
       "      <td>0.0</td>\n",
       "      <td>0.0</td>\n",
       "      <td>0.0</td>\n",
       "      <td>0.0</td>\n",
       "      <td>0.0</td>\n",
       "      <td>0.0</td>\n",
       "      <td>0</td>\n",
       "    </tr>\n",
       "    <tr>\n",
       "      <th>...</th>\n",
       "      <td>...</td>\n",
       "      <td>...</td>\n",
       "      <td>...</td>\n",
       "      <td>...</td>\n",
       "      <td>...</td>\n",
       "      <td>...</td>\n",
       "      <td>...</td>\n",
       "      <td>...</td>\n",
       "      <td>...</td>\n",
       "      <td>...</td>\n",
       "      <td>...</td>\n",
       "      <td>...</td>\n",
       "      <td>...</td>\n",
       "      <td>...</td>\n",
       "      <td>...</td>\n",
       "      <td>...</td>\n",
       "      <td>...</td>\n",
       "      <td>...</td>\n",
       "      <td>...</td>\n",
       "      <td>...</td>\n",
       "      <td>...</td>\n",
       "    </tr>\n",
       "    <tr>\n",
       "      <th>7995</th>\n",
       "      <td>0.0</td>\n",
       "      <td>0.156863</td>\n",
       "      <td>0.098039</td>\n",
       "      <td>0.737255</td>\n",
       "      <td>0.25098</td>\n",
       "      <td>0.0</td>\n",
       "      <td>0.501961</td>\n",
       "      <td>0.015686</td>\n",
       "      <td>0.756863</td>\n",
       "      <td>0.858824</td>\n",
       "      <td>...</td>\n",
       "      <td>0.0</td>\n",
       "      <td>0.0</td>\n",
       "      <td>0.0</td>\n",
       "      <td>0.0</td>\n",
       "      <td>0.0</td>\n",
       "      <td>0.0</td>\n",
       "      <td>0.0</td>\n",
       "      <td>0.0</td>\n",
       "      <td>0.0</td>\n",
       "      <td>0</td>\n",
       "    </tr>\n",
       "    <tr>\n",
       "      <th>7996</th>\n",
       "      <td>0.0</td>\n",
       "      <td>0.156863</td>\n",
       "      <td>0.149020</td>\n",
       "      <td>0.141176</td>\n",
       "      <td>0.25098</td>\n",
       "      <td>0.0</td>\n",
       "      <td>0.501961</td>\n",
       "      <td>0.972549</td>\n",
       "      <td>0.345098</td>\n",
       "      <td>0.858824</td>\n",
       "      <td>...</td>\n",
       "      <td>0.0</td>\n",
       "      <td>0.0</td>\n",
       "      <td>0.0</td>\n",
       "      <td>0.0</td>\n",
       "      <td>0.0</td>\n",
       "      <td>0.0</td>\n",
       "      <td>0.0</td>\n",
       "      <td>0.0</td>\n",
       "      <td>0.0</td>\n",
       "      <td>0</td>\n",
       "    </tr>\n",
       "    <tr>\n",
       "      <th>7997</th>\n",
       "      <td>0.0</td>\n",
       "      <td>0.156863</td>\n",
       "      <td>0.105882</td>\n",
       "      <td>0.788235</td>\n",
       "      <td>0.25098</td>\n",
       "      <td>0.0</td>\n",
       "      <td>0.525490</td>\n",
       "      <td>0.384314</td>\n",
       "      <td>0.105882</td>\n",
       "      <td>0.062745</td>\n",
       "      <td>...</td>\n",
       "      <td>0.0</td>\n",
       "      <td>0.0</td>\n",
       "      <td>0.0</td>\n",
       "      <td>0.0</td>\n",
       "      <td>0.0</td>\n",
       "      <td>0.0</td>\n",
       "      <td>0.0</td>\n",
       "      <td>0.0</td>\n",
       "      <td>0.0</td>\n",
       "      <td>1</td>\n",
       "    </tr>\n",
       "    <tr>\n",
       "      <th>7998</th>\n",
       "      <td>0.0</td>\n",
       "      <td>0.156863</td>\n",
       "      <td>0.415686</td>\n",
       "      <td>0.988235</td>\n",
       "      <td>0.25098</td>\n",
       "      <td>0.0</td>\n",
       "      <td>0.501961</td>\n",
       "      <td>0.701961</td>\n",
       "      <td>0.501961</td>\n",
       "      <td>0.858824</td>\n",
       "      <td>...</td>\n",
       "      <td>0.0</td>\n",
       "      <td>0.0</td>\n",
       "      <td>0.0</td>\n",
       "      <td>0.0</td>\n",
       "      <td>0.0</td>\n",
       "      <td>0.0</td>\n",
       "      <td>0.0</td>\n",
       "      <td>0.0</td>\n",
       "      <td>0.0</td>\n",
       "      <td>0</td>\n",
       "    </tr>\n",
       "    <tr>\n",
       "      <th>7999</th>\n",
       "      <td>0.0</td>\n",
       "      <td>0.156863</td>\n",
       "      <td>0.160784</td>\n",
       "      <td>0.145098</td>\n",
       "      <td>0.25098</td>\n",
       "      <td>0.0</td>\n",
       "      <td>0.501961</td>\n",
       "      <td>0.960784</td>\n",
       "      <td>0.341176</td>\n",
       "      <td>0.858824</td>\n",
       "      <td>...</td>\n",
       "      <td>0.0</td>\n",
       "      <td>0.0</td>\n",
       "      <td>0.0</td>\n",
       "      <td>0.0</td>\n",
       "      <td>0.0</td>\n",
       "      <td>0.0</td>\n",
       "      <td>0.0</td>\n",
       "      <td>0.0</td>\n",
       "      <td>0.0</td>\n",
       "      <td>0</td>\n",
       "    </tr>\n",
       "  </tbody>\n",
       "</table>\n",
       "<p>8000 rows × 1526 columns</p>\n",
       "</div>"
      ],
      "text/plain": [
       "      ip_header_byte_2  ip_header_byte_3  ip_header_byte_4  ip_header_byte_5  \\\n",
       "0                  0.0          0.156863          0.078431          0.329412   \n",
       "1                  0.0          0.235294          0.011765          0.674510   \n",
       "2                  0.0          0.274510          0.709804          0.050980   \n",
       "3                  0.0          0.156863          0.109804          0.145098   \n",
       "4                  0.0          0.156863          0.043137          0.019608   \n",
       "...                ...               ...               ...               ...   \n",
       "7995               0.0          0.156863          0.098039          0.737255   \n",
       "7996               0.0          0.156863          0.149020          0.141176   \n",
       "7997               0.0          0.156863          0.105882          0.788235   \n",
       "7998               0.0          0.156863          0.415686          0.988235   \n",
       "7999               0.0          0.156863          0.160784          0.145098   \n",
       "\n",
       "      ip_header_byte_6  ip_header_byte_7  ip_header_byte_8  ip_header_byte_10  \\\n",
       "0              0.25098               0.0          0.494118           0.443137   \n",
       "1              0.25098               0.0          0.329412           0.674510   \n",
       "2              0.12549               0.0          0.254902           0.176471   \n",
       "3              0.25098               0.0          0.494118           0.411765   \n",
       "4              0.25098               0.0          0.501961           0.074510   \n",
       "...                ...               ...               ...                ...   \n",
       "7995           0.25098               0.0          0.501961           0.015686   \n",
       "7996           0.25098               0.0          0.501961           0.972549   \n",
       "7997           0.25098               0.0          0.525490           0.384314   \n",
       "7998           0.25098               0.0          0.501961           0.701961   \n",
       "7999           0.25098               0.0          0.501961           0.960784   \n",
       "\n",
       "      ip_header_byte_11  tcp_header_byte_4  ...  tcp_segment_data_byte_1451  \\\n",
       "0              0.564706           0.698039  ...                         0.0   \n",
       "1              0.141176           0.407843  ...                         0.0   \n",
       "2              0.725490           0.223529  ...                         0.0   \n",
       "3              0.749020           0.698039  ...                         0.0   \n",
       "4              0.470588           0.858824  ...                         0.0   \n",
       "...                 ...                ...  ...                         ...   \n",
       "7995           0.756863           0.858824  ...                         0.0   \n",
       "7996           0.345098           0.858824  ...                         0.0   \n",
       "7997           0.105882           0.062745  ...                         0.0   \n",
       "7998           0.501961           0.858824  ...                         0.0   \n",
       "7999           0.341176           0.858824  ...                         0.0   \n",
       "\n",
       "      tcp_segment_data_byte_1452  tcp_segment_data_byte_1453  \\\n",
       "0                            0.0                         0.0   \n",
       "1                            0.0                         0.0   \n",
       "2                            0.0                         0.0   \n",
       "3                            0.0                         0.0   \n",
       "4                            0.0                         0.0   \n",
       "...                          ...                         ...   \n",
       "7995                         0.0                         0.0   \n",
       "7996                         0.0                         0.0   \n",
       "7997                         0.0                         0.0   \n",
       "7998                         0.0                         0.0   \n",
       "7999                         0.0                         0.0   \n",
       "\n",
       "      tcp_segment_data_byte_1454  tcp_segment_data_byte_1455  \\\n",
       "0                            0.0                         0.0   \n",
       "1                            0.0                         0.0   \n",
       "2                            0.0                         0.0   \n",
       "3                            0.0                         0.0   \n",
       "4                            0.0                         0.0   \n",
       "...                          ...                         ...   \n",
       "7995                         0.0                         0.0   \n",
       "7996                         0.0                         0.0   \n",
       "7997                         0.0                         0.0   \n",
       "7998                         0.0                         0.0   \n",
       "7999                         0.0                         0.0   \n",
       "\n",
       "      tcp_segment_data_byte_1456  tcp_segment_data_byte_1457  \\\n",
       "0                            0.0                         0.0   \n",
       "1                            0.0                         0.0   \n",
       "2                            0.0                         0.0   \n",
       "3                            0.0                         0.0   \n",
       "4                            0.0                         0.0   \n",
       "...                          ...                         ...   \n",
       "7995                         0.0                         0.0   \n",
       "7996                         0.0                         0.0   \n",
       "7997                         0.0                         0.0   \n",
       "7998                         0.0                         0.0   \n",
       "7999                         0.0                         0.0   \n",
       "\n",
       "      tcp_segment_data_byte_1458  tcp_segment_data_byte_1459  label_bin  \n",
       "0                            0.0                         0.0          1  \n",
       "1                            0.0                         0.0          1  \n",
       "2                            0.0                         0.0          1  \n",
       "3                            0.0                         0.0          1  \n",
       "4                            0.0                         0.0          0  \n",
       "...                          ...                         ...        ...  \n",
       "7995                         0.0                         0.0          0  \n",
       "7996                         0.0                         0.0          0  \n",
       "7997                         0.0                         0.0          1  \n",
       "7998                         0.0                         0.0          0  \n",
       "7999                         0.0                         0.0          0  \n",
       "\n",
       "[8000 rows x 1526 columns]"
      ]
     },
     "execution_count": 62,
     "metadata": {},
     "output_type": "execute_result"
    }
   ],
   "source": [
    "new_all_20_test.data"
   ]
  },
  {
   "cell_type": "code",
   "execution_count": 63,
   "id": "f75bedb5-6bdf-49eb-9a77-ab80ffe35e76",
   "metadata": {
    "tags": []
   },
   "outputs": [],
   "source": [
    "new_truerandom_20_test_loader = DataLoader(new_truerandom_20_test, batch_size=batch_size, shuffle=True)\n",
    "new_incremental_20_test_loader = DataLoader(new_incremental_20_test, batch_size=batch_size, shuffle=True)\n",
    "new_all_20_test_loader = DataLoader(new_all_20_test, batch_size=batch_size, shuffle=True)"
   ]
  },
  {
   "cell_type": "code",
   "execution_count": 64,
   "id": "7cd7ba2f-1201-40db-9063-2728625d0cc5",
   "metadata": {
    "tags": []
   },
   "outputs": [
    {
     "name": "stdout",
     "output_type": "stream",
     "text": [
      "Test Loss: 0.0180, Test Accuracy: 99.92%\n",
      "Classification Report:\n",
      "              precision    recall  f1-score   support\n",
      "\n",
      "           0       1.00      1.00      1.00      1800\n",
      "           1       1.00      1.00      1.00      1800\n",
      "\n",
      "    accuracy                           1.00      3600\n",
      "   macro avg       1.00      1.00      1.00      3600\n",
      "weighted avg       1.00      1.00      1.00      3600\n",
      "\n"
     ]
    }
   ],
   "source": [
    "# Evaluate the model\n",
    "test_loss, test_accuracy, predictions, true_labels = evaluate(glob_model, new_truerandom_20_test_loader, criterion, device)\n",
    "\n",
    "# Print the training and evaluation metrics\n",
    "print(f'Test Loss: {test_loss:.4f}, Test Accuracy: {test_accuracy:.2f}%')\n",
    "\n",
    "# Generate classification report\n",
    "report = classification_report(true_labels, predictions)\n",
    "print('Classification Report:')\n",
    "print(report)"
   ]
  },
  {
   "cell_type": "code",
   "execution_count": 65,
   "id": "c0c4f20d-b65a-44f1-acb3-8e32465df3e9",
   "metadata": {
    "tags": []
   },
   "outputs": [
    {
     "name": "stdout",
     "output_type": "stream",
     "text": [
      "Test Loss: 0.0218, Test Accuracy: 99.95%\n",
      "Classification Report:\n",
      "              precision    recall  f1-score   support\n",
      "\n",
      "           0       1.00      1.00      1.00      1000\n",
      "           1       1.00      1.00      1.00      1000\n",
      "\n",
      "    accuracy                           1.00      2000\n",
      "   macro avg       1.00      1.00      1.00      2000\n",
      "weighted avg       1.00      1.00      1.00      2000\n",
      "\n"
     ]
    }
   ],
   "source": [
    "# Evaluate the model\n",
    "test_loss, test_accuracy, predictions, true_labels = evaluate(glob_model, new_incremental_20_test_loader, criterion, device)\n",
    "\n",
    "# Print the training and evaluation metrics\n",
    "print(f'Test Loss: {test_loss:.4f}, Test Accuracy: {test_accuracy:.2f}%')\n",
    "\n",
    "# Generate classification report\n",
    "report = classification_report(true_labels, predictions)\n",
    "print('Classification Report:')\n",
    "print(report)"
   ]
  },
  {
   "cell_type": "code",
   "execution_count": 66,
   "id": "a713efe0-4d3e-4f32-a1c0-a4a5d1ad74c6",
   "metadata": {
    "tags": []
   },
   "outputs": [
    {
     "name": "stdout",
     "output_type": "stream",
     "text": [
      "Test Loss: 0.4603, Test Accuracy: 83.45%\n",
      "Classification Report:\n",
      "              precision    recall  f1-score   support\n",
      "\n",
      "           0       0.75      1.00      0.86      4000\n",
      "           1       1.00      0.67      0.80      4000\n",
      "\n",
      "    accuracy                           0.83      8000\n",
      "   macro avg       0.88      0.83      0.83      8000\n",
      "weighted avg       0.88      0.83      0.83      8000\n",
      "\n"
     ]
    }
   ],
   "source": [
    "# Evaluate the model\n",
    "test_loss, test_accuracy, predictions, true_labels = evaluate(glob_model, new_all_20_test_loader, criterion, device)\n",
    "\n",
    "# Print the training and evaluation metrics\n",
    "print(f'Test Loss: {test_loss:.4f}, Test Accuracy: {test_accuracy:.2f}%')\n",
    "\n",
    "# Generate classification report\n",
    "report = classification_report(true_labels, predictions)\n",
    "print('Classification Report:')\n",
    "print(report)"
   ]
  },
  {
   "cell_type": "code",
   "execution_count": null,
   "id": "9b0080e7-ef43-46f4-9842-1f25cd1dc627",
   "metadata": {},
   "outputs": [],
   "source": []
  }
 ],
 "metadata": {
  "kernelspec": {
   "display_name": "Python 3 (ipykernel)",
   "language": "python",
   "name": "python3"
  },
  "language_info": {
   "codemirror_mode": {
    "name": "ipython",
    "version": 3
   },
   "file_extension": ".py",
   "mimetype": "text/x-python",
   "name": "python",
   "nbconvert_exporter": "python",
   "pygments_lexer": "ipython3",
   "version": "3.10.12"
  }
 },
 "nbformat": 4,
 "nbformat_minor": 5
}
