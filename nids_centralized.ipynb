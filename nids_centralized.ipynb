{
 "cells": [
  {
   "cell_type": "code",
   "execution_count": 1,
   "id": "170d5ffd-b433-4903-80ee-225e9a842ba1",
   "metadata": {
    "tags": []
   },
   "outputs": [],
   "source": [
    "import os\n",
    "import torch\n",
    "import numpy as np\n",
    "import pandas as pd\n",
    "import utils\n",
    "import nids_models\n",
    "import pickle\n",
    "from nids_models import DNN\n",
    "from utils import CustomDataset\n",
    "from torch import nn, optim\n",
    "from torch.utils.data import Dataset, DataLoader\n",
    "from sklearn.preprocessing import LabelEncoder\n",
    "from sklearn.model_selection import train_test_split\n",
    "from sklearn.metrics import classification_report\n",
    "\n",
    "import joblib\n",
    "import importlib\n",
    "importlib.reload(utils)\n",
    "importlib.reload(nids_models)\n",
    "\n",
    "# Fix the kernel dead when load/save big file\n",
    "# os.environ['KMP_DUPLICATE_LIB_OK']='True'"
   ]
  },
  {
   "cell_type": "code",
   "execution_count": 3,
   "id": "5b35f14e-1320-4e96-bd10-327719573f88",
   "metadata": {
    "tags": []
   },
   "outputs": [
    {
     "data": {
      "text/plain": [
       "device(type='cuda')"
      ]
     },
     "execution_count": 3,
     "metadata": {},
     "output_type": "execute_result"
    }
   ],
   "source": [
    "# Define the training function\n",
    "def train(model, train_loader, criterion, optimizer, device):\n",
    "    model.train()\n",
    "    train_loss = 0.0\n",
    "    correct = 0\n",
    "    total = 0\n",
    "\n",
    "    for inputs, labels in train_loader:\n",
    "        inputs = inputs.to(device)\n",
    "        labels = labels.to(device)\n",
    "\n",
    "        optimizer.zero_grad()\n",
    "\n",
    "        outputs = model(inputs)\n",
    "        loss = criterion(outputs, labels)\n",
    "        loss.backward()\n",
    "        optimizer.step()\n",
    "\n",
    "        train_loss += loss.item() * inputs.size(0)\n",
    "        _, predicted = outputs.max(1)\n",
    "        total += labels.size(0)\n",
    "        correct += predicted.eq(labels).sum().item()\n",
    "\n",
    "    train_loss = train_loss / len(train_loader.dataset)\n",
    "    accuracy = 100.0 * correct / total\n",
    "\n",
    "    return train_loss, accuracy"
   ]
  },
  {
   "cell_type": "code",
   "execution_count": 4,
   "id": "b80f0c66-c916-491d-b7d2-cac5139f54fa",
   "metadata": {
    "tags": []
   },
   "outputs": [],
   "source": [
    "# Define the evaluation function\n",
    "def evaluate(model, test_loader, criterion, device):\n",
    "    model.eval()\n",
    "    test_loss = 0.0\n",
    "    correct = 0\n",
    "    total = 0\n",
    "    predictions = []\n",
    "    true_labels = []\n",
    "\n",
    "    with torch.no_grad():\n",
    "        for inputs, labels in test_loader:\n",
    "            inputs = inputs.to(device)\n",
    "            labels = labels.to(device)\n",
    "\n",
    "            outputs = model(inputs)\n",
    "            loss = criterion(outputs, labels)\n",
    "\n",
    "            test_loss += loss.item() * inputs.size(0)\n",
    "            _, predicted = outputs.max(1)\n",
    "            total += labels.size(0)\n",
    "            correct += predicted.eq(labels).sum().item()\n",
    "\n",
    "            predictions.extend(predicted.tolist())\n",
    "            true_labels.extend(labels.tolist())\n",
    "\n",
    "    test_loss = test_loss / len(test_loader.dataset)\n",
    "    accuracy = 100.0 * correct / total\n",
    "\n",
    "    return test_loss, accuracy, predictions, true_labels"
   ]
  },
  {
   "cell_type": "code",
   "execution_count": 5,
   "id": "f12a6bd8-2877-4ef0-b46b-20c388ca710f",
   "metadata": {
    "tags": []
   },
   "outputs": [],
   "source": [
    "# Set random seed for reproducibility\n",
    "random_seed = 42\n",
    "torch.manual_seed(random_seed)\n",
    "\n",
    "# Set device\n",
    "device = torch.device('cuda' if torch.cuda.is_available() else 'cpu')\n",
    "device"
   ]
  },
  {
   "cell_type": "code",
   "execution_count": 6,
   "id": "79c7ba7c-ffef-4edf-96fb-edbba62bff93",
   "metadata": {
    "tags": []
   },
   "outputs": [
    {
     "name": "stdout",
     "output_type": "stream",
     "text": [
      "<class 'utils.CustomDataset'>\n"
     ]
    }
   ],
   "source": [
    "# small_df = pd.read_csv(filename, nrows=100)"
   ]
  },
  {
   "cell_type": "code",
   "execution_count": 8,
   "id": "61f04b86-32b9-44f0-8c09-c9337f4a3641",
   "metadata": {
    "tags": []
   },
   "outputs": [
    {
     "data": {
      "text/plain": [
       "129238"
      ]
     },
     "execution_count": 8,
     "metadata": {},
     "output_type": "execute_result"
    }
   ],
   "source": [
    "# Load the custom dataset\n",
    "dataset = CustomDataset('datasets/nids/combined_data.csv')"
   ]
  },
  {
   "cell_type": "code",
   "execution_count": 8,
   "id": "aca255df-d285-4e6a-ae3a-4d03743c3835",
   "metadata": {
    "tags": []
   },
   "outputs": [],
   "source": [
    "# test_loader = torch.utils.data.DataLoader(test_data, batch_size=batch_size, shuffle=True, num_workers=4, persistent_workers=True, pin_memory=True)"
   ]
  },
  {
   "cell_type": "code",
   "execution_count": null,
   "id": "73b2a5f2-1698-48bc-b846-2f1851a7eb19",
   "metadata": {
    "tags": []
   },
   "outputs": [],
   "source": [
    "# Split the dataset into train and test sets\n",
    "train_size = 0.8\n",
    "train_dataset, test_dataset = train_test_split(dataset, train_size=train_size, random_state=random_seed)\n",
    "\n",
    "# Define the DataLoader for train and test sets\n",
    "batch_size = 32\n",
    "train_loader = DataLoader(train_dataset, batch_size=batch_size, shuffle=True)\n",
    "test_loader = DataLoader(test_dataset, batch_size=batch_size, shuffle=True)"
   ]
  },
  {
   "cell_type": "code",
   "execution_count": 10,
   "id": "8e625b7c-5fe2-4f49-b154-94de0dc48657",
   "metadata": {
    "tags": []
   },
   "outputs": [],
   "source": [
    "# Define model parameters\n",
    "input_size = 1525  # Number of features in the dataset\n",
    "hidden_size = 256\n",
    "# num_classes = 4\n",
    "num_classes = 2"
   ]
  },
  {
   "cell_type": "code",
   "execution_count": 11,
   "id": "c5d4be02-e643-4114-a675-3cb5ad9a9d08",
   "metadata": {
    "tags": []
   },
   "outputs": [
    {
     "data": {
      "text/plain": [
       "'./output_nids/dnn_fedprox/nids'"
      ]
     },
     "execution_count": 11,
     "metadata": {},
     "output_type": "execute_result"
    }
   ],
   "source": [
    "save_dir"
   ]
  },
  {
   "cell_type": "code",
   "execution_count": 12,
   "id": "83c15b0b-2dac-4e61-b82d-d4691ac5ed04",
   "metadata": {
    "tags": []
   },
   "outputs": [],
   "source": [
    "# Create the DNN model\n",
    "model = DNN(input_size, hidden_size, num_classes).to(device)\n",
    "\n",
    "# Define the loss function and optimizer\n",
    "criterion = nn.CrossEntropyLoss()\n",
    "optimizer = optim.Adam(model.parameters(), lr=0.001)\n",
    "\n",
    "# Training loop\n",
    "num_epochs = 10\n",
    "\n",
    "\n",
    "# Move the model to the device\n",
    "# device = torch.device('cuda' if torch.cuda.is_available() else 'cpu')\n",
    "model = model.to(device)"
   ]
  },
  {
   "cell_type": "code",
   "execution_count": null,
   "id": "111d8c3a-f8ca-41ea-8025-1841346cd9a3",
   "metadata": {
    "tags": []
   },
   "outputs": [],
   "source": [
    "for epoch in range(num_epochs):\n",
    "    # Train the model\n",
    "    train_loss, train_accuracy = train(model, train_loader, criterion, optimizer, device)\n",
    "    \n",
    "    # Evaluate the model\n",
    "    test_loss, test_accuracy, predictions, true_labels = evaluate(model, test_loader, criterion, device)\n",
    "    \n",
    "    # Print the training and evaluation metrics\n",
    "    print(f'Epoch [{epoch+1}/{num_epochs}], Train Loss: {train_loss:.4f}, Train Accuracy: {train_accuracy:.2f}%, Test Loss: {test_loss:.4f}, Test Accuracy: {test_accuracy:.2f}%')\n",
    "    \n",
    "    # Generate classification report\n",
    "    report = classification_report(true_labels, predictions)\n",
    "    print('Classification Report:')\n",
    "    print(report)"
   ]
  },
  {
   "cell_type": "markdown",
   "id": "33873c50-b0df-4153-a57b-673a3a457cfa",
   "metadata": {},
   "source": [
    "### Evaluate the global model all attacks type among clients"
   ]
  },
  {
   "cell_type": "code",
   "execution_count": 21,
   "id": "ffb4916e-a5c2-47c1-810a-1a0a4fa4566d",
   "metadata": {
    "tags": []
   },
   "outputs": [],
   "source": [
    "# Define the evaluation function\n",
    "criterion = nn.CrossEntropyLoss()\n",
    "\n",
    "def evaluate(model, test_loader, criterion, device):\n",
    "    model.eval()\n",
    "    test_loss = 0.0\n",
    "    correct = 0\n",
    "    total = 0\n",
    "    predictions = []\n",
    "    true_labels = []\n",
    "\n",
    "    with torch.no_grad():\n",
    "        for inputs, labels in test_loader:\n",
    "            inputs = inputs.to(device)\n",
    "            labels = labels.to(device)\n",
    "\n",
    "            outputs = model(inputs)\n",
    "            loss = criterion(outputs, labels)\n",
    "\n",
    "            test_loss += loss.item() * inputs.size(0)\n",
    "            _, predicted = outputs.max(1)\n",
    "            total += labels.size(0)\n",
    "            correct += predicted.eq(labels).sum().item()\n",
    "\n",
    "            predictions.extend(predicted.tolist())\n",
    "            true_labels.extend(labels.tolist())\n",
    "\n",
    "    test_loss = test_loss / len(test_loader.dataset)\n",
    "    accuracy = 100.0 * correct / total\n",
    "\n",
    "    return test_loss, accuracy, predictions, true_labels"
   ]
  },
  {
   "cell_type": "code",
   "execution_count": 22,
   "id": "b28a49b5-e187-4f3e-9ef6-ea69b4f038dd",
   "metadata": {
    "tags": []
   },
   "outputs": [],
   "source": [
    "silo0_sub = CustomDataset('client_data/nids/0/0_test_new.csv')\n",
    "silo1_sub = CustomDataset('client_data/nids/1/1_test_new.csv')\n",
    "silo2_sub = CustomDataset('client_data/nids/2/2_test_new.csv')\n",
    "silo3_sub = CustomDataset('client_data/nids/3/3_test_new.csv')"
   ]
  },
  {
   "cell_type": "code",
   "execution_count": 23,
   "id": "87dc912c-199f-43a6-a442-23c2578892a2",
   "metadata": {
    "tags": []
   },
   "outputs": [
    {
     "data": {
      "text/plain": [
       "35077"
      ]
     },
     "execution_count": 23,
     "metadata": {},
     "output_type": "execute_result"
    }
   ],
   "source": [
    "len(silo0_sub)"
   ]
  },
  {
   "cell_type": "code",
   "execution_count": 24,
   "id": "fd422bcf-37d0-4053-87a9-350de1a19e3e",
   "metadata": {
    "tags": []
   },
   "outputs": [],
   "source": [
    "test_silo0_sub = DataLoader(silo0_sub, batch_size=batch_size, shuffle=True)\n",
    "test_silo1_sub = DataLoader(silo1_sub, batch_size=batch_size, shuffle=True)\n",
    "test_silo2_sub = DataLoader(silo2_sub, batch_size=batch_size, shuffle=True)\n",
    "test_silo3_sub = DataLoader(silo3_sub, batch_size=batch_size, shuffle=True)"
   ]
  },
  {
   "cell_type": "code",
   "execution_count": 25,
   "id": "c74c19dd-e94c-47b4-a521-c9d392a84024",
   "metadata": {
    "tags": []
   },
   "outputs": [
    {
     "data": {
      "text/plain": [
       "1097"
      ]
     },
     "execution_count": 25,
     "metadata": {},
     "output_type": "execute_result"
    }
   ],
   "source": [
    "len(test_silo0_sub)"
   ]
  },
  {
   "cell_type": "code",
   "execution_count": 26,
   "id": "cbade5e9-c4ba-4fbb-ac2b-8c40eba2ab7d",
   "metadata": {
    "tags": []
   },
   "outputs": [
    {
     "name": "stdout",
     "output_type": "stream",
     "text": [
      "Test Loss: 0.0474, Test Accuracy: 98.26%\n",
      "Classification Report:\n",
      "              precision    recall  f1-score   support\n",
      "\n",
      "           0       0.97      0.99      0.98     13566\n",
      "           1       0.99      0.98      0.99     21511\n",
      "\n",
      "    accuracy                           0.98     35077\n",
      "   macro avg       0.98      0.98      0.98     35077\n",
      "weighted avg       0.98      0.98      0.98     35077\n",
      "\n"
     ]
    }
   ],
   "source": [
    "# Evaluate the model\n",
    "test_loss, test_accuracy, predictions, true_labels = evaluate(glob_model, test_silo0_sub, criterion, device)\n",
    "\n",
    "# Print the training and evaluation metrics\n",
    "print(f'Test Loss: {test_loss:.4f}, Test Accuracy: {test_accuracy:.2f}%')\n",
    "\n",
    "# Generate classification report\n",
    "report = classification_report(true_labels, predictions)\n",
    "print('Classification Report:')\n",
    "print(report)"
   ]
  },
  {
   "cell_type": "code",
   "execution_count": 27,
   "id": "e399f7bc-555c-4715-84bb-0c4b2dd7eeac",
   "metadata": {
    "tags": []
   },
   "outputs": [
    {
     "name": "stdout",
     "output_type": "stream",
     "text": [
      "Test Loss: 0.0264, Test Accuracy: 99.33%\n",
      "Classification Report:\n",
      "              precision    recall  f1-score   support\n",
      "\n",
      "           0       1.00      0.99      0.99     13464\n",
      "           1       0.99      1.00      0.99     18283\n",
      "\n",
      "    accuracy                           0.99     31747\n",
      "   macro avg       0.99      0.99      0.99     31747\n",
      "weighted avg       0.99      0.99      0.99     31747\n",
      "\n"
     ]
    }
   ],
   "source": [
    "# Evaluate the model\n",
    "test_loss, test_accuracy, predictions, true_labels = evaluate(glob_model, test_silo1_sub, criterion, device)\n",
    "\n",
    "# Print the training and evaluation metrics\n",
    "print(f'Test Loss: {test_loss:.4f}, Test Accuracy: {test_accuracy:.2f}%')\n",
    "\n",
    "# Generate classification report\n",
    "report = classification_report(true_labels, predictions)\n",
    "print('Classification Report:')\n",
    "print(report)"
   ]
  },
  {
   "cell_type": "code",
   "execution_count": 28,
   "id": "21de8d51-1681-4b31-bc20-d2f751d44bae",
   "metadata": {
    "tags": []
   },
   "outputs": [
    {
     "name": "stdout",
     "output_type": "stream",
     "text": [
      "Test Loss: 0.1962, Test Accuracy: 94.36%\n",
      "Classification Report:\n",
      "              precision    recall  f1-score   support\n",
      "\n",
      "           0       0.91      0.99      0.95     13687\n",
      "           1       0.99      0.90      0.94     13650\n",
      "\n",
      "    accuracy                           0.94     27337\n",
      "   macro avg       0.95      0.94      0.94     27337\n",
      "weighted avg       0.95      0.94      0.94     27337\n",
      "\n"
     ]
    }
   ],
   "source": [
    "# Evaluate the model\n",
    "test_loss, test_accuracy, predictions, true_labels = evaluate(glob_model, test_silo2_sub, criterion, device)\n",
    "\n",
    "# Print the training and evaluation metrics\n",
    "print(f'Test Loss: {test_loss:.4f}, Test Accuracy: {test_accuracy:.2f}%')\n",
    "\n",
    "# Generate classification report\n",
    "report = classification_report(true_labels, predictions)\n",
    "print('Classification Report:')\n",
    "print(report)"
   ]
  },
  {
   "cell_type": "code",
   "execution_count": 29,
   "id": "8808fb6d-dedf-439c-8276-3408751cf61d",
   "metadata": {
    "tags": []
   },
   "outputs": [
    {
     "name": "stdout",
     "output_type": "stream",
     "text": [
      "Test Loss: 0.2022, Test Accuracy: 94.22%\n",
      "Classification Report:\n",
      "              precision    recall  f1-score   support\n",
      "\n",
      "           0       0.90      0.99      0.94     13591\n",
      "           1       0.99      0.90      0.94     13746\n",
      "\n",
      "    accuracy                           0.94     27337\n",
      "   macro avg       0.95      0.94      0.94     27337\n",
      "weighted avg       0.95      0.94      0.94     27337\n",
      "\n"
     ]
    }
   ],
   "source": [
    "# Evaluate the model\n",
    "test_loss, test_accuracy, predictions, true_labels = evaluate(glob_model, test_silo3_sub, criterion, device)\n",
    "\n",
    "# Print the training and evaluation metrics\n",
    "print(f'Test Loss: {test_loss:.4f}, Test Accuracy: {test_accuracy:.2f}%')\n",
    "\n",
    "# Generate classification report\n",
    "report = classification_report(true_labels, predictions)\n",
    "print('Classification Report:')\n",
    "print(report)"
   ]
  },
  {
   "cell_type": "code",
   "execution_count": null,
   "id": "0d989d61-a7f3-4963-b67a-c51b33fdfdee",
   "metadata": {},
   "outputs": [],
   "source": []
  }
 ],
 "metadata": {
  "kernelspec": {
   "display_name": "Python 3 (ipykernel)",
   "language": "python",
   "name": "python3"
  },
  "language_info": {
   "codemirror_mode": {
    "name": "ipython",
    "version": 3
   },
   "file_extension": ".py",
   "mimetype": "text/x-python",
   "name": "python",
   "nbconvert_exporter": "python",
   "pygments_lexer": "ipython3",
   "version": "3.10.12"
  }
 },
 "nbformat": 4,
 "nbformat_minor": 5
}
