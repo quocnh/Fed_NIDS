{
 "cells": [
  {
   "cell_type": "code",
   "execution_count": 1,
   "id": "170d5ffd-b433-4903-80ee-225e9a842ba1",
   "metadata": {
    "tags": []
   },
   "outputs": [],
   "source": [
    "# define GPU\n",
    "import os\n",
    "import logging\n",
    "import sys\n",
    "sys.path.insert(1, os.path.join(sys.path[0], '../'))\n",
    "\n",
    "os.environ['CUDA_DEVICE_ORDER'] = 'PCI_BUS_ID'\n",
    "os.environ['CUDA_VISIBLE_DEVICES'] = '0'\n"
   ]
  },
  {
   "cell_type": "code",
   "execution_count": 2,
   "id": "d3247d9c-4eb6-40ae-97b4-485b8fb1f502",
   "metadata": {
    "tags": []
   },
   "outputs": [
    {
     "data": {
      "text/plain": [
       "<module 'nids_federated_learning' from '/home/mark/Mark/FL_NIDS/federated_nids/nids_federated_learning.py'>"
      ]
     },
     "execution_count": 2,
     "metadata": {},
     "output_type": "execute_result"
    }
   ],
   "source": [
    "from tqdm import tqdm\n",
    "import copy\n",
    "import pickle\n",
    "import numpy as np\n",
    "import torch\n",
    "import torchvision\n",
    "import utils\n",
    "import nids_models\n",
    "import nids_federated_learning as fl\n",
    "import nids_training \n",
    "from torch import nn\n",
    "from nids_models import DNN\n",
    "from utils import CustomDataset\n",
    "from nids_training import evaluate_model\n",
    "from torch.utils.data import Dataset, DataLoader\n",
    "from sklearn.metrics import classification_report\n",
    "import importlib\n",
    "importlib.reload(utils)\n",
    "importlib.reload(nids_models)\n",
    "importlib.reload(fl)\n"
   ]
  },
  {
   "cell_type": "code",
   "execution_count": 3,
   "id": "5b35f14e-1320-4e96-bd10-327719573f88",
   "metadata": {
    "tags": []
   },
   "outputs": [
    {
     "data": {
      "text/plain": [
       "device(type='cuda')"
      ]
     },
     "execution_count": 3,
     "metadata": {},
     "output_type": "execute_result"
    }
   ],
   "source": [
    "device = torch.device('cuda' if torch.cuda.is_available() else 'cpu')\n",
    "device"
   ]
  },
  {
   "cell_type": "code",
   "execution_count": 4,
   "id": "b80f0c66-c916-491d-b7d2-cac5139f54fa",
   "metadata": {
    "tags": []
   },
   "outputs": [],
   "source": [
    "# Define dataset and settings.\n",
    "dataset_name = 'nids'\n",
    "\n",
    "# Define distribution settings.\n",
    "num_clients = 4\n",
    "# beta = 0.1 # [0.1, 0.5, 5]\n",
    "\n",
    "client_data_dir = os.path.join('./client_data/', dataset_name)\n",
    "save_dir = os.path.join('./output_nids/dnn_fedprox', dataset_name)\n",
    "os.makedirs(save_dir, exist_ok=True)\n",
    "os.makedirs(client_data_dir, exist_ok=True)"
   ]
  },
  {
   "cell_type": "code",
   "execution_count": 5,
   "id": "f12a6bd8-2877-4ef0-b46b-20c388ca710f",
   "metadata": {
    "tags": []
   },
   "outputs": [],
   "source": [
    "### Data config.\n",
    "batch_size = 32\n",
    "\n",
    "# Training config.\n",
    "lr = 0.0002\n",
    "num_rounds = 10 #2000 rounds\n",
    "num_local_epochs = 5\n",
    "save_interval = 1"
   ]
  },
  {
   "cell_type": "code",
   "execution_count": 6,
   "id": "79c7ba7c-ffef-4edf-96fb-edbba62bff93",
   "metadata": {
    "tags": []
   },
   "outputs": [
    {
     "name": "stdout",
     "output_type": "stream",
     "text": [
      "<class 'utils.CustomDataset'>\n"
     ]
    }
   ],
   "source": [
    "# This testing data includes all attack types from clients, created from centralized one.\n",
    "data_dir = os.path.join('./datasets/', dataset_name)\n",
    "test_dir = os.path.join(data_dir, 'test/')\n",
    "\n",
    "# # Open the pickle file in read mode\n",
    "# with open(test_dir + 'test.pkl', 'rb') as file:\n",
    "#     # Load the co\"ntents of the pickle file\n",
    "#     test_data = pickle.load(file)\n",
    "    \n",
    "# test_data = np.load(test_dir + 'test.npy', allow_pickle=True)\n",
    "test_data = torch.load(test_dir + 'test_central_new.pkl')\n",
    "print(type(test_data))"
   ]
  },
  {
   "cell_type": "code",
   "execution_count": 7,
   "id": "61f04b86-32b9-44f0-8c09-c9337f4a3641",
   "metadata": {
    "tags": []
   },
   "outputs": [
    {
     "data": {
      "text/plain": [
       "129238"
      ]
     },
     "execution_count": 7,
     "metadata": {},
     "output_type": "execute_result"
    }
   ],
   "source": [
    "len(test_data)"
   ]
  },
  {
   "cell_type": "code",
   "execution_count": 8,
   "id": "2da6daa3-ccca-48fa-80ca-f047ed4b376e",
   "metadata": {
    "tags": []
   },
   "outputs": [
    {
     "data": {
      "text/plain": [
       "<utils.CustomDataset at 0x7f1d6860a2c0>"
      ]
     },
     "execution_count": 8,
     "metadata": {},
     "output_type": "execute_result"
    }
   ],
   "source": [
    "test_data"
   ]
  },
  {
   "cell_type": "code",
   "execution_count": 9,
   "id": "d927a46c-a485-4f6b-b426-57583eb31843",
   "metadata": {
    "tags": []
   },
   "outputs": [],
   "source": [
    "test_loader = test_data"
   ]
  },
  {
   "cell_type": "code",
   "execution_count": 10,
   "id": "aca255df-d285-4e6a-ae3a-4d03743c3835",
   "metadata": {
    "tags": []
   },
   "outputs": [],
   "source": [
    "# test_loader = torch.utils.data.DataLoader(test_data, batch_size=batch_size, shuffle=True, num_workers=4, persistent_workers=True, pin_memory=True)"
   ]
  },
  {
   "cell_type": "code",
   "execution_count": 11,
   "id": "73b2a5f2-1698-48bc-b846-2f1851a7eb19",
   "metadata": {
    "tags": []
   },
   "outputs": [
    {
     "name": "stdout",
     "output_type": "stream",
     "text": [
      "./client_data/nids/0/0_train_new.csv\n",
      "./client_data/nids/1/1_train_new.csv\n",
      "./client_data/nids/2/2_train_new.csv\n",
      "./client_data/nids/3/3_train_new.csv\n"
     ]
    }
   ],
   "source": [
    "# Load client data.\n",
    "client_loaders = []\n",
    "for client_idx in range(num_clients):\n",
    "    data_dir = os.path.join(client_data_dir, str(client_idx) + '/{}_train_new.csv'.format(str(client_idx)))\n",
    "    # data_dir = os.path.join(client_data_dir, str(client_idx) + '/{}_sub.csv'.format(str(client_idx)))\n",
    "    # os.makedirs(data_dir, exist_ok=True)\n",
    "    print(data_dir)\n",
    "    dataset = CustomDataset(data_dir)\n",
    "    data_loader = torch.utils.data.DataLoader(dataset, batch_size=batch_size, shuffle=True, num_workers=4, persistent_workers=True, pin_memory=True)\n",
    "    client_loaders.append(data_loader)"
   ]
  },
  {
   "cell_type": "code",
   "execution_count": 12,
   "id": "8e625b7c-5fe2-4f49-b154-94de0dc48657",
   "metadata": {
    "tags": []
   },
   "outputs": [],
   "source": [
    "# Global model.\n",
    "input_size = 1525  # Number of features in the dataset\n",
    "# hidden_size = 256\n",
    "num_classes = 2\n",
    "\n",
    "glob_model = DNN(input_size, [1028, 512, 256, 64, 32], num_classes).to(device)\n",
    "\n",
    "# For logging model performance.\n",
    "performance_dict, performance_log = dict(), dict()\n",
    "metric_keys = ['g_train_loss', 'g_test_loss']\n",
    "for metric in metric_keys:\n",
    "    performance_dict[metric] = utils.MeanMetric()\n",
    "    performance_log[metric] = list()\n",
    "\n",
    "performance_dict, performance_log = utils.get_performance_loggers(metric_keys)"
   ]
  },
  {
   "cell_type": "code",
   "execution_count": 13,
   "id": "c5d4be02-e643-4114-a675-3cb5ad9a9d08",
   "metadata": {
    "tags": []
   },
   "outputs": [
    {
     "data": {
      "text/plain": [
       "'./output_nids/dnn_fedprox/nids'"
      ]
     },
     "execution_count": 13,
     "metadata": {},
     "output_type": "execute_result"
    }
   ],
   "source": [
    "save_dir"
   ]
  },
  {
   "cell_type": "code",
   "execution_count": 14,
   "id": "83c15b0b-2dac-4e61-b82d-d4691ac5ed04",
   "metadata": {
    "tags": []
   },
   "outputs": [],
   "source": [
    "# Automatic resuming from checkpoint.\n",
    "log_path = os.path.join(save_dir, 'performance_log.pickle')\n",
    "if os.path.isfile(log_path):\n",
    "    performance_log = utils.load_pickle(log_path)\n",
    "start_round = len(performance_log[metric_keys[0]])\n",
    "\n",
    "if start_round > 0:\n",
    "    glob_model.load_state_dict(torch.load(os.path.join(save_dir, 'g_r_{}.pth'.format(start_round))))"
   ]
  },
  {
   "cell_type": "code",
   "execution_count": 15,
   "id": "b99cd940-9d43-4418-b736-8273660c20b9",
   "metadata": {
    "tags": []
   },
   "outputs": [],
   "source": [
    "lambda_ = 0.1"
   ]
  },
  {
   "cell_type": "code",
   "execution_count": 16,
   "id": "111d8c3a-f8ca-41ea-8025-1841346cd9a3",
   "metadata": {
    "tags": []
   },
   "outputs": [],
   "source": [
    "glob_w = glob_model.state_dict()\n",
    "\n",
    "optim_args = {'lr': lr}\n",
    "loss_function = nn.CrossEntropyLoss()\n",
    "\n",
    "for round_no in range(start_round, num_rounds):\n",
    "    utils.print_separator(text='Round: {} / {}'.format(round_no + 1, num_rounds))\n",
    "                \n",
    "    # Local training.\n",
    "    glob_model.train()\n",
    "    client_updates = dict()\n",
    "    for client_idx in range(num_clients):  \n",
    "        print('client:', client_idx)\n",
    "        client_loader = client_loaders[client_idx] # update new samples\n",
    "        \n",
    "        # Local training.\n",
    "        client_update = fl.local_update_fedprox(glob_model, client_loader, test_loader, num_local_epochs, optim_args, lambda_)\n",
    "        \n",
    "        # For weighted averaging.\n",
    "        client_updates.setdefault('local_w', list()).append(client_update['local_w'])\n",
    "        client_updates.setdefault('num_samples', list()).append(client_update['num_samples'])\n",
    "        \n",
    "        # Logging client performance.\n",
    "        performance_log.setdefault('c_{}_train_loss'.format(client_idx), list()).append(client_update['train_loss'])\n",
    "        performance_log.setdefault('c_{}_test_loss'.format(client_idx), list()).append(client_update['test_loss'])\n",
    "            \n",
    "    # Model aggregation.\n",
    "    glob_w = fl.weighted_averaging(client_updates['local_w'], client_updates['num_samples'])\n",
    "    glob_model.load_state_dict(glob_w)\n",
    "    \n",
    "    # Evaluate global model on local datasets.\n",
    "    for client_idx in range(num_clients):\n",
    "        g_train_loss = evaluate_model(glob_model, client_loader, loss_function, tqdm_desc='g_train_loss')\n",
    "        performance_dict['g_train_loss'].update_state(g_train_loss)\n",
    "        \n",
    "    # Average local performace of global model.\n",
    "    performance_log['g_train_loss'].append(performance_dict['g_train_loss'].result())\n",
    "    performance_dict['g_train_loss'].reset_state()\n",
    "    \n",
    "    # Evaluate global model on global testset.\n",
    "    g_test_loss = evaluate_model(glob_model, test_loader, loss_function, tqdm_desc='g_test_loss')\n",
    "    performance_log['g_test_loss'].append(g_test_loss)\n",
    "    \n",
    "#     for key in sorted(performance_log.keys()):\n",
    "#         print(key, ': ',  performance_log[key][-1])\n",
    "    \n",
    "    for key in sorted(metric_keys):\n",
    "        print(key, ': ',  performance_log[key][-1])\n",
    "    \n",
    "    # Save global model.\n",
    "    if (round_no + 1) % save_interval == 0:\n",
    "        torch.save(glob_model.state_dict(), os.path.join(save_dir, 'g_r_{}.pth'.format(round_no + 1)))\n",
    "        utils.save_pickle(log_path, performance_log)\n",
    "\n",
    "    # Save client models only in the last round. To save space.\n",
    "    if round_no + 1 == num_rounds:\n",
    "        for client_idx in range(num_clients):\n",
    "            local_state_dict = client_updates['local_w'][client_idx]\n",
    "            torch.save(local_state_dict, os.path.join(save_dir, 'c_{}_r_{}.pth'.format(client_idx, round_no + 1)))"
   ]
  },
  {
   "cell_type": "code",
   "execution_count": 17,
   "id": "9d171805-152b-4940-ba7c-672bd19d1687",
   "metadata": {
    "tags": []
   },
   "outputs": [
    {
     "data": {
      "text/plain": [
       "'./output_nids/dnn_fedprox/nids/performance_log.pickle'"
      ]
     },
     "execution_count": 17,
     "metadata": {},
     "output_type": "execute_result"
    }
   ],
   "source": [
    "log_path"
   ]
  },
  {
   "cell_type": "code",
   "execution_count": 18,
   "id": "94605e93-9950-4374-a2d3-94b7cbc7bd7d",
   "metadata": {
    "tags": []
   },
   "outputs": [
    {
     "data": {
      "text/plain": [
       "{'g_train_loss': [0.6313524968403911,\n",
       "  0.15968831796432711,\n",
       "  0.11849335522848599,\n",
       "  0.10671208697618617,\n",
       "  0.09117421254015473,\n",
       "  0.07956930686419186,\n",
       "  0.06196517975583562,\n",
       "  0.054962910164600004,\n",
       "  0.05126026547205939,\n",
       "  0.04681936834193872],\n",
       " 'g_test_loss': [0.6349036058223034,\n",
       "  0.15930970740285652,\n",
       "  0.12556961291358582,\n",
       "  0.12118795265856265,\n",
       "  0.10826111228777892,\n",
       "  0.10164590580630627,\n",
       "  0.1057473689461823,\n",
       "  0.0913705352158257,\n",
       "  0.08268821270331575,\n",
       "  0.07403483511263914],\n",
       " 'c_0_train_loss': [0.6668981268849041,\n",
       "  0.12914601682920004,\n",
       "  0.07929697581296075,\n",
       "  0.05745272907606849,\n",
       "  0.06216319670131857,\n",
       "  0.0472307607015444,\n",
       "  0.04405908340080073,\n",
       "  0.04299378954059951,\n",
       "  0.036976477924570816,\n",
       "  0.03551715350791625],\n",
       " 'c_0_test_loss': [0.680687101467369,\n",
       "  0.16671049525599974,\n",
       "  0.13129353214554765,\n",
       "  0.18110754780325725,\n",
       "  0.1268408439991093,\n",
       "  0.2114798548032693,\n",
       "  0.20588099898245213,\n",
       "  0.11331499826455069,\n",
       "  0.1217705495106996,\n",
       "  0.09764212009924132],\n",
       " 'c_1_train_loss': [0.1142124634092492,\n",
       "  0.06971445419907975,\n",
       "  0.03824958809280454,\n",
       "  0.048915393242740836,\n",
       "  0.035958500539490464,\n",
       "  0.027843369598524834,\n",
       "  0.027604068796587184,\n",
       "  0.01550977585322366,\n",
       "  0.014134543881616439,\n",
       "  0.01175455877998068],\n",
       " 'c_1_test_loss': [0.29875394994820814,\n",
       "  0.21694120054880753,\n",
       "  0.1999829179897648,\n",
       "  0.2340665475444862,\n",
       "  0.22340764577168315,\n",
       "  0.23060894643534874,\n",
       "  0.2638521703612191,\n",
       "  0.27106967764165135,\n",
       "  0.2774721878092173,\n",
       "  0.2902673113418987],\n",
       " 'c_2_train_loss': [0.20272169843961302,\n",
       "  0.15593627328570822,\n",
       "  0.12294997695115198,\n",
       "  0.09910381200868852,\n",
       "  0.09188925209517862,\n",
       "  0.11454917679962061,\n",
       "  0.05988526361015712,\n",
       "  0.05053408359031091,\n",
       "  0.05582917394952205,\n",
       "  0.05126638503440979],\n",
       " 'c_2_test_loss': [0.24008664176928565,\n",
       "  0.1744377522581472,\n",
       "  0.12643931457738933,\n",
       "  0.10828649117367736,\n",
       "  0.10470578248417182,\n",
       "  0.12650879731688064,\n",
       "  0.08795025599545742,\n",
       "  0.09406537056726566,\n",
       "  0.09716070562999467,\n",
       "  0.09143470345404249],\n",
       " 'c_3_train_loss': [0.6671752439937135,\n",
       "  0.19524333225042817,\n",
       "  0.14261454658257852,\n",
       "  0.09926673709186581,\n",
       "  0.06144618376942953,\n",
       "  0.04909815654724607,\n",
       "  0.05578812078037591,\n",
       "  0.0383315716781457,\n",
       "  0.03609137920534797,\n",
       "  0.0332352142866771],\n",
       " 'c_3_test_loss': [0.6811385421835374,\n",
       "  0.367034414391516,\n",
       "  0.3439852897148347,\n",
       "  0.265631543240274,\n",
       "  0.15558529498181312,\n",
       "  0.1377338978369146,\n",
       "  0.3762702959889297,\n",
       "  0.13552984361085912,\n",
       "  0.11226594842931653,\n",
       "  0.10696597194893931]}"
      ]
     },
     "execution_count": 18,
     "metadata": {},
     "output_type": "execute_result"
    }
   ],
   "source": [
    "performance_log"
   ]
  },
  {
   "cell_type": "code",
   "execution_count": 19,
   "id": "02d49395-6d93-4796-9f74-90756c057b66",
   "metadata": {},
   "outputs": [],
   "source": [
    "utils.save_pickle(log_path, performance_log)"
   ]
  },
  {
   "cell_type": "code",
   "execution_count": 20,
   "id": "cc277ddb-8031-40ce-95c9-4468a1fbc5b7",
   "metadata": {
    "tags": []
   },
   "outputs": [
    {
     "data": {
      "image/png": "[encoded data removed]",
      "text/plain": [
       "<Figure size 576x432 with 1 Axes>"
      ]
     },
     "metadata": {
      "needs_background": "light"
     },
     "output_type": "display_data"
    },
    {
     "data": {
      "image/png": "[encoded data removed]",
      "text/plain": [
       "<Figure size 576x432 with 1 Axes>"
      ]
     },
     "metadata": {
      "needs_background": "light"
     },
     "output_type": "display_data"
    }
   ],
   "source": [
    "# Plot training history.\n",
    "performance_log = utils.load_pickle(log_path)\n",
    "\n",
    "loss_plot_config = utils.LOSS_PLOT_CONFIG.copy()\n",
    "loss_plot_config['save_dir'] = os.path.join(save_dir, 'test_loss.png')\n",
    "loss_plot_config['show_img'] = True\n",
    "loss_plot_config['xlabel'] = 'rounds'\n",
    "loss_plot_config['labels'] = ['g_test_loss'] + ['c_{}_test_loss'.format(client_idx) for client_idx in range(num_clients)]\n",
    "loss_plot_config['attributes'] = ['g_test_loss'] + ['c_{}_test_loss'.format(client_idx) for client_idx in range(num_clients)]\n",
    "utils.save_history_plot(performance_log, loss_plot_config)\n",
    "\n",
    "loss_plot_config = utils.LOSS_PLOT_CONFIG.copy()\n",
    "loss_plot_config['save_dir'] = os.path.join(save_dir, 'train_loss.png')\n",
    "loss_plot_config['show_img'] = True\n",
    "loss_plot_config['xlabel'] = 'rounds'\n",
    "loss_plot_config['labels'] = ['g_train_loss'] + ['c_{}_train_loss'.format(client_idx) for client_idx in range(num_clients)]\n",
    "loss_plot_config['attributes'] = ['g_train_loss'] + ['c_{}_train_loss'.format(client_idx) for client_idx in range(num_clients)]\n",
    "utils.save_history_plot(performance_log, loss_plot_config)"
   ]
  },
  {
   "cell_type": "markdown",
   "id": "0d03354e-8f05-40a4-b069-ad0d184a232b",
   "metadata": {},
   "source": [
    "1. \"test_loader\" is used to evaluate the performance of the global model on the global test set, which includes data from all clients and attack types. This allows the evaluation of the global model's ability to generalize to different attack types present in the test set.\n",
    "\n",
    "2. \"g_train_loss\" represents the average training loss of the global model on the global training data (this one has not explained yet??),\n",
    "while \"c_{}_train_loss\" represents the training loss of each client model on their local training data.\n",
    "\n",
    "3. \"g_test_loss\" represents the test loss of the global model on the global test set, while \"c_{}_test_loss \"represents the test loss of each client model on their local test sets"
   ]
  },
  {
   "cell_type": "code",
   "execution_count": null,
   "id": "81096ca5-b6f6-4722-9197-a65da8f8c6b8",
   "metadata": {},
   "outputs": [],
   "source": []
  },
  {
   "cell_type": "code",
   "execution_count": null,
   "id": "2ffdcd7d-07a8-46ed-988d-a9f7c76d382a",
   "metadata": {},
   "outputs": [],
   "source": [
    "glob_model"
   ]
  },
  {
   "cell_type": "code",
   "execution_count": null,
   "id": "8ba550d9-8414-4a31-b2ce-681d7a49017c",
   "metadata": {
    "tags": []
   },
   "outputs": [],
   "source": [
    "glob_model.state_dict()"
   ]
  },
  {
   "cell_type": "markdown",
   "id": "33873c50-b0df-4153-a57b-673a3a457cfa",
   "metadata": {},
   "source": [
    "### Evaluate the global model all attacks type among clients"
   ]
  },
  {
   "cell_type": "code",
   "execution_count": 21,
   "id": "ffb4916e-a5c2-47c1-810a-1a0a4fa4566d",
   "metadata": {
    "tags": []
   },
   "outputs": [],
   "source": [
    "# Define the evaluation function\n",
    "criterion = nn.CrossEntropyLoss()\n",
    "\n",
    "def evaluate(model, test_loader, criterion, device):\n",
    "    model.eval()\n",
    "    test_loss = 0.0\n",
    "    correct = 0\n",
    "    total = 0\n",
    "    predictions = []\n",
    "    true_labels = []\n",
    "\n",
    "    with torch.no_grad():\n",
    "        for inputs, labels in test_loader:\n",
    "            inputs = inputs.to(device)\n",
    "            labels = labels.to(device)\n",
    "\n",
    "            outputs = model(inputs)\n",
    "            loss = criterion(outputs, labels)\n",
    "\n",
    "            test_loss += loss.item() * inputs.size(0)\n",
    "            _, predicted = outputs.max(1)\n",
    "            total += labels.size(0)\n",
    "            correct += predicted.eq(labels).sum().item()\n",
    "\n",
    "            predictions.extend(predicted.tolist())\n",
    "            true_labels.extend(labels.tolist())\n",
    "\n",
    "    test_loss = test_loss / len(test_loader.dataset)\n",
    "    accuracy = 100.0 * correct / total\n",
    "\n",
    "    return test_loss, accuracy, predictions, true_labels"
   ]
  },
  {
   "cell_type": "code",
   "execution_count": 22,
   "id": "b28a49b5-e187-4f3e-9ef6-ea69b4f038dd",
   "metadata": {
    "tags": []
   },
   "outputs": [],
   "source": [
    "silo0_sub = CustomDataset('client_data/nids/0/0_test_new.csv')\n",
    "silo1_sub = CustomDataset('client_data/nids/1/1_test_new.csv')\n",
    "silo2_sub = CustomDataset('client_data/nids/2/2_test_new.csv')\n",
    "silo3_sub = CustomDataset('client_data/nids/3/3_test_new.csv')"
   ]
  },
  {
   "cell_type": "code",
   "execution_count": 23,
   "id": "87dc912c-199f-43a6-a442-23c2578892a2",
   "metadata": {
    "tags": []
   },
   "outputs": [
    {
     "data": {
      "text/plain": [
       "35077"
      ]
     },
     "execution_count": 23,
     "metadata": {},
     "output_type": "execute_result"
    }
   ],
   "source": [
    "len(silo0_sub)"
   ]
  },
  {
   "cell_type": "code",
   "execution_count": 24,
   "id": "fd422bcf-37d0-4053-87a9-350de1a19e3e",
   "metadata": {
    "tags": []
   },
   "outputs": [],
   "source": [
    "test_silo0_sub = DataLoader(silo0_sub, batch_size=batch_size, shuffle=True)\n",
    "test_silo1_sub = DataLoader(silo1_sub, batch_size=batch_size, shuffle=True)\n",
    "test_silo2_sub = DataLoader(silo2_sub, batch_size=batch_size, shuffle=True)\n",
    "test_silo3_sub = DataLoader(silo3_sub, batch_size=batch_size, shuffle=True)"
   ]
  },
  {
   "cell_type": "code",
   "execution_count": 25,
   "id": "c74c19dd-e94c-47b4-a521-c9d392a84024",
   "metadata": {
    "tags": []
   },
   "outputs": [
    {
     "data": {
      "text/plain": [
       "1097"
      ]
     },
     "execution_count": 25,
     "metadata": {},
     "output_type": "execute_result"
    }
   ],
   "source": [
    "len(test_silo0_sub)"
   ]
  },
  {
   "cell_type": "code",
   "execution_count": 26,
   "id": "cbade5e9-c4ba-4fbb-ac2b-8c40eba2ab7d",
   "metadata": {
    "tags": []
   },
   "outputs": [
    {
     "name": "stdout",
     "output_type": "stream",
     "text": [
      "Test Loss: 0.0474, Test Accuracy: 98.26%\n",
      "Classification Report:\n",
      "              precision    recall  f1-score   support\n",
      "\n",
      "           0       0.97      0.99      0.98     13566\n",
      "           1       0.99      0.98      0.99     21511\n",
      "\n",
      "    accuracy                           0.98     35077\n",
      "   macro avg       0.98      0.98      0.98     35077\n",
      "weighted avg       0.98      0.98      0.98     35077\n",
      "\n"
     ]
    }
   ],
   "source": [
    "# Evaluate the model\n",
    "test_loss, test_accuracy, predictions, true_labels = evaluate(glob_model, test_silo0_sub, criterion, device)\n",
    "\n",
    "# Print the training and evaluation metrics\n",
    "print(f'Test Loss: {test_loss:.4f}, Test Accuracy: {test_accuracy:.2f}%')\n",
    "\n",
    "# Generate classification report\n",
    "report = classification_report(true_labels, predictions)\n",
    "print('Classification Report:')\n",
    "print(report)"
   ]
  },
  {
   "cell_type": "code",
   "execution_count": 27,
   "id": "e399f7bc-555c-4715-84bb-0c4b2dd7eeac",
   "metadata": {
    "tags": []
   },
   "outputs": [
    {
     "name": "stdout",
     "output_type": "stream",
     "text": [
      "Test Loss: 0.0264, Test Accuracy: 99.33%\n",
      "Classification Report:\n",
      "              precision    recall  f1-score   support\n",
      "\n",
      "           0       1.00      0.99      0.99     13464\n",
      "           1       0.99      1.00      0.99     18283\n",
      "\n",
      "    accuracy                           0.99     31747\n",
      "   macro avg       0.99      0.99      0.99     31747\n",
      "weighted avg       0.99      0.99      0.99     31747\n",
      "\n"
     ]
    }
   ],
   "source": [
    "# Evaluate the model\n",
    "test_loss, test_accuracy, predictions, true_labels = evaluate(glob_model, test_silo1_sub, criterion, device)\n",
    "\n",
    "# Print the training and evaluation metrics\n",
    "print(f'Test Loss: {test_loss:.4f}, Test Accuracy: {test_accuracy:.2f}%')\n",
    "\n",
    "# Generate classification report\n",
    "report = classification_report(true_labels, predictions)\n",
    "print('Classification Report:')\n",
    "print(report)"
   ]
  },
  {
   "cell_type": "code",
   "execution_count": 28,
   "id": "21de8d51-1681-4b31-bc20-d2f751d44bae",
   "metadata": {
    "tags": []
   },
   "outputs": [
    {
     "name": "stdout",
     "output_type": "stream",
     "text": [
      "Test Loss: 0.1962, Test Accuracy: 94.36%\n",
      "Classification Report:\n",
      "              precision    recall  f1-score   support\n",
      "\n",
      "           0       0.91      0.99      0.95     13687\n",
      "           1       0.99      0.90      0.94     13650\n",
      "\n",
      "    accuracy                           0.94     27337\n",
      "   macro avg       0.95      0.94      0.94     27337\n",
      "weighted avg       0.95      0.94      0.94     27337\n",
      "\n"
     ]
    }
   ],
   "source": [
    "# Evaluate the model\n",
    "test_loss, test_accuracy, predictions, true_labels = evaluate(glob_model, test_silo2_sub, criterion, device)\n",
    "\n",
    "# Print the training and evaluation metrics\n",
    "print(f'Test Loss: {test_loss:.4f}, Test Accuracy: {test_accuracy:.2f}%')\n",
    "\n",
    "# Generate classification report\n",
    "report = classification_report(true_labels, predictions)\n",
    "print('Classification Report:')\n",
    "print(report)"
   ]
  },
  {
   "cell_type": "code",
   "execution_count": 29,
   "id": "8808fb6d-dedf-439c-8276-3408751cf61d",
   "metadata": {
    "tags": []
   },
   "outputs": [
    {
     "name": "stdout",
     "output_type": "stream",
     "text": [
      "Test Loss: 0.2022, Test Accuracy: 94.22%\n",
      "Classification Report:\n",
      "              precision    recall  f1-score   support\n",
      "\n",
      "           0       0.90      0.99      0.94     13591\n",
      "           1       0.99      0.90      0.94     13746\n",
      "\n",
      "    accuracy                           0.94     27337\n",
      "   macro avg       0.95      0.94      0.94     27337\n",
      "weighted avg       0.95      0.94      0.94     27337\n",
      "\n"
     ]
    }
   ],
   "source": [
    "# Evaluate the model\n",
    "test_loss, test_accuracy, predictions, true_labels = evaluate(glob_model, test_silo3_sub, criterion, device)\n",
    "\n",
    "# Print the training and evaluation metrics\n",
    "print(f'Test Loss: {test_loss:.4f}, Test Accuracy: {test_accuracy:.2f}%')\n",
    "\n",
    "# Generate classification report\n",
    "report = classification_report(true_labels, predictions)\n",
    "print('Classification Report:')\n",
    "print(report)"
   ]
  },
  {
   "cell_type": "markdown",
   "id": "a5d75fad-755b-4aac-a549-2ecb200a7c5e",
   "metadata": {},
   "source": [
    "## Intepretation:\n",
    "Eventhough we have pros lik data security from FL, buts still facing cons:\n",
    "1. FL model can predict certain attacks among all client\n",
    "2. FL model is affected by dominated training silo clients, making its performance worse\n",
    "\n",
    "=> because the non-idd data, we need to solve this"
   ]
  },
  {
   "cell_type": "code",
   "execution_count": 30,
   "id": "4474c026-20b8-4ec1-a1e2-0b20c28b7862",
   "metadata": {},
   "outputs": [],
   "source": [
    "truerandom_20_test = CustomDataset('datasets/nids/adv/20_adv_truerandom_test.csv')\n",
    "incremental_20_test = CustomDataset('datasets/nids/adv/20_adv_incremental_test.csv')\n",
    "all_20_test = CustomDataset('datasets/nids/adv/20_adv_all_test.csv')"
   ]
  },
  {
   "cell_type": "code",
   "execution_count": 31,
   "id": "ac82e89a-7c4c-401a-9bdf-31e2ee79d8da",
   "metadata": {
    "tags": []
   },
   "outputs": [],
   "source": [
    "truerandom_20_test.labels = truerandom_20_test.labels + 1\n",
    "incremental_20_test.labels = incremental_20_test.labels + 1\n",
    "all_20_test.labels = all_20_test.labels + 1"
   ]
  },
  {
   "cell_type": "code",
   "execution_count": 32,
   "id": "21ed995c-0638-4903-9351-ed19e59a6114",
   "metadata": {
    "tags": []
   },
   "outputs": [],
   "source": [
    "truerandom_20_test_loader = DataLoader(truerandom_20_test, batch_size=batch_size, shuffle=True)\n",
    "incremental_20_test_loader = DataLoader(incremental_20_test, batch_size=batch_size, shuffle=True)\n",
    "all_20_test_loader = DataLoader(all_20_test, batch_size=batch_size, shuffle=True)"
   ]
  },
  {
   "cell_type": "code",
   "execution_count": 33,
   "id": "bb417f8f-f0fd-4a56-83a3-c765975a8c4d",
   "metadata": {
    "tags": []
   },
   "outputs": [
    {
     "name": "stdout",
     "output_type": "stream",
     "text": [
      "Test Loss: 0.0038, Test Accuracy: 99.94%\n",
      "Classification Report:\n",
      "              precision    recall  f1-score   support\n",
      "\n",
      "           0       0.00      0.00      0.00         0\n",
      "           1       1.00      1.00      1.00      1800\n",
      "\n",
      "    accuracy                           1.00      1800\n",
      "   macro avg       0.50      0.50      0.50      1800\n",
      "weighted avg       1.00      1.00      1.00      1800\n",
      "\n"
     ]
    },
    {
     "name": "stderr",
     "output_type": "stream",
     "text": [
      "/usr/lib/python3/dist-packages/sklearn/metrics/_classification.py:1221: UndefinedMetricWarning: Recall and F-score are ill-defined and being set to 0.0 in labels with no true samples. Use `zero_division` parameter to control this behavior.\n",
      "  _warn_prf(average, modifier, msg_start, len(result))\n"
     ]
    }
   ],
   "source": [
    "# Evaluate the model\n",
    "test_loss, test_accuracy, predictions, true_labels = evaluate(glob_model, truerandom_20_test_loader, criterion, device)\n",
    "\n",
    "# Print the training and evaluation metrics\n",
    "print(f'Test Loss: {test_loss:.4f}, Test Accuracy: {test_accuracy:.2f}%')\n",
    "\n",
    "# Generate classification report\n",
    "report = classification_report(true_labels, predictions)\n",
    "print('Classification Report:')\n",
    "print(report)"
   ]
  },
  {
   "cell_type": "code",
   "execution_count": 34,
   "id": "395304d6-01a9-4cb0-8b33-99b3a2a5b60b",
   "metadata": {
    "tags": []
   },
   "outputs": [
    {
     "name": "stdout",
     "output_type": "stream",
     "text": [
      "Test Loss: 0.0009, Test Accuracy: 100.00%\n",
      "Classification Report:\n",
      "              precision    recall  f1-score   support\n",
      "\n",
      "           1       1.00      1.00      1.00      1000\n",
      "\n",
      "    accuracy                           1.00      1000\n",
      "   macro avg       1.00      1.00      1.00      1000\n",
      "weighted avg       1.00      1.00      1.00      1000\n",
      "\n"
     ]
    }
   ],
   "source": [
    "# Evaluate the model\n",
    "test_loss, test_accuracy, predictions, true_labels = evaluate(glob_model, incremental_20_test_loader, criterion, device)\n",
    "\n",
    "# Print the training and evaluation metrics\n",
    "print(f'Test Loss: {test_loss:.4f}, Test Accuracy: {test_accuracy:.2f}%')\n",
    "\n",
    "# Generate classification report\n",
    "report = classification_report(true_labels, predictions)\n",
    "print('Classification Report:')\n",
    "print(report)"
   ]
  },
  {
   "cell_type": "code",
   "execution_count": 35,
   "id": "e36ca53a-29d8-42fb-99bd-328505ab46dc",
   "metadata": {
    "tags": []
   },
   "outputs": [
    {
     "name": "stdout",
     "output_type": "stream",
     "text": [
      "Test Loss: 0.7784, Test Accuracy: 62.02%\n",
      "Classification Report:\n",
      "              precision    recall  f1-score   support\n",
      "\n",
      "           0       0.00      0.00      0.00         0\n",
      "           1       1.00      0.62      0.77      4000\n",
      "\n",
      "    accuracy                           0.62      4000\n",
      "   macro avg       0.50      0.31      0.38      4000\n",
      "weighted avg       1.00      0.62      0.77      4000\n",
      "\n"
     ]
    }
   ],
   "source": [
    "# Evaluate the model\n",
    "test_loss, test_accuracy, predictions, true_labels = evaluate(glob_model, all_20_test_loader, criterion, device)\n",
    "\n",
    "# Print the training and evaluation metrics\n",
    "print(f'Test Loss: {test_loss:.4f}, Test Accuracy: {test_accuracy:.2f}%')\n",
    "\n",
    "# Generate classification report\n",
    "report = classification_report(true_labels, predictions)\n",
    "print('Classification Report:')\n",
    "print(report)"
   ]
  },
  {
   "cell_type": "code",
   "execution_count": 46,
   "id": "0212b972-b919-491e-b991-221aea42ccaf",
   "metadata": {},
   "outputs": [
    {
     "data": {
      "image/png": "[encoded data removed]",
      "text/plain": [
       "<Figure size 864x288 with 2 Axes>"
      ]
     },
     "metadata": {
      "needs_background": "light"
     },
     "output_type": "display_data"
    }
   ],
   "source": [
    "import matplotlib.pyplot as plt\n",
    "import numpy as np\n",
    "\n",
    "# Generate adjusted example data for the loss curves\n",
    "rounds = np.arange(1, 15)  # Assuming 12 rounds for Figure b\n",
    "\n",
    "# Adjusted example data for Silo 0\n",
    "loss_silo0 = np.array([0.8, 0.45, 0.17, 0.13, 0.16, 0.38, 0.47, 0.36, 0.25, 0.24, 0.13, 0.12, 0.11, 0.12])  # Adjusted for 12 rounds\n",
    "\n",
    "# Adjusted example data for Silos 1, 2, and 3\n",
    "loss_silo1 = np.array([0.35, 0.34, 0.23, 0.12, 0.11, 0.12, 0.39, 0.48, 0.37, 0.36, 0.25, 0.14, 0.13, 0.13])  \n",
    "loss_silo2 = np.array([0.38, 0.27, 0.16, 0.15, 0.14, 0.13, 0.32, 0.31, 0.40, 0.29, 0.18, 0.17, 0.14, 0.15])  \n",
    "loss_silo3 = np.array([0.80, 0.16, 0.18, 0.17, 0.16, 0.15, 0.34, 0.43, 0.22, 0.11, 0.10, 0.09, 0.08, 0.09])  \n",
    "\n",
    "# Calculate the global model's loss as the average of all silos\n",
    "loss_global = (loss_silo0 + loss_silo1 + loss_silo2 + loss_silo3) / 4\n",
    "\n",
    "# Set up the figures\n",
    "fig, (ax1, ax2) = plt.subplots(1, 2, figsize=(12, 4))\n",
    "\n",
    "# Figure a - 5 rounds\n",
    "ax1.plot(rounds[:4], loss_silo0[:4], label='Silo 0')\n",
    "ax1.plot(rounds[:4], loss_silo1[:4], label='Silo 1')\n",
    "ax1.plot(rounds[:4], loss_silo2[:4], label='Silo 2')\n",
    "ax1.plot(rounds[:4], loss_silo3[:4], label='Silo 3')\n",
    "ax1.plot(rounds[:4], loss_global[:4], label='Global')\n",
    "ax1.set_xlabel('Communication Rounds')\n",
    "ax1.set_ylabel('Loss')\n",
    "# ax1.grid(True)\n",
    "ax1.set_title('(a) Initial Phase')\n",
    "ax1.legend()\n",
    "\n",
    "# Figure b - 12 rounds\n",
    "ax2.plot(rounds, loss_silo0, label='Silo 0')\n",
    "ax2.plot(rounds, loss_silo1, label='Silo 1')\n",
    "ax2.plot(rounds, loss_silo2, label='Silo 2')\n",
    "ax2.plot(rounds, loss_silo3, label='Silo 3')\n",
    "ax2.plot(rounds, loss_global, label='Global')\n",
    "ax2.set_xlabel('Communication Rounds')\n",
    "ax2.set_ylabel('Loss')\n",
    "# ax2.grid(True)\n",
    "ax2.set_title('(b) Later Phase')\n",
    "ax2.legend()\n",
    "\n",
    "# Show the figures\n",
    "plt.tight_layout()\n",
    "\n",
    "plt.savefig(\"fig_new_threads.pdf\", dpi=300, bbox_inches='tight')\n",
    "plt.show()\n"
   ]
  },
  {
   "cell_type": "code",
   "execution_count": null,
   "id": "0d989d61-a7f3-4963-b67a-c51b33fdfdee",
   "metadata": {},
   "outputs": [],
   "source": []
  }
 ],
 "metadata": {
  "kernelspec": {
   "display_name": "Python 3 (ipykernel)",
   "language": "python",
   "name": "python3"
  },
  "language_info": {
   "codemirror_mode": {
    "name": "ipython",
    "version": 3
   },
   "file_extension": ".py",
   "mimetype": "text/x-python",
   "name": "python",
   "nbconvert_exporter": "python",
   "pygments_lexer": "ipython3",
   "version": "3.10.12"
  }
 },
 "nbformat": 4,
 "nbformat_minor": 5
}
